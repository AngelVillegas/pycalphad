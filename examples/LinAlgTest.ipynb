{
 "cells": [
  {
   "cell_type": "markdown",
   "metadata": {},
   "source": [
    "This is an attempt at sketching the generalized equilibrium solver with N-D mapping."
   ]
  },
  {
   "cell_type": "code",
   "execution_count": 2,
   "metadata": {
    "collapsed": false
   },
   "outputs": [
    {
     "name": "stdout",
     "output_type": "stream",
     "text": [
      "10 loops, best of 3: 54.1 ms per loop\n"
     ]
    }
   ],
   "source": [
    "%%timeit\n",
    "import numpy as np\n",
    "from itertools import chain\n",
    "\n",
    "x1 = np.random.RandomState(42).rand(100000, 3)\n",
    "x1 /= x1.sum(axis=1)[:, np.newaxis]\n",
    "x1 = np.concatenate((np.array([[1e-16, 1e-16, 1], [1e-16, 1, 1e-16], [1, 1e-16, 1e-16]]), x1), axis=0)\n",
    "energies = -8.3145*1000*np.sum(x1*np.log(x1), axis=-1)\n",
    "energies[[0, 1, 2]] = [100000, 100000, 100000]\n",
    "dof_values = np.array([[1/3, 1/3, 1/3], [0.2, 0.3, 0.5], [0.3, 0.2, 0.5], [0.5, 0.3, 0.2]])\n",
    "dof_energies = np.array([100000., 100000., 100000., 100000.])\n",
    "dof_simplices = np.empty(dof_values.shape, dtype=np.int)\n",
    "dof_simplices[..., :] = np.arange(x1.shape[-1])\n",
    "dof_potentials = np.empty(dof_values.shape, dtype=np.float)\n",
    "dof_potentials[...] = np.inf\n",
    "trial_points = np.empty(tuple(chain(dof_values.shape[0:-1])), dtype=np.int)\n",
    "# Initialize trial point as lowest energy point in the system\n",
    "# Trial simplices will be the current simplex with each vertex replaced by the trial point\n",
    "trial_points[...] = np.argmin(energies, axis=-1)\n",
    "trial_simplices = np.empty(tuple(chain(dof_values.shape, [x1.shape[-1]])), dtype=np.int)\n",
    "trial_simplices[..., :, :] = np.tile(np.arange(x1.shape[-1]), (x1.shape[-1], 1))\n",
    "trial_simplices[..., np.arange(x1.shape[-1]), np.arange(x1.shape[-1])] = trial_points[..., np.newaxis]\n",
    "#trial_simplices[..., 0, :] = 0\n",
    "trial_matrix = np.swapaxes(x1[trial_simplices], -1, -2)\n",
    "nondegenerate_indices = np.all(np.linalg.svd(trial_matrix, compute_uv=False) > 1e-6, axis=-1)\n",
    "nondegenerate_simplices = trial_simplices[nondegenerate_indices]\n",
    "dof_sum_array = np.sum(nondegenerate_indices, axis=-1, dtype=np.int)\n",
    "dof_index_array = np.repeat(np.arange(dof_values.shape[-2], dtype=np.int), dof_sum_array.astype(np.int))\n",
    "fractions = np.linalg.solve(trial_matrix[nondegenerate_indices], dof_values[dof_index_array])\n",
    "bounding_simplices = np.all(fractions > 0, axis=-1)\n",
    "candidate_simplices = nondegenerate_simplices[bounding_simplices]\n",
    "candidate_potentials = np.linalg.solve(x1[candidate_simplices],\n",
    "                                       energies[candidate_simplices])\n",
    "\n",
    "dof_index_array = np.repeat(np.arange(dof_values.shape[-2], dtype=np.int), trial_simplices.shape[-2])\n",
    "\n",
    "target_values = dof_values[dof_index_array[bounding_simplices]]\n",
    "candidate_energies = np.tensordot(candidate_potentials, target_values, axes=(-1, -1))\n",
    "comparison_matrix = np.where(dof_index_array[bounding_simplices] == np.arange(dof_values.shape[-2])[..., np.newaxis],\n",
    "                             candidate_energies, np.inf)\n",
    "lowest_candidate_indices = np.argmin(comparison_matrix, axis=-1)\n",
    "#print((candidate_energies[..., np.arange(dof_values.shape[-2]), lowest_candidate_indices] < dof_energies))\n",
    "dof_simplices = np.where((candidate_energies[..., np.arange(dof_values.shape[-2]),\n",
    "                                             lowest_candidate_indices] < dof_energies)[..., np.newaxis],\n",
    "                         candidate_simplices[lowest_candidate_indices], dof_simplices)\n",
    "#print(dof_simplices)\n",
    "dof_potentials = np.where((candidate_energies[..., np.arange(dof_values.shape[-2]),\n",
    "                                             lowest_candidate_indices] < dof_energies)[..., np.newaxis],\n",
    "                          candidate_potentials[lowest_candidate_indices], dof_potentials)\n",
    "#print(dof_simplices)\n",
    "#print(dof_potentials)\n",
    "dof_energies = np.minimum(dof_energies, candidate_energies[..., np.arange(dof_values.shape[-2]),\n",
    "                                                           lowest_candidate_indices])\n",
    "driving_forces = np.tensordot(dof_potentials, x1, axes=(-1, -1)) - energies\n",
    "trial_points = np.argmax(driving_forces, axis=-1)\n",
    "found_equilibrium = np.all(driving_forces < 1e-4 * 8.3145 * 10000)\n",
    "#print(driving_forces)\n",
    "#print(trial_points)\n",
    "#print(found_equilibrium)\n",
    "#print(dof_energies)"
   ]
  },
  {
   "cell_type": "code",
   "execution_count": null,
   "metadata": {
    "collapsed": true
   },
   "outputs": [],
   "source": []
  }
 ],
 "metadata": {
  "kernelspec": {
   "display_name": "Python 3",
   "language": "python",
   "name": "python3"
  },
  "language_info": {
   "codemirror_mode": {
    "name": "ipython",
    "version": 3
   },
   "file_extension": ".py",
   "mimetype": "text/x-python",
   "name": "python",
   "nbconvert_exporter": "python",
   "pygments_lexer": "ipython3",
   "version": "3.3.5"
  }
 },
 "nbformat": 4,
 "nbformat_minor": 0
}
