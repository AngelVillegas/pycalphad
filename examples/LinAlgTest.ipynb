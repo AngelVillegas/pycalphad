{
 "cells": [
  {
   "cell_type": "markdown",
   "metadata": {},
   "source": [
    "This is an attempt at sketching the generalized equilibrium solver with N-D mapping."
   ]
  },
  {
   "cell_type": "code",
   "execution_count": 3,
   "metadata": {
    "collapsed": false
   },
   "outputs": [],
   "source": [
    "#%%time\n",
    "def test_func():\n",
    "    import numpy as np\n",
    "    from itertools import chain\n",
    "\n",
    "    x1 = np.random.RandomState(42).rand(10000, 3)\n",
    "    x1 /= x1.sum(axis=1)[:, np.newaxis]\n",
    "    x1 = np.concatenate((np.array([[1e-16, 1e-16, 1], [1e-16, 1, 1e-16], [1, 1e-16, 1e-16]]), x1), axis=0)\n",
    "    energies = 8.3145*1000*np.sum(x1*np.log(x1), axis=-1)\n",
    "    energies[[0, 1, 2]] = [100000, 100000, 100000]\n",
    "    dof_values = np.random.RandomState(2).rand(1000, 3)\n",
    "    dof_values /= dof_values.sum(axis=1)[:, np.newaxis]\n",
    "    dof_energies = 100000.\n",
    "    dof_simplices = np.empty(dof_values.shape, dtype=np.int)\n",
    "    dof_simplices[..., :] = np.arange(x1.shape[-1])\n",
    "    dof_potentials = np.empty(dof_values.shape, dtype=np.float)\n",
    "    dof_potentials[...] = np.inf\n",
    "    trial_points = np.empty(tuple(chain(dof_values.shape[0:-1])), dtype=np.int)\n",
    "    # Initialize trial point as lowest energy point in the system\n",
    "    # Trial simplices will be the current simplex with each vertex replaced by the trial point\n",
    "    trial_points[...] = np.argmin(energies, axis=-1)\n",
    "    max_iterations = 50\n",
    "    iterations = 0\n",
    "    while iterations < max_iterations:\n",
    "        #print('ITERATION ', iterations)\n",
    "        trial_simplices = np.empty(tuple(chain(dof_values.shape, [x1.shape[-1]])), dtype=np.int)\n",
    "        trial_simplices[..., :, :] = dof_simplices[..., np.newaxis, :]\n",
    "        trial_simplices[..., np.arange(x1.shape[-1]), np.arange(x1.shape[-1])] = trial_points[..., np.newaxis]\n",
    "        trial_matrix = np.swapaxes(x1[trial_simplices], -1, -2)\n",
    "        nondegenerate_indices = np.all(np.linalg.svd(trial_matrix, compute_uv=False) > 1e-12, axis=-1)\n",
    "        nondegenerate_simplices = trial_simplices[nondegenerate_indices]\n",
    "        dof_sum_array = np.sum(nondegenerate_indices, axis=-1, dtype=np.int)\n",
    "        dof_index_array = np.repeat(np.arange(dof_values.shape[-2], dtype=np.int), dof_sum_array.astype(np.int))\n",
    "        fractions = np.linalg.solve(trial_matrix[nondegenerate_indices], dof_values[dof_index_array])\n",
    "        bounding_simplices = np.all(fractions > 0, axis=-1)\n",
    "        candidate_simplices = nondegenerate_simplices[bounding_simplices]\n",
    "        #print('candidate_simplices', candidate_simplices)\n",
    "        candidate_potentials = np.linalg.solve(x1[candidate_simplices],\n",
    "                                               energies[candidate_simplices])\n",
    "        dof_index_array = dof_index_array[bounding_simplices]\n",
    "\n",
    "        target_values = dof_values[dof_index_array]\n",
    "        candidate_energies = np.tensordot(candidate_potentials, target_values, axes=(-1, -1))\n",
    "        #print('candidate energies', len(candidate_energies))\n",
    "        comparison_matrix = np.where(dof_index_array == np.arange(dof_values.shape[-2])[..., np.newaxis],\n",
    "                                     candidate_energies, np.inf)\n",
    "        lowest_candidate_indices = np.argmin(comparison_matrix, axis=-1)\n",
    "        dof_simplices = np.where((candidate_energies[..., np.arange(dof_values.shape[-2]),\n",
    "                                                     lowest_candidate_indices] < dof_energies)[..., np.newaxis],\n",
    "                                 candidate_simplices[lowest_candidate_indices], dof_simplices)\n",
    "        #print(dof_simplices)\n",
    "        dof_energies = np.minimum(dof_energies, candidate_energies[..., np.arange(dof_values.shape[-2]),\n",
    "                                                                   lowest_candidate_indices])\n",
    "        #print('energies', dof_energies)\n",
    "        dof_potentials = np.linalg.solve(x1[dof_simplices], energies[dof_simplices])\n",
    "        #print('simplices', dof_simplices)\n",
    "        #print('potentials', dof_potentials)\n",
    "        driving_forces = np.tensordot(dof_potentials, x1, axes=(-1, -1)) - energies\n",
    "        trial_points = np.argmax(driving_forces, axis=-1)\n",
    "        #print('trial points', trial_points)\n",
    "        #print('REMAINING DRIVING FORCE ', np.amax(driving_forces, axis=-1))\n",
    "        if np.all(driving_forces < 1e-4 * 8.3145 * 1000):\n",
    "            break\n",
    "        iterations += 1\n",
    "    #print(driving_forces)\n",
    "%lprun -f test_func test_func()\n",
    "#test_func()"
   ]
  },
  {
   "cell_type": "code",
   "execution_count": 8,
   "metadata": {
    "collapsed": false
   },
   "outputs": [
    {
     "name": "stdout",
     "output_type": "stream",
     "text": [
      "CPU times: user 393 ms, sys: 25 ms, total: 418 ms\n",
      "Wall time: 417 ms\n",
      "CPU times: user 415 ms, sys: 20 ms, total: 435 ms\n",
      "Wall time: 434 ms\n"
     ]
    },
    {
     "data": {
      "text/plain": [
       "True"
      ]
     },
     "execution_count": 8,
     "metadata": {},
     "output_type": "execute_result"
    }
   ],
   "source": [
    "import numpy as np\n",
    "x1 = np.random.rand(100, 10)\n",
    "x2 = np.random.rand(100000, 10)\n",
    "%time x4 = np.tensordot(x1, x2, axes=(-1, -1))\n",
    "%time x5 = np.inner(x1, x2)\n",
    "np.allclose(x4, x5)"
   ]
  },
  {
   "cell_type": "code",
   "execution_count": null,
   "metadata": {
    "collapsed": true
   },
   "outputs": [],
   "source": []
  }
 ],
 "metadata": {
  "kernelspec": {
   "display_name": "Python 3",
   "language": "python",
   "name": "python3"
  },
  "language_info": {
   "codemirror_mode": {
    "name": "ipython",
    "version": 3
   },
   "file_extension": ".py",
   "mimetype": "text/x-python",
   "name": "python",
   "nbconvert_exporter": "python",
   "pygments_lexer": "ipython3",
   "version": "3.3.5"
  }
 },
 "nbformat": 4,
 "nbformat_minor": 0
}
