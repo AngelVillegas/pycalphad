{
 "metadata": {
  "name": "",
  "signature": "sha256:4ae088e363df8aee67cb88f6c78f47e96ffb41954037d3b2997bd0b3655216cf"
 },
 "nbformat": 3,
 "nbformat_minor": 0,
 "worksheets": [
  {
   "cells": [
    {
     "cell_type": "code",
     "collapsed": false,
     "input": [
      "%matplotlib inline\n",
      "from pycalphad import Database, binplot, energy_surf\n",
      "\n",
      "db = Database('alfe_sei.TDB')\n",
      "\n",
      "my_phases = ['LIQUID', 'B2_BCC', 'FCC_A1', 'HCP_A3', 'AL5FE2', 'AL2FE', 'AL13FE4', 'AL5FE4']\n",
      "%time binplot(db, ['AL', 'FE', 'VA'] , my_phases, 'X(AL)', 300, 2000, steps=100, pdens=200, ast='numexpr')"
     ],
     "language": "python",
     "metadata": {},
     "outputs": []
    },
    {
     "cell_type": "code",
     "collapsed": false,
     "input": [
      "from pycalphad import energy_surf\n",
      "import numpy as np\n",
      "import matplotlib.patches as mpatches\n",
      "colorlist = {}\n",
      "\n",
      "# colors from Junwei Huang, March 21 2013\n",
      "# exclude green and red because of their special meaning on the diagram\n",
      "ColorValues=[\"0000FF\", \"FFFF00\", \"FF00FF\", \"00FFFF\", \"000000\", \n",
      "        \"800000\", \"008000\", \"000080\", \"808000\", \"800080\", \"008080\", \"808080\", \n",
      "        \"C00000\", \"00C000\", \"0000C0\", \"C0C000\", \"C000C0\", \"00C0C0\", \"C0C0C0\", \n",
      "        \"400000\", \"004000\", \"000040\", \"404000\", \"400040\", \"004040\", \"404040\", \n",
      "        \"200000\", \"002000\", \"000020\", \"202000\", \"200020\", \"002020\", \"202020\", \n",
      "        \"600000\", \"006000\", \"000060\", \"606000\", \"600060\", \"006060\", \"606060\", \n",
      "        \"A00000\", \"00A000\", \"0000A0\", \"A0A000\", \"A000A0\", \"00A0A0\", \"A0A0A0\", \n",
      "        \"E00000\", \"00E000\", \"0000E0\", \"E0E000\", \"E000E0\", \"00E0E0\", \"E0E0E0\"]\n",
      "M=len(ColorValues)\n",
      "\n",
      "phasecount = 0\n",
      "legend_handles = []\n",
      "for phase in my_phases:\n",
      "    colorlist[phase] = \"#\"+ColorValues[np.mod(phasecount,M)]\n",
      "    legend_handles.append(mpatches.Patch(color=colorlist[phase], label=phase))\n",
      "    phasecount = phasecount + 1\n",
      "\n",
      "\n",
      "ax = None\n",
      "\n",
      "nrg_df, callables = energy_surf(db, ['AL', 'FE', 'VA'], my_phases, T=600, points_per_phase=100)\n",
      "for phase in my_phases:\n",
      "    #if phase == 'AL2FE' or phase == 'AL5FE2':\n",
      "    #    # if we don't exclude these, the energy scale on the plot gets squished\n",
      "    #    continue\n",
      "    ax = nrg_df[nrg_df.Phase == phase].plot(kind='scatter', x='X(AL)', y='GM', ax=ax, color=colorlist[phase], s=1, xlim=(0,1))\n",
      "ax.legend(handles=legend_handles, loc='center left', bbox_to_anchor=(1, 0.6))"
     ],
     "language": "python",
     "metadata": {},
     "outputs": []
    },
    {
     "cell_type": "code",
     "collapsed": false,
     "input": [],
     "language": "python",
     "metadata": {},
     "outputs": []
    }
   ],
   "metadata": {}
  }
 ]
}