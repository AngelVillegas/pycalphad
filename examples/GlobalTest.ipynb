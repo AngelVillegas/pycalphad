{
 "metadata": {
  "name": "",
  "signature": "sha256:8bb6f723402009e8abe5a7bcd5cf67d08890be6468fe7b5c22a51d4b4fe6d2a8"
 },
 "nbformat": 3,
 "nbformat_minor": 0,
 "worksheets": [
  {
   "cells": [
    {
     "cell_type": "code",
     "collapsed": false,
     "input": [
      "%matplotlib inline\n",
      "%load_ext autoreload\n",
      "%autoreload 2 # Make it easier to test by autoreloading modules on execution"
     ],
     "language": "python",
     "metadata": {},
     "outputs": [
      {
       "output_type": "stream",
       "stream": "stdout",
       "text": [
        "The autoreload extension is already loaded. To reload it, use:\n",
        "  %reload_ext autoreload\n"
       ]
      }
     ],
     "prompt_number": 9
    },
    {
     "cell_type": "code",
     "collapsed": false,
     "input": [
      "setup = '''\n",
      "import calphad.libcalphadcpp as lcp\n",
      "from calphad.minimize.globmin import GlobalMinimizer\n",
      "import numpy as np\n",
      "import matplotlib.pyplot as plt\n",
      "# Load thermodynamic database\n",
      "maindb = lcp.Database(\"rose.tdb\")\n",
      "if maindb == None:\n",
      "\tsys.exit(\"Failed to load database\")\n",
      "\n",
      "# Set equilibrium conditions\n",
      "conds = lcp.evalconditions()\n",
      "conds.statevars['T'] = 2500\n",
      "conds.statevars['P'] = 101325\n",
      "conds.statevars['N'] = 1\n",
      "conds.elements.append(\"FE\")\n",
      "conds.elements.append(\"NI\")\n",
      "conds.elements.append(\"CR\")\n",
      "conds.phases[\"TEST\"] = lcp.PhaseStatus.ENTERED\n",
      "\n",
      "# Configure variable names\n",
      "indices = lcp.IndexBiMap()\n",
      "varmap = lcp.build_variable_map ( maindb.get_phases(), conds, indices )\n",
      "cmps = {}\n",
      "\n",
      "# Create phases\n",
      "for ph in maindb.get_phases():\n",
      "    status = conds.phases[ph.key()]\n",
      "    if (status == lcp.PhaseStatus.ENTERED):\n",
      "        cmps[ph.key()] = lcp.CompositionSet(ph.data(), maindb.get_parameter_set(), varmap, indices)\n",
      "\n",
      "engine = GlobalMinimizer(cmps, varmap, conds)\n",
      "'''\n",
      "\n",
      "def timed_code(density):\n",
      "    return '''\n",
      "    engine.initial_subdivisions_per_axis='''+str(density)+'''\n",
      "    points = engine.point_sample(cmps['TEST'], varmap, conds)\n",
      "    '''"
     ],
     "language": "python",
     "metadata": {},
     "outputs": [],
     "prompt_number": 10
    },
    {
     "cell_type": "code",
     "collapsed": false,
     "input": [
      "# Benchmark point sampling for some given conditions by examining the mesh density effect\n",
      "import timeit\n",
      "import numpy as np\n",
      "densities = np.arange(10, 100, 10, dtype=np.int) # interval of 10 from 10 to 100\n",
      "times = []\n",
      "for density in densities:\n",
      "    t = timeit.Timer(timed_code(density), setup=setup)\n",
      "    time_trials = t.repeat(repeat=3,number=1)\n",
      "    times.append(np.min(time_trials)) "
     ],
     "language": "python",
     "metadata": {},
     "outputs": [],
     "prompt_number": 11
    },
    {
     "cell_type": "code",
     "collapsed": false,
     "input": [
      "import matplotlib.pyplot as plt\n",
      "xp = np.linspace(10, 90, 100)\n",
      "fit = np.poly1d(np.polyfit(densities, times, 2))\n",
      "plt.figure(figsize=(9,4))\n",
      "plt.plot(densities, times, 'ko', xp, fit(xp))\n",
      "plt.xlabel('Initial Mesh Density (subdivisions per axis)')\n",
      "plt.ylabel('Time (seconds)')\n",
      "plt.title('Mesh Density Effect for Ternary System with Miscibility Gap')\n",
      "plt.show()\n",
      "# System shows O(n^2) scaling"
     ],
     "language": "python",
     "metadata": {},
     "outputs": [
      {
       "metadata": {},
       "output_type": "display_data",
       "png": "[encoded data removed]",
       "text": [
        "<matplotlib.figure.Figure at 0x7f6d56a491d0>"
       ]
      }
     ],
     "prompt_number": 20
    },
    {
     "cell_type": "code",
     "collapsed": false,
     "input": [],
     "language": "python",
     "metadata": {},
     "outputs": []
    }
   ],
   "metadata": {}
  }
 ]
}