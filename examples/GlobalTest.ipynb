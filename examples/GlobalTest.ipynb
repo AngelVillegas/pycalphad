{
 "metadata": {
  "name": "",
  "signature": "sha256:8d70bc62d73962be49ff9fb29b13cea9cfa484f7ab47f34febd78d6dd73585ae"
 },
 "nbformat": 3,
 "nbformat_minor": 0,
 "worksheets": [
  {
   "cells": [
    {
     "cell_type": "code",
     "collapsed": false,
     "input": [
      "%matplotlib inline"
     ],
     "language": "python",
     "metadata": {},
     "outputs": [],
     "prompt_number": 16
    },
    {
     "cell_type": "code",
     "collapsed": false,
     "input": [
      "setup = '''\n",
      "import calphad.libcalphadcpp as lcp\n",
      "from calphad.minimize.globmin import GlobalMinimizer\n",
      "import numpy as np\n",
      "import matplotlib.pyplot as plt\n",
      "# Load thermodynamic database\n",
      "maindb = lcp.Database(\"rose.tdb\")\n",
      "if maindb == None:\n",
      "\tsys.exit(\"Failed to load database\")\n",
      "\n",
      "# Set equilibrium conditions\n",
      "conds = lcp.evalconditions()\n",
      "conds.statevars['T'] = 2500\n",
      "conds.statevars['P'] = 101325\n",
      "conds.statevars['N'] = 1\n",
      "conds.elements.append(\"FE\")\n",
      "conds.elements.append(\"NI\")\n",
      "conds.elements.append(\"CR\")\n",
      "conds.phases[\"TEST\"] = lcp.PhaseStatus.ENTERED\n",
      "\n",
      "# Configure variable names\n",
      "indices = lcp.IndexBiMap()\n",
      "varmap = lcp.build_variable_map ( maindb.get_phases(), conds, indices )\n",
      "cmps = {}\n",
      "\n",
      "# Create phases\n",
      "for ph in maindb.get_phases():\n",
      "    status = conds.phases[ph.key()]\n",
      "    if (status == lcp.PhaseStatus.ENTERED):\n",
      "        cmps[ph.key()] = lcp.CompositionSet(ph.data(), maindb.get_parameter_set(), varmap, indices)\n",
      "'''"
     ],
     "language": "python",
     "metadata": {},
     "outputs": [],
     "prompt_number": 17
    },
    {
     "cell_type": "code",
     "collapsed": false,
     "input": [
      "# Benchmark hull for some given conditions by examining the mesh density effect\n",
      "import timeit\n",
      "import numpy as np\n",
      "densities = np.arange(10, 100, 10, dtype=np.int) # interval of 10 from 10 to 100\n",
      "times = []\n",
      "for density in densities:\n",
      "    t = timeit.Timer('GlobalMinimizer(cmps, varmap, conds, initial_subdivisions_per_axis='+str(density)+')', setup=setup)\n",
      "    time_trials = t.repeat(repeat=5,number=1)\n",
      "    times.append(np.mean(time_trials)) "
     ],
     "language": "python",
     "metadata": {},
     "outputs": [],
     "prompt_number": 18
    },
    {
     "cell_type": "code",
     "collapsed": false,
     "input": [
      "time_versus_density\n",
      "import matplotlib.pyplot as plt\n",
      "plt.plot(densities, times)\n",
      "plt.xlabel('Mesh Density (subdivisions per axis)')\n",
      "plt.ylabel('Time (seconds)')\n",
      "plt.title('Mesh Density Effect for Ternary System with Miscibility Gap')\n",
      "plt.show()"
     ],
     "language": "python",
     "metadata": {},
     "outputs": [
      {
       "metadata": {},
       "output_type": "display_data",
       "png": "[encoded data removed]",
       "text": [
        "<matplotlib.figure.Figure at 0x7fb92cda21d0>"
       ]
      }
     ],
     "prompt_number": 19
    },
    {
     "cell_type": "code",
     "collapsed": false,
     "input": [],
     "language": "python",
     "metadata": {},
     "outputs": [],
     "prompt_number": 19
    }
   ],
   "metadata": {}
  }
 ]
}