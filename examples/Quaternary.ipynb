{
 "metadata": {
  "name": "",
  "signature": "sha256:f16dc6656370f12e806c81363238b70285db7938073f0b65f767f29fc87f4471"
 },
 "nbformat": 3,
 "nbformat_minor": 0,
 "worksheets": [
  {
   "cells": [
    {
     "cell_type": "code",
     "collapsed": false,
     "input": [
      "%matplotlib inline\n",
      "%load_ext autoreload\n",
      "%autoreload 2 # Make it easier to test by autoreloading modules on execution"
     ],
     "language": "python",
     "metadata": {},
     "outputs": [
      {
       "output_type": "stream",
       "stream": "stdout",
       "text": [
        "The autoreload extension is already loaded. To reload it, use:\n",
        "  %reload_ext autoreload\n"
       ]
      }
     ],
     "prompt_number": 5
    },
    {
     "cell_type": "code",
     "collapsed": false,
     "input": [
      "import calphad.libcalphadcpp as lcp\n",
      "from calphad.minimize.globmin import GlobalMinimizer\n",
      "import numpy as np\n",
      "import matplotlib.pyplot as plt\n",
      "# Load thermodynamic database\n",
      "maindb = lcp.Database(\"bigrose.tdb\")\n",
      "if maindb == None:\n",
      "\tsys.exit(\"Failed to load database\")\n",
      "\n",
      "test_elements = ['H','HE','LI','BE','B','C','N','O','F','NE']\n",
      "conds = lcp.evalconditions()\n",
      "conds.statevars['T'] = 2500\n",
      "conds.statevars['P'] = 101325\n",
      "conds.statevars['N'] = 1\n",
      "conds.elements.append('H')\n",
      "conds.elements.append('HE')\n",
      "conds.elements.append('LI')\n",
      "conds.elements.append('BE')\n",
      "conds.phases[\"TEST\"] = lcp.PhaseStatus.ENTERED\n",
      "\n",
      "# Configure variable names\n",
      "indices = lcp.IndexBiMap()\n",
      "varmap = lcp.build_variable_map ( maindb.get_phases(), conds, indices )\n",
      "cmps = {}\n",
      "# Create phases\n",
      "for ph in maindb.get_phases():\n",
      "    status = conds.phases[ph.key()]\n",
      "    if (status == lcp.PhaseStatus.ENTERED):\n",
      "        cmps[ph.key()] = lcp.CompositionSet(ph.data(), maindb.get_parameter_set(), varmap, indices)"
     ],
     "language": "python",
     "metadata": {},
     "outputs": [],
     "prompt_number": 6
    },
    {
     "cell_type": "code",
     "collapsed": false,
     "input": [
      "# Initialize minimizer and sample points\n",
      "engine = lcp.GlobalMinimizer()\n",
      "engine.initial_subdivisions_per_axis = 20\n",
      "engine.discard_unstable = False\n",
      "points = engine.point_sample(cmps['TEST'], varmap, conds)"
     ],
     "language": "python",
     "metadata": {},
     "outputs": [],
     "prompt_number": 7
    },
    {
     "cell_type": "code",
     "collapsed": false,
     "input": [
      "points"
     ],
     "language": "python",
     "metadata": {},
     "outputs": [
      {
       "metadata": {},
       "output_type": "pyout",
       "prompt_number": 8,
       "text": [
        "<calphad.libcalphadcpp.NestedNumberVector at 0x7f84a2b900d0>"
       ]
      }
     ],
     "prompt_number": 8
    },
    {
     "cell_type": "code",
     "collapsed": false,
     "input": [],
     "language": "python",
     "metadata": {},
     "outputs": []
    }
   ],
   "metadata": {}
  }
 ]
}