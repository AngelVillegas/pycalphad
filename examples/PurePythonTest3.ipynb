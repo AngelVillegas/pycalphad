{
 "metadata": {
  "name": "",
  "signature": "sha256:cf5829ca140b4709500c5e1f79f2dec2baed00525166fdec8039bf8c0a9a5572"
 },
 "nbformat": 3,
 "nbformat_minor": 0,
 "worksheets": [
  {
   "cells": [
    {
     "cell_type": "code",
     "collapsed": false,
     "input": [
      "%matplotlib inline\n",
      "from pycalphad import Database, Equilibrium\n",
      "from pycalphad.variables import *\n",
      "\n",
      "db = Database('bigrose.tdb')\n",
      "my_phases = ['TEST']\n",
      "%time Equilibrium(db, ['LI', 'H', 'HE'] , my_phases, {X('H'): 0.333, X('HE'):0.333}, T=2000, points_per_phase=1000, ast='numpy')"
     ],
     "language": "python",
     "metadata": {},
     "outputs": [
      {
       "output_type": "stream",
       "stream": "stdout",
       "text": [
        "edge_length: 0.6642424850834301\n",
        "edge_length: 0.6116455778371872\n",
        "edge_length: 0.6366475580476513\n",
        "[TEST1, TEST0LI, TEST0H, TEST0HE, TEST2, TEST0LI, TEST0H, TEST0HE, TEST3, TEST0LI, TEST0H, TEST0HE]\n",
        "[0.34264076011398542, 0.4900031961964043, 0.02908942255417531, 0.4809073812494204, 0.35309585520853987, 0.4862966613167901, 0.48110905122437064, 0.03259428745883922, 0.30426338467747471, 0.03799791434673219, 0.5146637460252865, 0.44733833962798125]\n",
        "  NIT    FC           OBJFUN            GNORM\n",
        "    1     1    -1.200299E+04     2.140731E+04\n",
        "    2     5    -1.200648E+04     2.125835E+04\n",
        "    3     8    -1.201355E+04     2.129238E+04\n",
        "    4    11    -1.201558E+04     2.129951E+04\n",
        "    5    14    -1.201624E+04     2.134015E+04\n",
        "    6    17    -1.201635E+04     2.135798E+04\n",
        "    7    21    -1.201639E+04     2.135303E+04\n",
        "    8    24    -1.201644E+04     2.137123E+04\n",
        "    9    27    -1.201646E+04     2.136795E+04\n",
        "   10    28    -1.201647E+04     2.144362E+04\n",
        "   11    30    -1.201647E+04     2.144645E+04\n",
        "Optimization terminated successfully.    (Exit mode 0)\n",
        "            Current function value: -12016.4717834\n",
        "            Iterations: 11\n",
        "            Function evaluations: 30\n",
        "            Gradient evaluations: 11\n",
        "     nit: 11\n",
        "    nfev: 30\n",
        " message: 'Optimization terminated successfully.'\n",
        "     fun: -12016.471783385285\n",
        " success: True\n",
        "  status: 0\n",
        "     jac: array([-12016.47178859,   -108.2094278 ,   -111.55631889,   -110.59353913,\n",
        "       -12016.47136004,  -1172.81763961,  -1169.97578903,  -1175.78991024,\n",
        "       -12016.47220429,  -2745.35453751,  -2744.95799552,  -2743.81024646,\n",
        "            0.        ])\n",
        "    njev: 11\n",
        "       x: array([ 0.33418096,  0.48188384,  0.03649442,  0.48162174,  0.3340105 ,\n",
        "        0.48160832,  0.48192086,  0.03647082,  0.33180854,  0.03650683,\n",
        "        0.48168304,  0.48181013])\n",
        "CPU times: user 142 ms, sys: 0 ns, total: 142 ms\n",
        "Wall time: 141 ms\n"
       ]
      },
      {
       "metadata": {},
       "output_type": "pyout",
       "prompt_number": 7,
       "text": [
        "<pycalphad.equilibrium.Equilibrium at 0x7f4a3f371050>"
       ]
      }
     ],
     "prompt_number": 7
    },
    {
     "cell_type": "code",
     "collapsed": false,
     "input": [],
     "language": "python",
     "metadata": {},
     "outputs": []
    }
   ],
   "metadata": {}
  }
 ]
}