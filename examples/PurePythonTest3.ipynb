{
 "metadata": {
  "name": "",
  "signature": "sha256:43d36ed7394ec6147471489176a58e904586e02c22250ea17a749c9bdbe08ba7"
 },
 "nbformat": 3,
 "nbformat_minor": 0,
 "worksheets": [
  {
   "cells": [
    {
     "cell_type": "code",
     "collapsed": false,
     "input": [
      "%matplotlib inline\n",
      "from pycalphad import Database, Equilibrium\n",
      "from pycalphad.variables import *\n",
      "\n",
      "db = Database('alzn_mey.tdb')\n",
      "my_phases = ['FCC_A1', 'HCP_A3', 'LIQUID']\n",
      "comps = ['AL', 'ZN', 'VA']\n",
      "comp_dict = {X('ZN'): 0.2}\n",
      "%time Equilibrium(db, comps, my_phases, comp_dict, T=580, points_per_phase=2000, ast='numpy')"
     ],
     "language": "python",
     "metadata": {},
     "outputs": [
      {
       "output_type": "stream",
       "stream": "stdout",
       "text": [
        "edge_length: 0.5043285369282554\n",
        "[FCC_A11, FCC_A10AL, FCC_A10ZN, FCC_A12, FCC_A10AL, FCC_A10ZN]\n",
        "[0.051491494969579749, 0.8183625945989944, 0.18163740540100565, 0.94850850503042028, 0.4617484661911348, 0.5382515338088651]\n",
        "       x: array([ 0.94785136,  0.81846863,  0.18153137,  0.05214864,  0.46431494,\n",
        "        0.53568506])\n",
        "     nit: 10\n",
        " message: 'Optimization terminated successfully.'\n",
        "     fun: -21117.170867475248\n",
        " success: True\n",
        "     jac: array([-20976.75217386, -12431.22660207, -19630.49365573, -23665.72581447,\n",
        "         -680.42677299,  -1077.6663405 ,      0.        ])\n",
        "  status: 0\n",
        "    nfev: 20\n",
        "    njev: 10\n",
        "CPU times: user 451 ms, sys: 1 ms, total: 452 ms\n",
        "Wall time: 451 ms\n"
       ]
      },
      {
       "metadata": {},
       "output_type": "pyout",
       "prompt_number": 10,
       "text": [
        "<pycalphad.equilibrium.Equilibrium at 0x7fb890d2a990>"
       ]
      }
     ],
     "prompt_number": 10
    },
    {
     "cell_type": "code",
     "collapsed": false,
     "input": [],
     "language": "python",
     "metadata": {},
     "outputs": []
    }
   ],
   "metadata": {}
  }
 ]
}