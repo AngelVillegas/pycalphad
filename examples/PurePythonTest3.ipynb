{
 "metadata": {
  "name": "",
  "signature": "sha256:ee1c96458883af27fe85b747ad3bebf6fa96c026ece0d079094f7bc607787179"
 },
 "nbformat": 3,
 "nbformat_minor": 0,
 "worksheets": [
  {
   "cells": [
    {
     "cell_type": "code",
     "collapsed": false,
     "input": [
      "%matplotlib inline\n",
      "from pycalphad import Database, Equilibrium\n",
      "from pycalphad.variables import *\n",
      "\n",
      "db = Database('alzn_mey.tdb')\n",
      "my_phases = ['FCC_A1', 'HCP_A3', 'LIQUID']\n",
      "comps = ['AL', 'ZN', 'VA']\n",
      "comp_dict = {X('ZN'): 0.2}\n",
      "%time Equilibrium(db, comps, my_phases, comp_dict, T=580, points_per_phase=2000, ast='numpy')"
     ],
     "language": "python",
     "metadata": {},
     "outputs": [
      {
       "output_type": "stream",
       "stream": "stdout",
       "text": [
        "CPU times: user 428 ms, sys: 1 ms, total: 429 ms\n",
        "Wall time: 429 ms\n"
       ]
      },
      {
       "metadata": {},
       "output_type": "pyout",
       "prompt_number": 1,
       "text": [
        "     jac: array([-23688.16419461,   -676.58286274,  -1070.40991781, -20976.59015723,\n",
        "       -12436.23146183, -19638.45064436,      0.        ])\n",
        "    nfev: 18\n",
        "     fun: -21117.175245072311\n",
        " message: 'Optimization terminated successfully.'\n",
        "       x: array([ 0.05184659,  0.46153629,  0.53846371,  0.94815341,  0.81850725,\n",
        "        0.18149275])\n",
        " success: True\n",
        "  status: 0\n",
        "    njev: 7\n",
        "     nit: 7"
       ]
      }
     ],
     "prompt_number": 1
    },
    {
     "cell_type": "code",
     "collapsed": false,
     "input": [],
     "language": "python",
     "metadata": {},
     "outputs": []
    }
   ],
   "metadata": {}
  }
 ]
}