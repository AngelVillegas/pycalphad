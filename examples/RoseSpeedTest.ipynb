{
 "metadata": {
  "name": "",
  "signature": "sha256:8b7c51b535ed5396bd6519e7e3653f13c42a8240c76e524765bef04290dc4619"
 },
 "nbformat": 3,
 "nbformat_minor": 0,
 "worksheets": [
  {
   "cells": [
    {
     "cell_type": "code",
     "collapsed": false,
     "input": [
      "import timeit\n",
      "\n",
      "comps = ['H', 'HE', 'LI', 'BE', 'B', 'C', 'N', 'O', 'F', 'NE']\n",
      "nums = []\n",
      "times = []\n",
      "for c in range(len(comps)+1)[2:]:\n",
      "    setup_code = \"\"\"\n",
      "from pycalphad import Database, energy_surf\n",
      "from pycalphad.variables import T\n",
      "db = Database('bigrose.tdb')\n",
      "my_phases = ['TEST']\n",
      "comps = \"\"\" + str(comps[:c])\n",
      "    test_code = \"energy_surf(db, comps, my_phases, T=1273, points_per_phase=200000, ast='numpy')\"\n",
      "    nums.append(c)\n",
      "    times.append(timeit.timeit(test_code, setup=setup_code, number=1))"
     ],
     "language": "python",
     "metadata": {},
     "outputs": [],
     "prompt_number": 1
    },
    {
     "cell_type": "code",
     "collapsed": false,
     "input": [
      "%matplotlib inline\n",
      "import matplotlib.pyplot as plt\n",
      "plt.plot(nums, times)\n",
      "plt.xlabel('Number of Components')\n",
      "plt.ylabel('Time (sec)')\n",
      "plt.show()"
     ],
     "language": "python",
     "metadata": {},
     "outputs": [
      {
       "metadata": {},
       "output_type": "display_data",
       "png": "[encoded data removed]",
       "text": [
        "<matplotlib.figure.Figure at 0x7fb92777d810>"
       ]
      }
     ],
     "prompt_number": 2
    },
    {
     "cell_type": "code",
     "collapsed": false,
     "input": [],
     "language": "python",
     "metadata": {},
     "outputs": []
    }
   ],
   "metadata": {}
  }
 ]
}