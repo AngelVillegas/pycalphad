{
 "metadata": {
  "name": "",
  "signature": "sha256:1ec6aba2ee61d7b0b7ec96365ef58869f5c40b985338535f018a15f48ae78d90"
 },
 "nbformat": 3,
 "nbformat_minor": 0,
 "worksheets": [
  {
   "cells": [
    {
     "cell_type": "code",
     "collapsed": false,
     "input": [
      "%matplotlib inline\n",
      "%load_ext autoreload\n",
      "%autoreload 2 # Make it easier to test by autoreloading modules on execution"
     ],
     "language": "python",
     "metadata": {},
     "outputs": [
      {
       "output_type": "stream",
       "stream": "stdout",
       "text": [
        "The autoreload extension is already loaded. To reload it, use:\n",
        "  %reload_ext autoreload\n"
       ]
      }
     ],
     "prompt_number": 46
    },
    {
     "cell_type": "code",
     "collapsed": false,
     "input": [
      "import calphad.libcalphadcpp as lcp\n",
      "from calphad.minimize.globmin import GlobalMinimizer\n",
      "import numpy as np\n",
      "from scipy.spatial import ConvexHull\n",
      "import matplotlib.pyplot as plt\n",
      "# Load thermodynamic database\n",
      "maindb = lcp.Database(\"bigrose.tdb\")\n",
      "if maindb == None:\n",
      "\tsys.exit(\"Failed to load database\")\n",
      "\n",
      "test_elements = ['H','HE','LI','BE','B','C','N','O','F','NE']\n",
      "# Generate conditions for 1-10 component systems\n",
      "all_conditions = []\n",
      "added_elements = []\n",
      "for element in test_elements:\n",
      "     added_elements.append(element)\n",
      "     conds = lcp.evalconditions()\n",
      "     conds.statevars['T'] = 2500\n",
      "     conds.statevars['P'] = 101325\n",
      "     conds.statevars['N'] = 1\n",
      "     for added_element in added_elements:\n",
      "          conds.elements.append(added_element)\n",
      "     conds.phases[\"TEST\"] = lcp.PhaseStatus.ENTERED\n",
      "     all_conditions.append(conds)"
     ],
     "language": "python",
     "metadata": {},
     "outputs": [],
     "prompt_number": 47
    },
    {
     "cell_type": "code",
     "collapsed": false,
     "input": [
      "index = 4\n",
      "# Configure variable names\n",
      "indices = lcp.IndexBiMap()\n",
      "varmap = lcp.build_variable_map ( maindb.get_phases(), all_conditions[index], indices )\n",
      "cmps = {}\n",
      "# Create phases\n",
      "for ph in maindb.get_phases():\n",
      "    status = conds.phases[ph.key()]\n",
      "    if (status == lcp.PhaseStatus.ENTERED):\n",
      "        cmps[ph.key()] = lcp.CompositionSet(ph.data(), maindb.get_parameter_set(), varmap, indices)\n",
      "# Initialize minimizer and sample points\n",
      "engine = lcp.GlobalMinimizer()\n",
      "engine.initial_subdivisions_per_axis = 20\n",
      "engine.discard_unstable = False\n",
      "points = engine.point_sample(cmps['TEST'], varmap, all_conditions[index])"
     ],
     "language": "python",
     "metadata": {},
     "outputs": [],
     "prompt_number": 48
    },
    {
     "cell_type": "code",
     "collapsed": false,
     "input": [
      "points = np.array(points)\n",
      "points"
     ],
     "language": "python",
     "metadata": {},
     "outputs": [
      {
       "metadata": {},
       "output_type": "pyout",
       "prompt_number": 49,
       "text": [
        "array([[  1.00000000e-12,   1.00000000e-12,   1.00000000e-12,\n",
        "          1.00000000e-12,   1.00000000e+00,  -2.38052672e-06],\n",
        "       [  1.00000000e-12,   1.00000000e-12,   1.00000000e-12,\n",
        "          1.00000000e+00,   1.00000000e-12,  -2.38052672e-06],\n",
        "       [  1.00000000e-12,   1.00000000e-12,   1.00000000e+00,\n",
        "          1.00000000e-12,   1.00000000e-12,  -2.38052672e-06],\n",
        "       ..., \n",
        "       [  7.00000000e-02,   1.00000000e-02,   1.00000000e-02,\n",
        "          2.00000000e-02,   8.90000000e-01,  -8.97118114e+03],\n",
        "       [  2.00000000e-02,   1.00000000e-02,   1.00000000e-02,\n",
        "          2.00000000e-02,   9.40000000e-01,  -6.12932406e+03],\n",
        "       [  1.00000000e-02,   1.00000000e-02,   1.00000000e-02,\n",
        "          1.00000000e-02,   9.60000000e-01,  -4.52756349e+03]])"
       ]
      }
     ],
     "prompt_number": 49
    },
    {
     "cell_type": "code",
     "collapsed": false,
     "input": [
      "coord_indices = np.arange(index+2)\n",
      "coord_indices = np.delete(coord_indices,[3],None) # TODO: Use automated deletion of dependent dimensions\n",
      "if (len(points) > 3):\n",
      "    hull = ConvexHull(points[:,coord_indices])"
     ],
     "language": "python",
     "metadata": {},
     "outputs": [],
     "prompt_number": 50
    },
    {
     "cell_type": "code",
     "collapsed": false,
     "input": [
      "hull.simplices"
     ],
     "language": "python",
     "metadata": {},
     "outputs": [
      {
       "metadata": {},
       "output_type": "pyout",
       "prompt_number": 51,
       "text": [
        "array([[     1,      2,      3,      4,      0],\n",
        "       [ 92184, 147564,      2,      4,      0],\n",
        "       [ 92184, 147564, 150984,      4,      0],\n",
        "       ..., \n",
        "       [153102, 159466,  21963, 159529, 113163],\n",
        "       [153102,  21963,  30363, 159529, 113163],\n",
        "       [153102, 121563,  30363, 159529, 113163]], dtype=int32)"
       ]
      }
     ],
     "prompt_number": 51
    },
    {
     "cell_type": "code",
     "collapsed": false,
     "input": [
      "hull.points"
     ],
     "language": "python",
     "metadata": {},
     "outputs": [
      {
       "metadata": {},
       "output_type": "pyout",
       "prompt_number": 52,
       "text": [
        "array([[  1.00000000e-12,   1.00000000e-12,   1.00000000e-12,\n",
        "          1.00000000e+00,  -2.38052672e-06],\n",
        "       [  1.00000000e-12,   1.00000000e-12,   1.00000000e-12,\n",
        "          1.00000000e-12,  -2.38052672e-06],\n",
        "       [  1.00000000e-12,   1.00000000e-12,   1.00000000e+00,\n",
        "          1.00000000e-12,  -2.38052672e-06],\n",
        "       ..., \n",
        "       [  7.00000000e-02,   1.00000000e-02,   1.00000000e-02,\n",
        "          8.90000000e-01,  -8.97118114e+03],\n",
        "       [  2.00000000e-02,   1.00000000e-02,   1.00000000e-02,\n",
        "          9.40000000e-01,  -6.12932406e+03],\n",
        "       [  1.00000000e-02,   1.00000000e-02,   1.00000000e-02,\n",
        "          9.60000000e-01,  -4.52756349e+03]])"
       ]
      }
     ],
     "prompt_number": 52
    },
    {
     "cell_type": "code",
     "collapsed": false,
     "input": [
      "coord_indices"
     ],
     "language": "python",
     "metadata": {},
     "outputs": [
      {
       "metadata": {},
       "output_type": "pyout",
       "prompt_number": 53,
       "text": [
        "array([0, 1, 2, 4, 5])"
       ]
      }
     ],
     "prompt_number": 53
    },
    {
     "cell_type": "code",
     "collapsed": false,
     "input": [],
     "language": "python",
     "metadata": {},
     "outputs": [],
     "prompt_number": 53
    }
   ],
   "metadata": {}
  }
 ]
}