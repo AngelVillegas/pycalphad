{
 "metadata": {
  "name": "",
  "signature": "sha256:397855a47a39d373c8ca33e3ef1fcd9a79fa23fc433896f0a782ff52a68e454a"
 },
 "nbformat": 3,
 "nbformat_minor": 0,
 "worksheets": [
  {
   "cells": [
    {
     "cell_type": "code",
     "collapsed": false,
     "input": [
      "%matplotlib inline\n",
      "%load_ext autoreload\n",
      "%autoreload 2 # Make it easier to test by autoreloading modules on execution"
     ],
     "language": "python",
     "metadata": {},
     "outputs": [],
     "prompt_number": 1
    },
    {
     "cell_type": "code",
     "collapsed": false,
     "input": [
      "import calphad.libcalphadcpp as lcp\n",
      "from calphad.minimize.globmin import GlobalMinimizer\n",
      "import numpy as np\n",
      "from scipy.spatial import ConvexHull\n",
      "import matplotlib.pyplot as plt\n",
      "# Load thermodynamic database\n",
      "maindb = lcp.Database(\"bigrose.tdb\")\n",
      "if maindb == None:\n",
      "\tsys.exit(\"Failed to load database\")\n",
      "\n",
      "test_elements = ['H','HE','LI','BE','B','C','N','O','F','NE']\n",
      "# Generate conditions for 1-10 component systems\n",
      "all_conditions = []\n",
      "added_elements = []\n",
      "for element in test_elements:\n",
      "     added_elements.append(element)\n",
      "     conds = lcp.evalconditions()\n",
      "     conds.statevars['T'] = 2500\n",
      "     conds.statevars['P'] = 101325\n",
      "     conds.statevars['N'] = 1\n",
      "     for added_element in added_elements:\n",
      "          conds.elements.append(added_element)\n",
      "     conds.phases[\"TEST\"] = lcp.PhaseStatus.ENTERED\n",
      "     all_conditions.append(conds)"
     ],
     "language": "python",
     "metadata": {},
     "outputs": [
      {
       "output_type": "stream",
       "stream": "stderr",
       "text": [
        "/home/rotis/.virtualenvs/calphad/lib/python3.3/site-packages/pandas/io/excel.py:626: UserWarning: Installed openpyxl is not supported at this time. Use >=1.6.1 and <2.0.0.\n",
        "  .format(openpyxl_compat.start_ver, openpyxl_compat.stop_ver))\n"
       ]
      }
     ],
     "prompt_number": 2
    },
    {
     "cell_type": "code",
     "collapsed": false,
     "input": [
      "index = 2\n",
      "# Configure variable names\n",
      "indices = lcp.IndexBiMap()\n",
      "varmap = lcp.build_variable_map ( maindb.get_phases(), all_conditions[index], indices )\n",
      "cmps = {}\n",
      "# Create phases\n",
      "for ph in maindb.get_phases():\n",
      "    status = conds.phases[ph.key()]\n",
      "    if (status == lcp.PhaseStatus.ENTERED):\n",
      "        cmps[ph.key()] = lcp.CompositionSet(ph.data(), maindb.get_parameter_set(), varmap, indices)\n",
      "# Initialize minimizer and sample points\n",
      "engine = lcp.GlobalMinimizer()\n",
      "engine.initial_subdivisions_per_axis = 20\n",
      "engine.discard_unstable = False\n",
      "points = engine.point_sample(cmps['TEST'], varmap, all_conditions[index])"
     ],
     "language": "python",
     "metadata": {},
     "outputs": [],
     "prompt_number": 3
    },
    {
     "cell_type": "code",
     "collapsed": false,
     "input": [
      "points = np.array(points)\n",
      "points"
     ],
     "language": "python",
     "metadata": {},
     "outputs": [
      {
       "metadata": {},
       "output_type": "pyout",
       "prompt_number": 4,
       "text": [
        "array([[  1.00000000e-12,   1.00000000e-12,   1.00000000e+00,\n",
        "         -1.19026221e-06],\n",
        "       [  1.00000000e-12,   1.00000000e+00,   1.00000000e-12,\n",
        "         -1.19026221e-06],\n",
        "       [  1.00000000e+00,   1.00000000e-12,   1.00000000e-12,\n",
        "         -1.19026221e-06],\n",
        "       ..., \n",
        "       [  8.33333333e-02,   3.33333333e-02,   8.83333333e-01,\n",
        "         -8.44794207e+03],\n",
        "       [  3.33333333e-02,   3.33333333e-02,   9.33333333e-01,\n",
        "         -5.84429807e+03],\n",
        "       [  1.66666667e-02,   1.66666667e-02,   9.66666667e-01,\n",
        "         -3.46436188e+03]])"
       ]
      }
     ],
     "prompt_number": 4
    },
    {
     "cell_type": "code",
     "collapsed": false,
     "input": [
      "coord_indices = np.arange(index+2)\n",
      "coord_indices = np.delete(coord_indices,[index],None) # TODO: Use automated deletion of dependent dimensions\n",
      "if (len(points) > 3):\n",
      "    hull = ConvexHull(points[:,coord_indices])"
     ],
     "language": "python",
     "metadata": {},
     "outputs": [],
     "prompt_number": 6
    },
    {
     "cell_type": "code",
     "collapsed": false,
     "input": [
      "hull.simplices"
     ],
     "language": "python",
     "metadata": {},
     "outputs": [
      {
       "metadata": {},
       "output_type": "pyout",
       "prompt_number": 7,
       "text": [
        "array([[  1,   2,   0],\n",
        "       [  6,   5,   1],\n",
        "       [  4,   5,   1],\n",
        "       ..., \n",
        "       [278, 280, 375],\n",
        "       [278, 356, 336],\n",
        "       [278, 356, 280]], dtype=int32)"
       ]
      }
     ],
     "prompt_number": 7
    },
    {
     "cell_type": "code",
     "collapsed": false,
     "input": [
      "hull.points"
     ],
     "language": "python",
     "metadata": {},
     "outputs": [
      {
       "metadata": {},
       "output_type": "pyout",
       "prompt_number": 8,
       "text": [
        "array([[  1.00000000e-12,   1.00000000e-12,  -1.19026221e-06],\n",
        "       [  1.00000000e-12,   1.00000000e+00,  -1.19026221e-06],\n",
        "       [  1.00000000e+00,   1.00000000e-12,  -1.19026221e-06],\n",
        "       ..., \n",
        "       [  8.33333333e-02,   3.33333333e-02,  -8.44794207e+03],\n",
        "       [  3.33333333e-02,   3.33333333e-02,  -5.84429807e+03],\n",
        "       [  1.66666667e-02,   1.66666667e-02,  -3.46436188e+03]])"
       ]
      }
     ],
     "prompt_number": 8
    },
    {
     "cell_type": "code",
     "collapsed": false,
     "input": [
      "coord_indices"
     ],
     "language": "python",
     "metadata": {},
     "outputs": [
      {
       "metadata": {},
       "output_type": "pyout",
       "prompt_number": 9,
       "text": [
        "array([0, 1, 3])"
       ]
      }
     ],
     "prompt_number": 9
    },
    {
     "cell_type": "code",
     "collapsed": false,
     "input": [],
     "language": "python",
     "metadata": {},
     "outputs": []
    }
   ],
   "metadata": {}
  }
 ]
}