{
 "metadata": {
  "name": "",
  "signature": "sha256:ac8f6cc226bae3a55cadd6bbd99103051e649f508e9d5ff5bd5e57c44bf2f947"
 },
 "nbformat": 3,
 "nbformat_minor": 0,
 "worksheets": [
  {
   "cells": [
    {
     "cell_type": "code",
     "collapsed": false,
     "input": [
      "from calphad.io.database import Database\n",
      "from calphad.io.tdb import tdbread\n",
      "from calphad.model import Model\n",
      "from calphad.variables import *\n",
      "\n",
      "db = Database()\n",
      "tdbread(db, open('crfeni_mie.tdb').read())\n",
      "cur_phase = 'BCC_A2'\n",
      "mod = Model(db, ['FE','CR','NI','VA'], [cur_phase])"
     ],
     "language": "python",
     "metadata": {},
     "outputs": [
      {
       "output_type": "stream",
       "stream": "stdout",
       "text": [
        "Adding LIQUID with [1.0]\n",
        "Adding BCC_A2 with [1.0, 3.0]\n",
        "Adding FCC_A1 with [1.0, 1.0]"
       ]
      },
      {
       "output_type": "stream",
       "stream": "stdout",
       "text": [
        "\n",
        "Adding HCP_A3 with [1.0, 0.5]"
       ]
      },
      {
       "output_type": "stream",
       "stream": "stdout",
       "text": [
        "\n",
        "Adding SIGMA with [8.0, 4.0, 18.0]\n",
        "Initializing model for ['BCC_A2']"
       ]
      },
      {
       "output_type": "stream",
       "stream": "stdout",
       "text": [
        "\n",
        "Checking LIQUID\n",
        "Checking SIGMA\n",
        "Checking BCC_A2\n",
        "Checking HCP_A3"
       ]
      },
      {
       "output_type": "stream",
       "stream": "stdout",
       "text": [
        "\n",
        "Checking FCC_A1\n",
        "Initialization complete\n"
       ]
      }
     ],
     "prompt_number": 1
    },
    {
     "cell_type": "code",
     "collapsed": false,
     "input": [
      "%matplotlib inline\n",
      "import matplotlib.pyplot as plt\n",
      "from numpy import linspace\n",
      "import time\n",
      "then = time.time()\n",
      "x = []\n",
      "y = []\n",
      "temp = 650 # Kelvin\n",
      "points = linspace(0, 0.7)\n",
      "sympy_model = mod({T:temp, Y(cur_phase,1,'VA'):1})\n",
      "for t in points:\n",
      "    ni_content = 0.3\n",
      "    fe_content = t\n",
      "    cr_content = 1.0 - fe_content - ni_content\n",
      "    x.append(fe_content)\n",
      "    y.append(float(sympy_model.subs({Y(cur_phase,0,'CR'):cr_content, Y(cur_phase,0,'FE'):fe_content, Y(cur_phase,0,'NI'):ni_content})))\n",
      "print(str((time.time()-then)/len(points))+' seconds per function eval')\n",
      "plt.plot(x, y)\n",
      "plt.show()"
     ],
     "language": "python",
     "metadata": {},
     "outputs": [
      {
       "output_type": "stream",
       "stream": "stdout",
       "text": [
        "0.04662095546722412 seconds per function eval\n"
       ]
      },
      {
       "metadata": {},
       "output_type": "display_data",
       "png": "[encoded data removed]",
       "text": [
        "<matplotlib.figure.Figure at 0x7fe69c06efd0>"
       ]
      }
     ],
     "prompt_number": 2
    },
    {
     "cell_type": "code",
     "collapsed": false,
     "input": [
      "%matplotlib inline\n",
      "import matplotlib.pyplot as plt\n",
      "from numpy import linspace\n",
      "from sympy.printing.theanocode import theano_function\n",
      "import time\n",
      "import theano\n",
      "import sympy\n",
      "\n",
      "sympy.printing.theanocode.mapping[sympy.And] = theano.tensor.and_\n",
      "then = time.time()\n",
      "x = []\n",
      "y = []\n",
      "temp = 650 # Kelvin\n",
      "test_vars = [Y(cur_phase,0,'CR'), Y(cur_phase,0,'FE'), Y(cur_phase,0,'NI')]\n",
      "\n",
      "# perform 'compilation' of function\n",
      "test_G = theano_function(test_vars, [sympy_model])#, mode='DebugMode')\n",
      "\n",
      "points = linspace(0, 0.7)\n",
      "for t in points:\n",
      "    ni_content = 0.3\n",
      "    fe_content = t\n",
      "    cr_content = 1.0 - fe_content - ni_content\n",
      "    x.append(fe_content)\n",
      "    y.append(test_G(cr_content, fe_content, ni_content))\n",
      "    #y.append(float(test_model.subs({'k':cr_content,'v':fe_content,'w':ni_content})))\n",
      "print(str((time.time()-then)/len(points))+' seconds per function eval')\n",
      "plt.plot(x, y)\n",
      "plt.show()"
     ],
     "language": "python",
     "metadata": {},
     "outputs": [
      {
       "output_type": "stream",
       "stream": "stdout",
       "text": [
        "0.09873026371002197 seconds per function eval\n"
       ]
      },
      {
       "metadata": {},
       "output_type": "display_data",
       "png": "[encoded data removed]",
       "text": [
        "<matplotlib.figure.Figure at 0x7fe68b822cd0>"
       ]
      }
     ],
     "prompt_number": 3
    },
    {
     "cell_type": "code",
     "collapsed": false,
     "input": [],
     "language": "python",
     "metadata": {},
     "outputs": [],
     "prompt_number": 3
    }
   ],
   "metadata": {}
  }
 ]
}