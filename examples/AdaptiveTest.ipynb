{
 "metadata": {
  "name": "",
  "signature": "sha256:fe3a5308b43adb006847fa8564663969902230c48a8b8d8b2e3b024ee3af33b6"
 },
 "nbformat": 3,
 "nbformat_minor": 0,
 "worksheets": [
  {
   "cells": [
    {
     "cell_type": "code",
     "collapsed": false,
     "input": [
      "%matplotlib inline\n",
      "%load_ext autoreload\n",
      "%autoreload 2 # Make it easier to test by autoreloading modules on execution"
     ],
     "language": "python",
     "metadata": {},
     "outputs": [
      {
       "output_type": "stream",
       "stream": "stdout",
       "text": [
        "The autoreload extension is already loaded. To reload it, use:\n",
        "  %reload_ext autoreload\n"
       ]
      }
     ],
     "prompt_number": 15
    },
    {
     "cell_type": "code",
     "collapsed": false,
     "input": [
      "setup = '''\n",
      "import calphad.libcalphadcpp as lcp\n",
      "from calphad.minimize.globmin import GlobalMinimizer\n",
      "import numpy as np\n",
      "from scipy.spatial import ConvexHull\n",
      "import matplotlib.pyplot as plt\n",
      "# Load thermodynamic database\n",
      "maindb = lcp.Database(\"bigrose.tdb\")\n",
      "if maindb == None:\n",
      "\tsys.exit(\"Failed to load database\")\n",
      "\n",
      "test_elements = ['H','HE','LI','BE','B','C','N','O','F','NE']\n",
      "# Generate conditions for 1-10 component systems\n",
      "all_conditions = []\n",
      "added_elements = []\n",
      "for element in test_elements:\n",
      "     added_elements.append(element)\n",
      "     conds = lcp.evalconditions()\n",
      "     conds.statevars['T'] = 2500\n",
      "     conds.statevars['P'] = 101325\n",
      "     conds.statevars['N'] = 1\n",
      "     for added_element in added_elements:\n",
      "          conds.elements.append(added_element)\n",
      "     conds.phases[\"TEST\"] = lcp.PhaseStatus.ENTERED\n",
      "     all_conditions.append(conds)\n",
      "'''\n",
      "\n",
      "def timed_code_normal(index):\n",
      "    return '''\n",
      "    # Configure variable names\n",
      "    indices = lcp.IndexBiMap()\n",
      "    varmap = lcp.build_variable_map ( maindb.get_phases(), all_conditions['''+str(index)+'''], indices )\n",
      "    cmps = {}\n",
      "    # Create phases\n",
      "    for ph in maindb.get_phases():\n",
      "        status = conds.phases[ph.key()]\n",
      "        if (status == lcp.PhaseStatus.ENTERED):\n",
      "            cmps[ph.key()] = lcp.CompositionSet(ph.data(), maindb.get_parameter_set(), varmap, indices)\n",
      "    # Initialize minimizer and sample points\n",
      "    engine = lcp.GlobalMinimizer()\n",
      "    engine.initial_subdivisions_per_axis = 20\n",
      "    engine.discard_unstable = False\n",
      "    points = engine.point_sample(cmps['TEST'], varmap, all_conditions['''+str(index)+'''])\n",
      "    points = np.array(points)\n",
      "    coord_indices = np.arange('''+str(index)+'''+2)\n",
      "    coord_indices = np.delete(coord_indices,[0],None) # TODO: Use automated deletion of dependent dimensions\n",
      "    if (len(points) > 3):\n",
      "        hull = ConvexHull(points[:,coord_indices])\n",
      "    '''\n",
      "def timed_code_adaptive(index):\n",
      "    return '''\n",
      "    # Configure variable names\n",
      "    indices = lcp.IndexBiMap()\n",
      "    varmap = lcp.build_variable_map ( maindb.get_phases(), all_conditions['''+str(index)+'''], indices )\n",
      "    cmps = {}\n",
      "    # Create phases\n",
      "    for ph in maindb.get_phases():\n",
      "        status = conds.phases[ph.key()]\n",
      "        if (status == lcp.PhaseStatus.ENTERED):\n",
      "            cmps[ph.key()] = lcp.CompositionSet(ph.data(), maindb.get_parameter_set(), varmap, indices)\n",
      "    # Initialize minimizer and sample points\n",
      "    engine = lcp.GlobalMinimizer()\n",
      "    engine.initial_subdivisions_per_axis = 20\n",
      "    engine.discard_unstable = True\n",
      "    points = engine.point_sample(cmps['TEST'], varmap, all_conditions['''+str(index)+'''])\n",
      "    points = np.array(points)\n",
      "    if (len(points) > 3):\n",
      "        coord_indices = np.arange('''+str(index)+'''+2)\n",
      "        coord_indices = np.delete(coord_indices,[0],None) # TODO: Use automated deletion of dependent dimensions\n",
      "        hull = ConvexHull(points[:,coord_indices])\n",
      "    '''"
     ],
     "language": "python",
     "metadata": {},
     "outputs": []
    },
    {
     "cell_type": "code",
     "collapsed": false,
     "input": [
      "# Benchmark regular and adaptive method for some given conditions by examining the component effect\n",
      "import timeit\n",
      "import numpy as np\n",
      "num_components = []\n",
      "times = []\n",
      "times_adaptive = []\n",
      "for component_index in [0,1,2,3,4,5]:\n",
      "    num_components.append(component_index+1)\n",
      "    t = timeit.Timer(timed_code_normal(component_index), setup=setup)\n",
      "    time_trials = t.repeat(repeat=1,number=1)\n",
      "    times.append(np.min(time_trials)) \n",
      "    #t = timeit.Timer(timed_code_adaptive(component_index), setup=setup)\n",
      "    #time_trials = t.repeat(repeat=1,number=1)\n",
      "    #times_adaptive.append(np.min(time_trials)) "
     ],
     "language": "python",
     "metadata": {},
     "outputs": []
    },
    {
     "cell_type": "code",
     "collapsed": false,
     "input": [
      "import matplotlib.pyplot as plt\n",
      "xp = np.linspace(1, 10, 100)\n",
      "#fit = np.poly1d(np.polyfit(num_components, times, 2))\n",
      "fig = plt.figure(figsize=(9,4))\n",
      "ax1 = fig.add_subplot(111)\n",
      "ax1.scatter(num_components, times, s=10, c='b', marker=\"s\", label='standard')\n",
      "#ax1.scatter(num_components, times_adaptive, s=10, c='r', marker=\"o\", label='adaptive')\n",
      "plt.legend(loc='upper left');\n",
      "plt.xlabel('Number of Components')\n",
      "plt.ylabel('Time (seconds)')\n",
      "plt.title('Component Effect for Rose System')\n",
      "plt.show()"
     ],
     "language": "python",
     "metadata": {},
     "outputs": []
    },
    {
     "cell_type": "code",
     "collapsed": false,
     "input": [
      "times"
     ],
     "language": "python",
     "metadata": {},
     "outputs": []
    },
    {
     "cell_type": "code",
     "collapsed": false,
     "input": [],
     "language": "python",
     "metadata": {},
     "outputs": []
    }
   ],
   "metadata": {}
  }
 ]
}