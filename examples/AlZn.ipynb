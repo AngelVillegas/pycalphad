{
 "metadata": {
  "name": "",
  "signature": "sha256:0f9c3807c9738af55fcc901ec132206933313be521e41c10ed71fc1c63e92ad8"
 },
 "nbformat": 3,
 "nbformat_minor": 0,
 "worksheets": [
  {
   "cells": [
    {
     "cell_type": "code",
     "collapsed": false,
     "input": [
      "%matplotlib inline"
     ],
     "language": "python",
     "metadata": {},
     "outputs": [],
     "prompt_number": 1
    },
    {
     "cell_type": "code",
     "collapsed": false,
     "input": [
      "import calphad.libcalphadcpp as lcp\n",
      "from calphad.minimize.globmin import GlobalMinimizer\n",
      "import numpy as np\n",
      "import matplotlib.pyplot as plt"
     ],
     "language": "python",
     "metadata": {},
     "outputs": [],
     "prompt_number": 2
    },
    {
     "cell_type": "code",
     "collapsed": false,
     "input": [
      "# Load thermodynamic database\n",
      "maindb = lcp.Database(\"alzn_mey.tdb\")\n",
      "if maindb == None:\n",
      "\tsys.exit(\"Failed to load database\")\n",
      "\n",
      "# Set equilibrium conditions\n",
      "conds = lcp.evalconditions()\n",
      "conds.statevars['T'] = 650\n",
      "conds.statevars['P'] = 101325\n",
      "conds.statevars['N'] = 1\n",
      "conds.elements.append(\"AL\")\n",
      "conds.elements.append(\"ZN\")\n",
      "conds.elements.append(\"VA\")\n",
      "conds.xfrac[\"AL\"] = .11\n",
      "conds.phases[\"HCP_A3\"] = lcp.PhaseStatus.ENTERED\n",
      "conds.phases[\"BCC_A2\"] = lcp.PhaseStatus.ENTERED\n",
      "conds.phases[\"FCC_A1\"] = lcp.PhaseStatus.ENTERED\n",
      "conds.phases[\"LIQUID\"] = lcp.PhaseStatus.ENTERED\n",
      "\n",
      "indices = lcp.IndexBiMap()\n",
      "varmap = lcp.build_variable_map ( maindb.get_phases(), conds, indices )\n",
      "cmps = {}\n",
      "\n",
      "for ph in maindb.get_phases():\n",
      "    status = conds.phases[ph.key()]\n",
      "    if (status == lcp.PhaseStatus.ENTERED):\n",
      "        cmps[ph.key()] = lcp.CompositionSet(ph.data(), maindb.get_parameter_set(), varmap, indices)\n",
      "\n",
      "globminengine = GlobalMinimizer(cmps, varmap, conds)"
     ],
     "language": "python",
     "metadata": {},
     "outputs": [],
     "prompt_number": 3
    },
    {
     "cell_type": "code",
     "collapsed": false,
     "input": [],
     "language": "python",
     "metadata": {},
     "outputs": [],
     "prompt_number": 3
    }
   ],
   "metadata": {}
  }
 ]
}