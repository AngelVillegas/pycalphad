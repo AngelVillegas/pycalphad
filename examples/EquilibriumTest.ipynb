{
 "metadata": {
  "name": "",
  "signature": "sha256:068e3df568ed3896e8bdac17076875e8bda991d2dae3a4f3748d8f7bcf669a69"
 },
 "nbformat": 3,
 "nbformat_minor": 0,
 "worksheets": [
  {
   "cells": [
    {
     "cell_type": "code",
     "collapsed": false,
     "input": [
      "%matplotlib inline\n",
      "import matplotlib.pyplot as plt\n",
      "from pycalphad.eq.equilibrium import Equilibrium\n",
      "from pycalphad import Database, Model\n",
      "import pycalphad.variables as v\n",
      "\n",
      "db_alfe = Database('alfe_sei.TDB')\n",
      "my_phases_alfe = ['LIQUID', 'B2_BCC', 'FCC_A1', 'HCP_A3', 'AL5FE2', 'AL2FE', 'AL13FE4', 'AL5FE4']\n",
      "\n",
      "%time Equilibrium(db_alfe, ['AL', 'FE', 'VA'] , my_phases_alfe, {v.X('AL'): 0.55}, T=1400.0)"
     ],
     "language": "python",
     "metadata": {},
     "outputs": [
      {
       "output_type": "stream",
       "stream": "stdout",
       "text": [
        "Molar Gibbs Energy:    -9.628879E+04\n",
        "Potentials:\n",
        "T=1400.0\n",
        "AL5FE4#1    3.250589E-01\n",
        "Mole fractions:    AL 5.897190E-01    FE 4.102810E-01\n",
        "Sublattice 1: 1.0 sites\n",
        "    AL 5.897190E-01    FE 4.102810E-01\n",
        "\n",
        "B2_BCC#1    6.749411E-01\n",
        "Mole fractions:    AL 5.308709E-01    FE 4.691291E-01\n",
        "Sublattice 1: 0.5 sites\n",
        "    AL 1.897011E-01    FE 8.102989E-01\n",
        "Sublattice 2: 0.5 sites\n",
        "    AL 8.720407E-01    FE 1.279593E-01\n",
        "Sublattice 3: 3.0 sites\n",
        "    VA 1.000000E+00\n",
        "\n",
        "CPU times: user 10.4 s, sys: 11 ms, total: 10.4 s\n",
        "Wall time: 10.4 s\n"
       ]
      },
      {
       "metadata": {},
       "output_type": "pyout",
       "prompt_number": 1,
       "text": [
        "<pycalphad.eq.equilibrium.Equilibrium at 0x7fcc84093410>"
       ]
      }
     ],
     "prompt_number": 1
    },
    {
     "cell_type": "code",
     "collapsed": false,
     "input": [
      "db_rose = Database('bigrose.tdb')\n",
      "my_phases_rose = ['TEST']\n",
      "comps = ['H', 'HE', 'LI', 'BE', 'B', 'C']#, 'N', 'O', 'F', 'NE'] \n",
      "conds = dict()\n",
      "for comp in comps[:-1]:\n",
      "    conds[v.X(comp)] = 1/len(comps)\n",
      "\n",
      "%time Equilibrium(db_rose, comps, my_phases_rose, conds, T=1000.0)"
     ],
     "language": "python",
     "metadata": {},
     "outputs": [
      {
       "output_type": "stream",
       "stream": "stdout",
       "text": [
        "Molar Gibbs Energy:    1.291910E+04\n",
        "Potentials:\n",
        "T=1000.0\n",
        "TEST#1    1.848048E-01\n",
        "Mole fractions:    B 9.018493E-01    BE 1.610810E-05    C 2.228561E-14    H 2.225825E-04    HE 5.575602E-04    LI 9.735441E-02\n",
        "Sublattice 1: 1.0 sites\n",
        "    B 9.018493E-01    BE 1.610810E-05    C 2.228561E-14    H 2.225825E-04    HE 5.575602E-04    LI 9.735441E-02\n",
        "\n",
        "TEST#2    2.052615E-01\n",
        "Mole fractions:    B 0.000000E+00    BE 1.732713E-14    C 7.791043E-07    H 8.116368E-01    HE 7.302648E-05    LI 1.882893E-01\n",
        "Sublattice 1: 1.0 sites\n",
        "    B 0.000000E+00    BE 1.732713E-14    C 7.791043E-07    H 8.116368E-01    HE 7.302648E-05    LI 1.882893E-01\n",
        "\n",
        "TEST#3    1.890188E-01\n",
        "Mole fractions:    B 2.801927E-06    BE 8.817220E-01    C 2.531510E-05    H 1.063540E-04    HE 4.047813E-05    LI 1.181031E-01\n",
        "Sublattice 1: 1.0 sites\n",
        "    B 2.801927E-06    BE 8.817220E-01    C 2.531510E-05    H 1.063540E-04    HE 4.047813E-05    LI 1.181031E-01\n",
        "\n",
        "TEST#4    1.951263E-01\n",
        "Mole fractions:    B 0.000000E+00    BE 5.635958E-06    C 8.541220E-01    H 3.140128E-05    HE 3.021410E-14    LI 1.458409E-01\n",
        "Sublattice 1: 1.0 sites\n",
        "    B 0.000000E+00    BE 5.635958E-06    C 8.541220E-01    H 3.140128E-05    HE 3.021410E-14    LI 1.458409E-01\n",
        "\n",
        "TEST#5    9.696102E-14\n",
        "Mole fractions:    B 6.640994E-13    BE 0.000000E+00    C 0.000000E+00    H 1.099429E-04    HE 7.853938E-02    LI 9.213507E-01\n",
        "Sublattice 1: 1.0 sites\n",
        "    B 6.640994E-13    BE 0.000000E+00    C 0.000000E+00    H 1.099429E-04    HE 7.853938E-02    LI 9.213507E-01\n",
        "\n",
        "TEST#6    2.257886E-01\n",
        "Mole fractions:    B 9.414618E-16    BE 2.300763E-06    C 1.811569E-15    H 6.740024E-06    HE 7.375969E-01    LI 2.623941E-01\n",
        "Sublattice 1: 1.0 sites\n",
        "    B 9.414618E-16    BE 2.300763E-06    C 1.811569E-15    H 6.740024E-06    HE 7.375969E-01    LI 2.623941E-01\n",
        "\n",
        "CPU times: user 43.9 s, sys: 247 ms, total: 44.2 s\n",
        "Wall time: 44.1 s\n"
       ]
      },
      {
       "metadata": {},
       "output_type": "pyout",
       "prompt_number": 3,
       "text": [
        "<pycalphad.eq.equilibrium.Equilibrium at 0x7fcc68314610>"
       ]
      }
     ],
     "prompt_number": 3
    },
    {
     "cell_type": "code",
     "collapsed": false,
     "input": [],
     "language": "python",
     "metadata": {},
     "outputs": [],
     "prompt_number": 2
    }
   ],
   "metadata": {}
  }
 ]
}