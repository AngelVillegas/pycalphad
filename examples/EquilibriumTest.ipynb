{
 "cells": [
  {
   "cell_type": "code",
   "execution_count": 3,
   "metadata": {
    "collapsed": false
   },
   "outputs": [
    {
     "name": "stdout",
     "output_type": "stream",
     "text": [
      "Molar Gibbs Energy:    -9.628879E+04\n",
      "Potentials:\n",
      "T=1400.0\n",
      "AL5FE4#1    3.250589E-01\n",
      "Mole fractions:    AL 5.897190E-01    FE 4.102810E-01\n",
      "Sublattice 1: 1.0 sites\n",
      "    AL 5.897190E-01    FE 4.102810E-01\n",
      "\n",
      "B2_BCC#1    6.749411E-01\n",
      "Mole fractions:    AL 5.308709E-01    FE 4.691291E-01\n",
      "Sublattice 1: 0.5 sites\n",
      "    AL 1.897011E-01    FE 8.102989E-01\n",
      "Sublattice 2: 0.5 sites\n",
      "    AL 8.720407E-01    FE 1.279593E-01\n",
      "Sublattice 3: 3.0 sites\n",
      "    VA 1.000000E+00\n",
      "\n",
      "CPU times: user 9.7 s, sys: 3 ms, total: 9.71 s\n",
      "Wall time: 9.7 s\n"
     ]
    },
    {
     "data": {
      "text/plain": [
       "<pycalphad.eq.equilibrium.Equilibrium at 0x7fea00714110>"
      ]
     },
     "execution_count": 3,
     "metadata": {},
     "output_type": "execute_result"
    }
   ],
   "source": [
    "%matplotlib inline\n",
    "import matplotlib.pyplot as plt\n",
    "from pycalphad.eq.equilibrium import Equilibrium\n",
    "from pycalphad import Database, Model\n",
    "import pycalphad.variables as v\n",
    "\n",
    "db_alfe = Database('alfe_sei.TDB')\n",
    "my_phases_alfe = ['LIQUID', 'B2_BCC', 'FCC_A1', 'HCP_A3', 'AL5FE2', 'AL2FE', 'AL13FE4', 'AL5FE4']\n",
    "\n",
    "%time Equilibrium(db_alfe, ['AL', 'FE', 'VA'] , my_phases_alfe, {v.X('AL'): 0.55}, T=1400.0)"
   ]
  },
  {
   "cell_type": "code",
   "execution_count": 6,
   "metadata": {
    "collapsed": false
   },
   "outputs": [
    {
     "name": "stdout",
     "output_type": "stream",
     "text": [
      "Molar Gibbs Energy:    1.292071E+04\n",
      "Potentials:\n",
      "T=1000.0\n",
      "TEST#1    2.256881E-01\n",
      "Mole fractions:    B 0.000000E+00    BE 0.000000E+00    C 0.000000E+00    H 0.000000E+00    HE 7.384824E-01    LI 2.615176E-01\n",
      "Sublattice 1: 1.0 sites\n",
      "    B 0.000000E+00    BE 0.000000E+00    C 0.000000E+00    H 0.000000E+00    HE 7.384824E-01    LI 2.615176E-01\n",
      "\n",
      "TEST#2    1.890537E-01\n",
      "Mole fractions:    B 3.142979E-14    BE 8.815838E-01    C 1.927584E-14    H 0.000000E+00    HE 0.000000E+00    LI 1.184162E-01\n",
      "Sublattice 1: 1.0 sites\n",
      "    B 3.142979E-14    BE 8.815838E-01    C 1.927584E-14    H 0.000000E+00    HE 0.000000E+00    LI 1.184162E-01\n",
      "\n",
      "TEST#3    1.950833E-01\n",
      "Mole fractions:    B 0.000000E+00    BE 0.000000E+00    C 8.543359E-01    H 0.000000E+00    HE 0.000000E+00    LI 1.456641E-01\n",
      "Sublattice 1: 1.0 sites\n",
      "    B 0.000000E+00    BE 0.000000E+00    C 8.543359E-01    H 0.000000E+00    HE 0.000000E+00    LI 1.456641E-01\n",
      "\n",
      "TEST#4    1.850138E-01\n",
      "Mole fractions:    B 9.008332E-01    BE 0.000000E+00    C 0.000000E+00    H 0.000000E+00    HE 0.000000E+00    LI 9.916677E-02\n",
      "Sublattice 1: 1.0 sites\n",
      "    B 9.008332E-01    BE 0.000000E+00    C 0.000000E+00    H 0.000000E+00    HE 0.000000E+00    LI 9.916677E-02\n",
      "\n",
      "TEST#5    0.000000E+00\n",
      "Mole fractions:    B 0.000000E+00    BE 0.000000E+00    C 0.000000E+00    H 0.000000E+00    HE 1.000000E+00    LI 0.000000E+00\n",
      "Sublattice 1: 1.0 sites\n",
      "    B 0.000000E+00    BE 0.000000E+00    C 0.000000E+00    H 0.000000E+00    HE 1.000000E+00    LI 0.000000E+00\n",
      "\n",
      "TEST#6    2.051611E-01\n",
      "Mole fractions:    B 0.000000E+00    BE 0.000000E+00    C 0.000000E+00    H 8.123696E-01    HE 3.196770E-14    LI 1.876304E-01\n",
      "Sublattice 1: 1.0 sites\n",
      "    B 0.000000E+00    BE 0.000000E+00    C 0.000000E+00    H 8.123696E-01    HE 3.196770E-14    LI 1.876304E-01\n",
      "\n"
     ]
    }
   ],
   "source": [
    "db_rose = Database('bigrose.tdb')\n",
    "my_phases_rose = ['TEST']\n",
    "comps = ['H', 'HE', 'LI', 'BE', 'B', 'C']#, 'N', 'O', 'F', 'NE'] \n",
    "conds = dict()\n",
    "for comp in comps[:-1]:\n",
    "    conds[v.X(comp)] = 1/len(comps)\n",
    "from pycalphad.eq.energy_surf import refine_energy_surf\n",
    "%lprun -f refine_energy_surf Equilibrium(db_rose, comps, my_phases_rose, conds, T=1000.0)"
   ]
  },
  {
   "cell_type": "code",
   "execution_count": 2,
   "metadata": {
    "collapsed": false
   },
   "outputs": [],
   "source": []
  }
 ],
 "metadata": {
  "kernelspec": {
   "display_name": "Python 3",
   "language": "python",
   "name": "python3"
  },
  "language_info": {
   "codemirror_mode": {
    "name": "ipython",
    "version": 3
   },
   "file_extension": ".py",
   "mimetype": "text/x-python",
   "name": "python",
   "nbconvert_exporter": "python",
   "pygments_lexer": "ipython3",
   "version": "3.3.5"
  }
 },
 "nbformat": 4,
 "nbformat_minor": 0
}
