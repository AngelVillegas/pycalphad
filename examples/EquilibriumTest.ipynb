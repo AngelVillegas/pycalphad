{
 "cells": [
  {
   "cell_type": "code",
   "execution_count": 1,
   "metadata": {
    "collapsed": true
   },
   "outputs": [],
   "source": [
    "# Uncomment lines below for the (verbose) debugging mode\n",
    "import pycalphad.log\n",
    "#pycalphad.log.debug_mode()"
   ]
  },
  {
   "cell_type": "code",
   "execution_count": 2,
   "metadata": {
    "collapsed": false
   },
   "outputs": [],
   "source": [
    "%matplotlib inline\n",
    "import matplotlib.pyplot as plt\n",
    "from pycalphad.eq.equilibrium import Equilibrium\n",
    "from pycalphad import Database, Model\n",
    "import pycalphad.variables as v"
   ]
  },
  {
   "cell_type": "code",
   "execution_count": null,
   "metadata": {
    "collapsed": false
   },
   "outputs": [
    {
     "name": "stdout",
     "output_type": "stream",
     "text": [
      "CPU times: user 606 ms, sys: 0 ns, total: 606 ms\n",
      "Wall time: 606 ms\n"
     ]
    },
    {
     "data": {
      "text/plain": [
       "(array([3591, 1006, 5682, 2436, 4374, 6936, 2931, 5802]),\n",
       " array([ 0.11224937,  0.14165979,  0.10047531,  0.09860901,  0.13792843,\n",
       "         0.12772303,  0.14882468,  0.13253037]),\n",
       " array([-4165.11157302, -4229.04645189, -3877.83231148, -3726.86923601,\n",
       "        -4402.80114695, -4335.43202344, -4625.88199278, -4599.39818723]))"
      ]
     },
     "execution_count": 3,
     "metadata": {},
     "output_type": "execute_result"
    }
   ],
   "source": [
    "db_rose = Database('bigrose.tdb')\n",
    "my_phases_rose = ['TEST']\n",
    "comps = ['H', 'HE', 'LI', 'BE', 'C', 'N', 'O', 'F']#, 'NE'] \n",
    "conds = dict()\n",
    "for comp in comps[:-1]:\n",
    "    conds[v.X(comp)] = 1/len(comps)\n",
    "#%lprun -f Equilibrium.get_starting_simplex\n",
    "#%time Equilibrium(db_rose, comps, my_phases_rose, conds, T=1000.0, pdens=1000)\n",
    "from pycalphad.eq.energy_surf import energy_surf\n",
    "from pycalphad.eq.geometry import lower_convex_hull\n",
    "df = energy_surf(db_rose, comps, my_phases_rose, T=1000.0, pdens=1000)\n",
    "#%lprun -f lower_convex_hull\n",
    "%time lower_convex_hull(df, comps, conds)"
   ]
  },
  {
   "cell_type": "code",
   "execution_count": null,
   "metadata": {
    "collapsed": false,
    "scrolled": true
   },
   "outputs": [],
   "source": [
    "db_alfe = Database('alfe_sei.TDB')\n",
    "my_phases_alfe = ['LIQUID', 'B2_BCC', 'FCC_A1', 'HCP_A3', 'AL5FE2', 'AL2FE', 'AL13FE4', 'AL5FE4']\n",
    "\n",
    "%time eq = Equilibrium(db_alfe, ['AL', 'FE', 'VA'] , my_phases_alfe, {v.X('AL'): 0.55}, T=1400.0, pdens=1000)\n",
    "print(eq)"
   ]
  },
  {
   "cell_type": "code",
   "execution_count": null,
   "metadata": {
    "collapsed": false
   },
   "outputs": [],
   "source": [
    "db_rose = Database('bigrose.tdb')\n",
    "my_phases_rose = ['TEST']\n",
    "comps = ['H', 'HE', 'LI', 'BE', 'B', 'C', 'N', 'O', 'F']#, 'NE'] \n",
    "conds = dict()\n",
    "for comp in comps[:-1]:\n",
    "    conds[v.X(comp)] = 1/len(comps)\n",
    "%lprun -f Equilibrium.__init__ eq = Equilibrium(db_rose, comps, my_phases_rose, conds, T=1000.0, pdens=1000)\n",
    "print(eq)"
   ]
  },
  {
   "cell_type": "code",
   "execution_count": null,
   "metadata": {
    "collapsed": true
   },
   "outputs": [],
   "source": []
  }
 ],
 "metadata": {
  "kernelspec": {
   "display_name": "Python 3",
   "language": "python",
   "name": "python3"
  },
  "language_info": {
   "codemirror_mode": {
    "name": "ipython",
    "version": 3
   },
   "file_extension": ".py",
   "mimetype": "text/x-python",
   "name": "python",
   "nbconvert_exporter": "python",
   "pygments_lexer": "ipython3",
   "version": "3.3.5"
  }
 },
 "nbformat": 4,
 "nbformat_minor": 0
}
