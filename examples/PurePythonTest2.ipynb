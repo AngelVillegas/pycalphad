{
 "metadata": {
  "name": "",
  "signature": "sha256:0b3bffa58c40ab283aecfd502ed32001b7c92d5d21cbe1faec2ad7fdccc357b6"
 },
 "nbformat": 3,
 "nbformat_minor": 0,
 "worksheets": [
  {
   "cells": [
    {
     "cell_type": "code",
     "collapsed": false,
     "input": [
      "from pycalphad.io.tdb import tdbread\n",
      "import pycalphad\n",
      "from pycalphad.variables import *\n",
      "from pycalphad.minimize import eq\n",
      "\n",
      "db = pycalphad.Database()\n",
      "tdbread(db, open('crfeni_mie.tdb').read())\n",
      "%time eq(db, ['CR','FE','NI','VA'] , ['LIQUID','BCC_A2','FCC_A1','HCP_A3', 'SIGMA'], T=2000)"
     ],
     "language": "python",
     "metadata": {},
     "outputs": [
      {
       "output_type": "stream",
       "stream": "stdout",
       "text": [
        "{y^{LIQUID}_{0},_{FE}, y^{LIQUID}_{0},_{NI}, y^{LIQUID}_{0},_{CR}}\n",
        "{0, 1, 2}"
       ]
      },
      {
       "output_type": "stream",
       "stream": "stdout",
       "text": [
        "\n",
        "[0, 1]\n",
        "{y^{BCC-A2}_{0},_{FE}, y^{BCC-A2}_{0},_{CR}, y^{BCC-A2}_{1},_{VA}, y^{BCC-A2}_{0},_{NI}}"
       ]
      },
      {
       "output_type": "stream",
       "stream": "stdout",
       "text": [
        "\n",
        "{0, 1, 2, 3}"
       ]
      },
      {
       "output_type": "stream",
       "stream": "stdout",
       "text": [
        "\n",
        "[0, 1]\n",
        "{y^{FCC-A1}_{0},_{NI}, y^{FCC-A1}_{0},_{FE}, y^{FCC-A1}_{0},_{CR}, y^{FCC-A1}_{1},_{VA}}"
       ]
      },
      {
       "output_type": "stream",
       "stream": "stdout",
       "text": [
        "\n",
        "{0, 1, 2, 3}"
       ]
      },
      {
       "output_type": "stream",
       "stream": "stdout",
       "text": [
        "\n",
        "[0, 1]\n",
        "{y^{HCP-A3}_{1},_{VA}, y^{HCP-A3}_{0},_{NI}, y^{HCP-A3}_{0},_{FE}, y^{HCP-A3}_{0},_{CR}}"
       ]
      },
      {
       "output_type": "stream",
       "stream": "stdout",
       "text": [
        "\n",
        "{0, 1, 2, 3}"
       ]
      },
      {
       "output_type": "stream",
       "stream": "stdout",
       "text": [
        "\n",
        "[0, 1]\n",
        "{y^{SIGMA}_{0},_{FE}, y^{SIGMA}_{2},_{CR}, y^{SIGMA}_{2},_{FE}, y^{SIGMA}_{0},_{NI}, y^{SIGMA}_{1},_{CR}, y^{SIGMA}_{2},_{NI}}"
       ]
      },
      {
       "output_type": "stream",
       "stream": "stdout",
       "text": [
        "\n",
        "{0, 1, 2, 3, 4, 5}"
       ]
      },
      {
       "output_type": "stream",
       "stream": "stdout",
       "text": [
        "\n",
        "[0, 3, 4]\n",
        "{'FCC_A1': <pycalphad.minimize.CompositionSet object at 0x7f83d133fe50>, 'HCP_A3': <pycalphad.minimize.CompositionSet object at 0x7f83d0b58950>, 'LIQUID': <pycalphad.minimize.CompositionSet object at 0x7f83d9aa6110>, 'SIGMA': <pycalphad.minimize.CompositionSet object at 0x7f83d0435050>, 'BCC_A2': <pycalphad.minimize.CompositionSet object at 0x7f83d250c290>}\n",
        "CPU times: user 24.2 s, sys: 315 ms, total: 24.5 s\n",
        "Wall time: 31.9 s\n"
       ]
      }
     ],
     "prompt_number": 1
    },
    {
     "cell_type": "code",
     "collapsed": false,
     "input": [],
     "language": "python",
     "metadata": {},
     "outputs": [],
     "prompt_number": 1
    }
   ],
   "metadata": {}
  }
 ]
}