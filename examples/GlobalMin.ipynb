{
 "metadata": {
  "name": "",
  "signature": "sha256:3755d37885e9182c4d16f0d6284b075f507e2c4269b0bebf9f17f17ecc8c4dd0"
 },
 "nbformat": 3,
 "nbformat_minor": 0,
 "worksheets": [
  {
   "cells": [
    {
     "cell_type": "code",
     "collapsed": false,
     "input": [
      "%matplotlib inline"
     ],
     "language": "python",
     "metadata": {},
     "outputs": [],
     "prompt_number": 1
    },
    {
     "cell_type": "code",
     "collapsed": false,
     "input": [
      "import calphad.libcalphadcpp as lcp\n",
      "import numpy as np\n",
      "import matplotlib.pyplot as plt\n",
      "from matplotlib.colors import LinearSegmentedColormap"
     ],
     "language": "python",
     "metadata": {},
     "outputs": [],
     "prompt_number": 2
    },
    {
     "cell_type": "code",
     "collapsed": false,
     "input": [
      "class GlobMin(lcp.GlobalMinimizer):\n",
      "   def triangulate_hull(self):\n",
      "       raw_entries = lcp.GlobalMinimizer.get_hull_entries(self)\n",
      "       facets = lcp.GlobalMinimizer.get_facets(self)\n",
      "       entries = []\n",
      "       facet_list = []\n",
      "       point_phases = []\n",
      "       for entry in raw_entries:\n",
      "\t       stripped_entry = []\n",
      "\t       for coords in entry.global_coordinates:\n",
      "\t\t       stripped_entry.append(coords.data())\n",
      "\t       #stripped_entry.append(entry.energy)\n",
      "\t       point_phases.append(entry.phase_name)\n",
      "\t       entries.append(stripped_entry)\n",
      "       for facet in facets:\n",
      "\t       facet_list.append(facet.vertices)\n",
      "       return entries, facet_list, point_phases"
     ],
     "language": "python",
     "metadata": {},
     "outputs": []
    },
    {
     "cell_type": "code",
     "collapsed": false,
     "input": [
      "# Load thermodynamic database\n",
      "maindb = lcp.Database(\"crfeni_mie.tdb\")\n",
      "if maindb == None:\n",
      "\tsys.exit(\"Failed to load database\")\n",
      "\n",
      "# Set equilibrium conditions\n",
      "conds = lcp.evalconditions()\n",
      "conds.statevars['T'] = 300\n",
      "conds.statevars['P'] = 101325\n",
      "conds.statevars['N'] = 1\n",
      "conds.elements.append(\"FE\")\n",
      "conds.elements.append(\"NI\")\n",
      "conds.elements.append(\"CR\")\n",
      "conds.elements.append(\"VA\")\n",
      "conds.xfrac[\"NI\"] = .08\n",
      "conds.xfrac[\"CR\"] = .18\n",
      "conds.phases[\"HCP_A3\"] = lcp.PhaseStatus.SUSPENDED\n",
      "conds.phases[\"BCC_A2\"] = lcp.PhaseStatus.SUSPENDED\n",
      "conds.phases[\"FCC_A1\"] = lcp.PhaseStatus.ENTERED\n",
      "conds.phases[\"LIQUID\"] = lcp.PhaseStatus.SUSPENDED\n",
      "conds.phases[\"SIGMA\"] = lcp.PhaseStatus.SUSPENDED\n",
      "\n",
      "indices = lcp.IndexBiMap()\n",
      "varmap = lcp.build_variable_map ( maindb.get_phases(), conds, indices )\n",
      "cmps = {}\n",
      "\n",
      "for ph in maindb.get_phases():\n",
      "    status = conds.phases[ph.key()]\n",
      "    if (status == lcp.PhaseStatus.ENTERED):\n",
      "        cmps[ph.key()] = lcp.CompositionSet(ph.data(), maindb.get_parameter_set(), varmap, indices)\n",
      "print (\"Starting global minimization\")\n",
      "globminengine = GlobMin(cmps, varmap, conds)"
     ],
     "language": "python",
     "metadata": {},
     "outputs": []
    },
    {
     "cell_type": "code",
     "collapsed": false,
     "input": [
      "print(\"Getting hull\")\n",
      "xy, triangles, point_phases = globminengine.triangulate_hull()\n",
      "xy = np.asarray(xy)\n",
      "x = xy[:,0]\n",
      "y = xy[:,1]\n",
      "z = 1 - x - y\n",
      "\n",
      "new_x = 0.5*(2*y + z)/(x+y+z)\n",
      "new_y = (np.sqrt(3)/2)*z/(x+y+z)\n",
      "triangles = np.asarray(triangles)\n",
      "colorlist = {}\n",
      "import colorsys\n",
      "N = len(conds.phases)\n",
      "HSV_tuples = [(x*1.0/N, 0.5, 0.5) for x in range(N)]\n",
      "RGB_tuples = map(lambda x: colorsys.hsv_to_rgb(*x), HSV_tuples)\n",
      "\n",
      "phasecount = 0\n",
      "for phase in conds.phases:\n",
      "\tcolorlist[phase.key()] = RGB_tuples[phasecount]\n",
      "\tphasecount = phasecount + 1\n",
      "\n",
      "plotcolors = map(lambda x: colorlist[x], point_phases)\n",
      "\n",
      "colormap = LinearSegmentedColormap('PhaseColor', plotcolors)\n",
      "\n",
      "plt.figure(dpi=600,figsize=(9,9))\n",
      "plt.xlim([-0.01,1])\n",
      "plt.ylim([-0.01,0.9])\n",
      "plt.gca().set_aspect('equal')\n",
      "plt.triplot(new_x, new_y, triangles, 'go-', marker=None, zorder=1)\n",
      "plt.scatter(new_x, new_y, cmap=colormap, marker='.', zorder=2)\n",
      "plt.title('triplot of user-specified triangulation')\n",
      "plt.xlabel('X(A)')\n",
      "plt.ylabel('X(B)')\n",
      "plt.show()"
     ],
     "language": "python",
     "metadata": {},
     "outputs": []
    },
    {
     "cell_type": "code",
     "collapsed": false,
     "input": [],
     "language": "python",
     "metadata": {},
     "outputs": []
    },
    {
     "cell_type": "code",
     "collapsed": false,
     "input": [],
     "language": "python",
     "metadata": {},
     "outputs": []
    }
   ],
   "metadata": {}
  }
 ]
}