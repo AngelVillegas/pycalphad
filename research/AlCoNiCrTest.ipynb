{
 "cells": [
  {
   "cell_type": "code",
   "execution_count": 1,
   "metadata": {
    "collapsed": true
   },
   "outputs": [],
   "source": [
    "%matplotlib inline\n",
    "import matplotlib.pyplot as plt\n",
    "from pycalphad.eq.equilibrium import Equilibrium\n",
    "from pycalphad import Database, Model\n",
    "import pycalphad.variables as v"
   ]
  },
  {
   "cell_type": "code",
   "execution_count": 2,
   "metadata": {
    "collapsed": false
   },
   "outputs": [
    {
     "name": "stdout",
     "output_type": "stream",
     "text": [
      "CPU times: user 1min 35s, sys: 45 ms, total: 1min 35s\n",
      "Wall time: 1min 35s\n",
      "Molar Gibbs Energy:    -9.981136E+04\n",
      "Potentials:\n",
      "T=1373.0\n",
      "Molar Composition:\n",
      "X(AL)=2.000000E-01    X(CO)=2.000000E-01    X(CR)=2.000000E-01    X(NI)=4.000000E-01\n",
      "\n",
      "BCC_B2#1    0.000000E+00\n",
      "Mole fractions:    AL 3.893008E-01    CO 7.450395E-02    CR 1.074582E-01    NI 4.287370E-01\n",
      "Sublattice 1: 0.5 sites\n",
      "    AL 6.045745E-04    CO 8.912226E-02    CR 7.200962E-03    NI 6.897174E-01    VA 2.133548E-01\n",
      "Sublattice 2: 0.5 sites\n",
      "    AL 6.948606E-01    CO 4.397508E-02    CR 1.847674E-01    NI 7.619838E-02    VA 1.985103E-04\n",
      "Sublattice 3: 3.0 sites\n",
      "    VA 1.000000E+00\n",
      "\n",
      "L12_FCC#1    1.000000E+00\n",
      "Mole fractions:    AL 2.000000E-01    CO 2.000000E-01    CR 2.000000E-01    NI 4.000000E-01\n",
      "Sublattice 1: 0.75 sites\n",
      "    AL 1.999253E-01    CO 2.000082E-01    CR 2.000809E-01    NI 3.999857E-01\n",
      "Sublattice 2: 0.25 sites\n",
      "    AL 2.002241E-01    CO 1.999755E-01    CR 1.997574E-01    NI 4.000430E-01\n",
      "Sublattice 3: 1.0 sites\n",
      "    VA 1.000000E+00\n",
      "\n"
     ]
    }
   ],
   "source": [
    "dbf = Database('craldad_for_pandat.TDB')\n",
    "phases = ['LIQUID', 'L12_FCC', 'BCC_B2', 'HCP_A3']\n",
    "%time eq = Equilibrium(dbf, ['AL', 'CO', 'NI', 'CR', 'VA'] , phases,\\\n",
    "                       {v.X('AL'): 0.20, v.X('CO'): 0.2, v.X('CR'): 0.2}, T=1373.0, pdens=1000)\n",
    "print(eq)"
   ]
  },
  {
   "cell_type": "code",
   "execution_count": null,
   "metadata": {
    "collapsed": true
   },
   "outputs": [],
   "source": []
  }
 ],
 "metadata": {
  "kernelspec": {
   "display_name": "Python 3",
   "language": "python",
   "name": "python3"
  },
  "language_info": {
   "codemirror_mode": {
    "name": "ipython",
    "version": 3
   },
   "file_extension": ".py",
   "mimetype": "text/x-python",
   "name": "python",
   "nbconvert_exporter": "python",
   "pygments_lexer": "ipython3",
   "version": "3.3.5"
  }
 },
 "nbformat": 4,
 "nbformat_minor": 0
}
