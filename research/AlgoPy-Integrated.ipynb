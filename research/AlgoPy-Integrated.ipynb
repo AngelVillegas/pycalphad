{
 "cells": [
  {
   "cell_type": "code",
   "execution_count": 1,
   "metadata": {
    "collapsed": false
   },
   "outputs": [
    {
     "name": "stdout",
     "output_type": "stream",
     "text": [
      "(T, FCC_L120AL, FCC_L120NI, FCC_L121AL, FCC_L121NI, FCC_L122AL, FCC_L122NI, FCC_L123AL, FCC_L123NI, FCC_L124VA)\n",
      "[[  1.60000000e+03   3.70168537e-01   2.40990664e-01 ...,   7.33499088e-01\n",
      "    8.72870784e-01   6.29831463e-01]\n",
      " [  1.60000000e+03   5.40478524e-01   5.16085552e-01 ...,   9.22020353e-01\n",
      "    4.08862360e-01   4.59521476e-01]\n",
      " [  1.54755486e-01   8.87479862e-01   7.86040630e-01 ...,   7.90946657e-01\n",
      "    5.03202313e-01   1.12520138e-01]\n",
      " ..., \n",
      " [  1.27186493e-01   1.80890186e-01   2.34398113e-01 ...,   7.05099954e-01\n",
      "    7.56157105e-02   8.19109814e-01]\n",
      " [  2.12752667e-01   5.47497839e-01   1.86760062e-01 ...,   1.78829310e-01\n",
      "    3.31884816e-01   4.52502161e-01]\n",
      " [  2.19607372e-01   9.51496386e-01   7.94269100e-01 ...,   1.46878594e-01\n",
      "    1.48560907e-02   4.85036135e-02]]\n"
     ]
    }
   ],
   "source": [
    "from pycalphad import Database, Model\n",
    "from pycalphad.core.utils import NumPyPrinter\n",
    "from pycalphad.core.autograd_utils import build_functions as build_functions_ag\n",
    "from pycalphad.core.algopy_utils import build_functions as build_functions_algo\n",
    "from pycalphad.core.sympydiff_utils import make_gradient_from_graph\n",
    "import pycalphad.variables as v\n",
    "from sympy import lambdify\n",
    "import numpy as np\n",
    "import algopy\n",
    "from algopy import UTPM\n",
    "import itertools\n",
    "mod = Model(Database('2016-04-01-AlNi.tdb'), ['AL', 'NI', 'VA'], 'FCC_L12')\n",
    "print(tuple([v.T] + mod.site_fractions))\n",
    "\n",
    "inp_arr = np.tile([[300,0.5,0.5,0.5,0.5,0.5,0.5,0.5,0.5,1], [600, 0.4, 0.6,0.4,0.6,0.4,0.6,0.4,0.6,1]], (300,1))\n",
    "#inp_arr = np.array([[600, 0.4, 0.6,0.4,0.6,0.4,0.6,0.4,0.6,1]])\n",
    "inp_arr = np.random.RandomState(1769).rand(10000, 10)\n",
    "inp_arr[0, 0] = 1600\n",
    "inp_arr[1, 0] = 1600\n",
    "inp_arr[:, -1] = 1 - inp_arr[:, 1]\n",
    "#inp_arr = np.expand_dims(inp_arr[1], axis=0)\n",
    "print(inp_arr)\n",
    "\n",
    "def grad_sympy(ast, variables):\n",
    "    logical_np = [{'logical_and': np.logical_and}, np]\n",
    "    return lambdify(tuple(variables), [ast.diff(v) for v in variables], dummify=True, modules=logical_np, printer=NumPyPrinter)"
   ]
  },
  {
   "cell_type": "code",
   "execution_count": 2,
   "metadata": {
    "collapsed": false
   },
   "outputs": [
    {
     "name": "stdout",
     "output_type": "stream",
     "text": [
      "CPU times: user 28.2 s, sys: 51 ms, total: 28.3 s\n",
      "Wall time: 28.3 s\n"
     ]
    }
   ],
   "source": [
    "obj_ag, grad_ag, hess_ag = build_functions_ag(mod.ast, mod.variables)\n",
    "obj_algo, grad_algo, hess_algo = build_functions_algo(mod.ast, mod.variables)\n",
    "%time grad_numba = make_gradient_from_graph(mod)"
   ]
  },
  {
   "cell_type": "code",
   "execution_count": 3,
   "metadata": {
    "collapsed": false
   },
   "outputs": [
    {
     "name": "stdout",
     "output_type": "stream",
     "text": [
      "CPU times: user 23 ms, sys: 0 ns, total: 23 ms\n",
      "Wall time: 23.3 ms\n"
     ]
    }
   ],
   "source": [
    "import itertools\n",
    "%time g3 = grad_numba(*list(itertools.chain([inp_arr[..., i] for i in range(inp_arr.shape[-1])], [np.empty(inp_arr.shape[-1]), np.zeros(inp_arr.shape)])))"
   ]
  },
  {
   "cell_type": "code",
   "execution_count": 4,
   "metadata": {
    "collapsed": false
   },
   "outputs": [
    {
     "name": "stdout",
     "output_type": "stream",
     "text": [
      "CPU times: user 240 ms, sys: 53 ms, total: 293 ms\n",
      "Wall time: 293 ms\n",
      "CPU times: user 3.84 s, sys: 158 ms, total: 3.99 s\n",
      "Wall time: 3.99 s\n",
      "CPU times: user 1.57 s, sys: 7 ms, total: 1.57 s\n",
      "Wall time: 1.57 s\n"
     ]
    }
   ],
   "source": [
    "o1 = obj_ag(*inp_arr.T)\n",
    "%time g1 = grad_ag(*inp_arr.T)\n",
    "%time h1 = hess_ag(*inp_arr.T)\n",
    "o2 = obj_algo(*inp_arr.T)\n",
    "%time g2 = grad_algo(*inp_arr.T)\n",
    "h2 = hess_algo(*inp_arr.T)"
   ]
  },
  {
   "cell_type": "code",
   "execution_count": 5,
   "metadata": {
    "collapsed": false
   },
   "outputs": [
    {
     "data": {
      "text/plain": [
       "array([[ -3.04586555e+01,  -6.86365608e+04,  -7.75780824e+04, ...,\n",
       "         -2.17832811e+04,  -2.81337508e+04,  -1.00238564e+05],\n",
       "       [ -3.20865747e+01,  -4.67034156e+04,  -5.65974961e+04, ...,\n",
       "         -3.79620528e+04,  -4.48707719e+04,  -1.42145241e+05],\n",
       "       [ -2.17009482e+00,   1.50083732e-01,   1.29397685e-01, ...,\n",
       "          1.30458093e-01,   5.33842274e-02,  -1.77927238e-01],\n",
       "       ..., \n",
       "       [ -4.24260733e+00,  -1.58921800e-01,  -1.00908606e-01, ...,\n",
       "          1.45650238e-01,  -3.54192321e-01,  -4.56945407e-01],\n",
       "       [ -2.99337125e+00,   1.13624247e-01,  -1.93734217e-01, ...,\n",
       "         -2.06134742e-01,  -2.94252716e-02,  -4.11533833e-01],\n",
       "       [ -1.45762141e+00,   2.22283475e-01,   1.80035521e-01, ...,\n",
       "         -2.14767440e-01,  -7.50709241e-01,  -1.64030233e-01]])"
      ]
     },
     "execution_count": 5,
     "metadata": {},
     "output_type": "execute_result"
    }
   ],
   "source": [
    "g1"
   ]
  },
  {
   "cell_type": "code",
   "execution_count": 6,
   "metadata": {
    "collapsed": false
   },
   "outputs": [
    {
     "data": {
      "text/plain": [
       "array([[ -3.36190308e+00,   1.50568090e+01,  -1.02673771e+03, ...,\n",
       "          1.67500444e+03,   2.09725912e+03,  -3.92582721e+03],\n",
       "       [ -3.18344881e+00,   8.30543231e+02,   7.30838325e+02, ...,\n",
       "          1.98365960e+03,   2.28034303e+02,  -3.30645187e+03],\n",
       "       [ -2.17009482e+00,   1.50083732e-01,   1.29397685e-01, ...,\n",
       "          1.30458093e-01,   5.33842274e-02,  -1.77927238e-01],\n",
       "       ..., \n",
       "       [ -4.24260733e+00,  -1.58921800e-01,  -1.00908606e-01, ...,\n",
       "          1.45650238e-01,  -3.54192321e-01,  -4.56945407e-01],\n",
       "       [ -2.99337125e+00,   1.13624247e-01,  -1.93734217e-01, ...,\n",
       "         -2.06134742e-01,  -2.94252716e-02,  -4.11533833e-01],\n",
       "       [ -1.45762141e+00,   2.22283475e-01,   1.80035521e-01, ...,\n",
       "         -2.14767440e-01,  -7.50709241e-01,  -1.64030233e-01]])"
      ]
     },
     "execution_count": 6,
     "metadata": {},
     "output_type": "execute_result"
    }
   ],
   "source": [
    "g2"
   ]
  },
  {
   "cell_type": "code",
   "execution_count": 7,
   "metadata": {
    "collapsed": false
   },
   "outputs": [
    {
     "data": {
      "text/plain": [
       "array([[ -3.04586555e+01,  -6.86365608e+04,  -7.75780824e+04, ...,\n",
       "         -2.17832811e+04,  -2.81337508e+04,  -1.00238564e+05],\n",
       "       [ -3.20865747e+01,  -4.67034156e+04,  -5.65974961e+04, ...,\n",
       "         -3.79620528e+04,  -4.48707719e+04,  -1.42145241e+05],\n",
       "       [ -2.17009482e+00,   1.50083732e-01,   1.29397685e-01, ...,\n",
       "          1.30458093e-01,   5.33842274e-02,  -1.77927238e-01],\n",
       "       ..., \n",
       "       [ -4.24260733e+00,  -1.58921800e-01,  -1.00908606e-01, ...,\n",
       "          1.45650238e-01,  -3.54192321e-01,  -4.56945407e-01],\n",
       "       [ -2.99337125e+00,   1.13624247e-01,  -1.93734217e-01, ...,\n",
       "         -2.06134742e-01,  -2.94252716e-02,  -4.11533833e-01],\n",
       "       [ -1.45762141e+00,   2.22283475e-01,   1.80035521e-01, ...,\n",
       "         -2.14767440e-01,  -7.50709241e-01,  -1.64030233e-01]])"
      ]
     },
     "execution_count": 7,
     "metadata": {},
     "output_type": "execute_result"
    }
   ],
   "source": [
    "np.array(g3)"
   ]
  },
  {
   "cell_type": "code",
   "execution_count": 8,
   "metadata": {
    "collapsed": false
   },
   "outputs": [
    {
     "ename": "AssertionError",
     "evalue": "\nNot equal to tolerance rtol=1e-07, atol=0\n\n(mismatch 0.01999999999999602%)\n x: array([[ -3.045866e+01,  -6.863656e+04,  -7.757808e+04, ...,\n         -2.178328e+04,  -2.813375e+04,  -1.002386e+05],\n       [ -3.208657e+01,  -4.670342e+04,  -5.659750e+04, ...,...\n y: array([[ -3.361903e+00,   1.505681e+01,  -1.026738e+03, ...,\n          1.675004e+03,   2.097259e+03,  -3.925827e+03],\n       [ -3.183449e+00,   8.305432e+02,   7.308383e+02, ...,...",
     "output_type": "error",
     "traceback": [
      "\u001b[1;31m---------------------------------------------------------------------------\u001b[0m",
      "\u001b[1;31mAssertionError\u001b[0m                            Traceback (most recent call last)",
      "\u001b[1;32m<ipython-input-8-2d5d04982e0c>\u001b[0m in \u001b[0;36m<module>\u001b[1;34m()\u001b[0m\n\u001b[0;32m      2\u001b[0m \u001b[1;33m\u001b[0m\u001b[0m\n\u001b[0;32m      3\u001b[0m \u001b[0mnumpy\u001b[0m\u001b[1;33m.\u001b[0m\u001b[0mtesting\u001b[0m\u001b[1;33m.\u001b[0m\u001b[0massert_allclose\u001b[0m\u001b[1;33m(\u001b[0m\u001b[0mo1\u001b[0m\u001b[1;33m,\u001b[0m \u001b[0mo2\u001b[0m\u001b[1;33m)\u001b[0m\u001b[1;33m\u001b[0m\u001b[0m\n\u001b[1;32m----> 4\u001b[1;33m \u001b[0mnumpy\u001b[0m\u001b[1;33m.\u001b[0m\u001b[0mtesting\u001b[0m\u001b[1;33m.\u001b[0m\u001b[0massert_allclose\u001b[0m\u001b[1;33m(\u001b[0m\u001b[0mg1\u001b[0m\u001b[1;33m,\u001b[0m \u001b[0mg2\u001b[0m\u001b[1;33m)\u001b[0m\u001b[1;33m\u001b[0m\u001b[0m\n\u001b[0m\u001b[0;32m      5\u001b[0m \u001b[0mnumpy\u001b[0m\u001b[1;33m.\u001b[0m\u001b[0mtesting\u001b[0m\u001b[1;33m.\u001b[0m\u001b[0massert_allclose\u001b[0m\u001b[1;33m(\u001b[0m\u001b[0mh1\u001b[0m\u001b[1;33m,\u001b[0m \u001b[0mh2\u001b[0m\u001b[1;33m)\u001b[0m\u001b[1;33m\u001b[0m\u001b[0m\n\u001b[0;32m      6\u001b[0m \u001b[0mprint\u001b[0m\u001b[1;33m(\u001b[0m\u001b[1;34m'equivalent'\u001b[0m\u001b[1;33m)\u001b[0m\u001b[1;33m\u001b[0m\u001b[0m\n",
      "\u001b[1;32m/home/rotis/anaconda/envs/calphadpy3/lib/python3.5/site-packages/numpy/testing/utils.py\u001b[0m in \u001b[0;36massert_allclose\u001b[1;34m(actual, desired, rtol, atol, equal_nan, err_msg, verbose)\u001b[0m\n\u001b[0;32m   1357\u001b[0m     \u001b[0mheader\u001b[0m \u001b[1;33m=\u001b[0m \u001b[1;34m'Not equal to tolerance rtol=%g, atol=%g'\u001b[0m \u001b[1;33m%\u001b[0m \u001b[1;33m(\u001b[0m\u001b[0mrtol\u001b[0m\u001b[1;33m,\u001b[0m \u001b[0matol\u001b[0m\u001b[1;33m)\u001b[0m\u001b[1;33m\u001b[0m\u001b[0m\n\u001b[0;32m   1358\u001b[0m     assert_array_compare(compare, actual, desired, err_msg=str(err_msg),\n\u001b[1;32m-> 1359\u001b[1;33m                          verbose=verbose, header=header)\n\u001b[0m\u001b[0;32m   1360\u001b[0m \u001b[1;33m\u001b[0m\u001b[0m\n\u001b[0;32m   1361\u001b[0m \u001b[1;32mdef\u001b[0m \u001b[0massert_array_almost_equal_nulp\u001b[0m\u001b[1;33m(\u001b[0m\u001b[0mx\u001b[0m\u001b[1;33m,\u001b[0m \u001b[0my\u001b[0m\u001b[1;33m,\u001b[0m \u001b[0mnulp\u001b[0m\u001b[1;33m=\u001b[0m\u001b[1;36m1\u001b[0m\u001b[1;33m)\u001b[0m\u001b[1;33m:\u001b[0m\u001b[1;33m\u001b[0m\u001b[0m\n",
      "\u001b[1;32m/home/rotis/anaconda/envs/calphadpy3/lib/python3.5/site-packages/numpy/testing/utils.py\u001b[0m in \u001b[0;36massert_array_compare\u001b[1;34m(comparison, x, y, err_msg, verbose, header, precision)\u001b[0m\n\u001b[0;32m    711\u001b[0m                                 names=('x', 'y'), precision=precision)\n\u001b[0;32m    712\u001b[0m             \u001b[1;32mif\u001b[0m \u001b[1;32mnot\u001b[0m \u001b[0mcond\u001b[0m\u001b[1;33m:\u001b[0m\u001b[1;33m\u001b[0m\u001b[0m\n\u001b[1;32m--> 713\u001b[1;33m                 \u001b[1;32mraise\u001b[0m \u001b[0mAssertionError\u001b[0m\u001b[1;33m(\u001b[0m\u001b[0mmsg\u001b[0m\u001b[1;33m)\u001b[0m\u001b[1;33m\u001b[0m\u001b[0m\n\u001b[0m\u001b[0;32m    714\u001b[0m     \u001b[1;32mexcept\u001b[0m \u001b[0mValueError\u001b[0m\u001b[1;33m:\u001b[0m\u001b[1;33m\u001b[0m\u001b[0m\n\u001b[0;32m    715\u001b[0m         \u001b[1;32mimport\u001b[0m \u001b[0mtraceback\u001b[0m\u001b[1;33m\u001b[0m\u001b[0m\n",
      "\u001b[1;31mAssertionError\u001b[0m: \nNot equal to tolerance rtol=1e-07, atol=0\n\n(mismatch 0.01999999999999602%)\n x: array([[ -3.045866e+01,  -6.863656e+04,  -7.757808e+04, ...,\n         -2.178328e+04,  -2.813375e+04,  -1.002386e+05],\n       [ -3.208657e+01,  -4.670342e+04,  -5.659750e+04, ...,...\n y: array([[ -3.361903e+00,   1.505681e+01,  -1.026738e+03, ...,\n          1.675004e+03,   2.097259e+03,  -3.925827e+03],\n       [ -3.183449e+00,   8.305432e+02,   7.308383e+02, ...,..."
     ]
    }
   ],
   "source": [
    "import numpy.testing\n",
    "\n",
    "numpy.testing.assert_allclose(o1, o2)\n",
    "numpy.testing.assert_allclose(g1, g2)\n",
    "numpy.testing.assert_allclose(h1, h2)\n",
    "print('equivalent')"
   ]
  },
  {
   "cell_type": "code",
   "execution_count": null,
   "metadata": {
    "collapsed": true
   },
   "outputs": [],
   "source": []
  }
 ],
 "metadata": {
  "kernelspec": {
   "display_name": "Python 3",
   "language": "python",
   "name": "python3"
  },
  "language_info": {
   "codemirror_mode": {
    "name": "ipython",
    "version": 3
   },
   "file_extension": ".py",
   "mimetype": "text/x-python",
   "name": "python",
   "nbconvert_exporter": "python",
   "pygments_lexer": "ipython3",
   "version": "3.5.1"
  }
 },
 "nbformat": 4,
 "nbformat_minor": 0
}
