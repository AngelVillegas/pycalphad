{
 "cells": [
  {
   "cell_type": "markdown",
   "metadata": {},
   "source": [
    "# Calculating Isobaric Binary Phase Diagrams"
   ]
  },
  {
   "cell_type": "markdown",
   "metadata": {},
   "source": [
    "These are a few examples of how to use Thermo-Calc TDB files to calculate isobaric binary phase diagrams.\n",
    "\n",
    "Note that, at the time of writing, invariant reactions (three-phase 'regions' on binary diagrams) are not yet automatically detected so they\n",
    "are not drawn on the diagram."
   ]
  },
  {
   "cell_type": "code",
   "execution_count": 1,
   "metadata": {
    "collapsed": false
   },
   "outputs": [],
   "source": [
    "%matplotlib inline\n",
    "import matplotlib.pyplot as plt\n",
    "from pycalphad import Database, binplot"
   ]
  },
  {
   "cell_type": "markdown",
   "metadata": {},
   "source": [
    "## Al-Ni (Work in progress) (N. Dupin et al., 2001)"
   ]
  },
  {
   "cell_type": "code",
   "execution_count": 2,
   "metadata": {
    "collapsed": false
   },
   "outputs": [
    {
     "name": "stdout",
     "output_type": "stream",
     "text": [
      "CPU times: user 13.9 s, sys: 17 ms, total: 13.9 s\n",
      "Wall time: 13.9 s\n",
      "<xray.Dataset>\n",
      "Dimensions:       (P: 1, T: 1, X_AL: 1, component: 2, internal_dof: 7, vertex: 2)\n",
      "Coordinates:\n",
      "  * P             (P) float64 1.013e+05\n",
      "  * T             (T) float64 1.2e+03\n",
      "  * X_AL          (X_AL) float64 0.2\n",
      "  * vertex        (vertex) int64 0 1\n",
      "  * component     (component) object 'AL' 'NI'\n",
      "  * internal_dof  (internal_dof) int64 0 1 2 3 4 5 6\n",
      "Data variables:\n",
      "    NP            (P, T, X_AL, vertex) float64 0.6373 0.3627\n",
      "    MU            (P, T, X_AL, component) float64 -1.874e+05 -6.252e+04\n",
      "    GM            (P, T, X_AL) float64 -8.75e+04\n",
      "    X             (P, T, X_AL, vertex, component) float64 0.2302 0.7698 ...\n",
      "    Y             (P, T, X_AL, vertex, internal_dof) float64 0.004625 0.9954 ...\n",
      "    Phase         (P, T, X_AL, vertex) object u'FCC_L12' u'FCC_L12'\n",
      "Attributes:\n",
      "    iterations: 4\n"
     ]
    }
   ],
   "source": [
    "db_alni = Database('NI_AL_DUPIN_2001.TDB')\n",
    "my_phases_alni = ['LIQUID', 'FCC_L12', 'BCC_B2', 'AL3NI5', 'AL3NI2', 'AL3NI1']\n",
    "#fig = plt.figure(figsize=(9,6))\n",
    "from pycalphad import equilibrium\n",
    "import pycalphad.variables as v\n",
    "%time eq = equilibrium(db_alni, ['AL', 'NI', 'VA'], my_phases_alni, {v.T: 1200, v.P: 101325., v.X('AL'): 0.2}, verbose=False)\n",
    "#%time ax = binplot(db_alni, ['AL', 'NI', 'VA'] , my_phases_alni, 'AL', 300.0, 2000.0, steps=2)\n",
    "print(eq)"
   ]
  },
  {
   "cell_type": "code",
   "execution_count": 3,
   "metadata": {
    "collapsed": false
   },
   "outputs": [
    {
     "data": {
      "text/plain": [
       "<xray.DataArray 'Y' (P: 1, T: 1, X_AL: 1, vertex: 2, internal_dof: 7)>\n",
       "array([[[[[ 0.00462497,  0.99537503,  0.90672569,  0.09327431,  1.        ,\n",
       "                   nan,         nan],\n",
       "          [ 0.14701781,  0.85298219,  0.14701781,  0.85298219,  1.        ,\n",
       "                   nan,         nan]]]]])\n",
       "Coordinates:\n",
       "  * X_AL          (X_AL) float64 0.2\n",
       "  * internal_dof  (internal_dof) int64 0 1 2 3 4 5 6\n",
       "  * vertex        (vertex) int64 0 1\n",
       "  * P             (P) float64 1.013e+05\n",
       "  * T             (T) float64 1.2e+03"
      ]
     },
     "execution_count": 3,
     "metadata": {},
     "output_type": "execute_result"
    }
   ],
   "source": [
    "eq.Y"
   ]
  },
  {
   "cell_type": "code",
   "execution_count": null,
   "metadata": {
    "collapsed": true
   },
   "outputs": [],
   "source": []
  }
 ],
 "metadata": {
  "kernelspec": {
   "display_name": "Python 2",
   "language": "python",
   "name": "python2"
  },
  "language_info": {
   "codemirror_mode": {
    "name": "ipython",
    "version": 2
   },
   "file_extension": ".py",
   "mimetype": "text/x-python",
   "name": "python",
   "nbconvert_exporter": "python",
   "pygments_lexer": "ipython2",
   "version": "2.7.10"
  }
 },
 "nbformat": 4,
 "nbformat_minor": 0
}
