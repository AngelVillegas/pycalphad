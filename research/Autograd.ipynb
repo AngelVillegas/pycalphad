{
 "cells": [
  {
   "cell_type": "code",
   "execution_count": 1,
   "metadata": {
    "collapsed": false
   },
   "outputs": [],
   "source": [
    "from pycalphad import Database, Model\n",
    "model = Model(Database('alfe_sei.TDB'), ['AL', 'FE', 'VA'], 'B2_BCC')\n",
    "variables = model.variables"
   ]
  },
  {
   "cell_type": "code",
   "execution_count": 2,
   "metadata": {
    "collapsed": false
   },
   "outputs": [
    {
     "name": "stdout",
     "output_type": "stream",
     "text": [
      "[T, B2_BCC0AL, B2_BCC0FE, B2_BCC1AL, B2_BCC1FE, B2_BCC2VA]\n"
     ]
    }
   ],
   "source": [
    "print(variables)"
   ]
  },
  {
   "cell_type": "code",
   "execution_count": 4,
   "metadata": {
    "collapsed": false
   },
   "outputs": [],
   "source": [
    "from pycalphad.core.autograd_utils import build_functions\n",
    "from autograd import elementwise_grad, grad\n",
    "import numpy as np\n",
    "\n",
    "o, g, h = build_functions(model.ast, variables)\n",
    "%lprun -f g g(np.random.rand(10,1), np.random.rand(1,10), np.random.rand(1,10), np.random.rand(1,10), np.random.rand(1,10), np.random.rand(1,10))"
   ]
  },
  {
   "cell_type": "code",
   "execution_count": null,
   "metadata": {
    "collapsed": true
   },
   "outputs": [],
   "source": []
  }
 ],
 "metadata": {
  "kernelspec": {
   "display_name": "Python 2",
   "language": "python",
   "name": "python2"
  },
  "language_info": {
   "codemirror_mode": {
    "name": "ipython",
    "version": 2
   },
   "file_extension": ".py",
   "mimetype": "text/x-python",
   "name": "python",
   "nbconvert_exporter": "python",
   "pygments_lexer": "ipython2",
   "version": "2.7.10"
  }
 },
 "nbformat": 4,
 "nbformat_minor": 0
}
