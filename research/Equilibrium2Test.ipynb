{
 "cells": [
  {
   "cell_type": "code",
   "execution_count": 1,
   "metadata": {
    "collapsed": false
   },
   "outputs": [],
   "source": [
    "from pycalphad import equilibrium, calculate\n",
    "from pycalphad import Database, Model\n",
    "from pycalphad.core.lower_convex_hull import lower_convex_hull\n",
    "import pycalphad.variables as v"
   ]
  },
  {
   "cell_type": "code",
   "execution_count": 2,
   "metadata": {
    "collapsed": false
   },
   "outputs": [],
   "source": [
    "db_alfe = Database('alfe_sei.TDB')\n",
    "my_phases_alfe = ['LIQUID', 'HCP_A3', 'AL5FE2', 'AL2FE', 'AL13FE4', 'AL5FE4', 'FCC_A1', 'B2_BCC']"
   ]
  },
  {
   "cell_type": "code",
   "execution_count": 3,
   "metadata": {
    "collapsed": false,
    "scrolled": true
   },
   "outputs": [
    {
     "name": "stdout",
     "output_type": "stream",
     "text": [
      "Components: AL FE VA\n",
      "Phases: AL13FE4 AL2FE AL5FE2 AL5FE4 B2_BCC FCC_A1 HCP_A3 LIQUID [done]\n",
      "Computing initial grid [100 points, 10.1KB]\n",
      "Computing convex hull [iteration 1]\n",
      "progress 4.2087178346032145e+280\n",
      "Refining convex hull\n",
      "Rebuilding grid [1300 points, 130.1KB]\n",
      "Computing convex hull [iteration 2]\n",
      "progress 1.5580409072695376\n",
      "Refining convex hull\n",
      "Rebuilding grid [2500 points, 250.1KB]\n",
      "Computing convex hull [iteration 3]\n",
      "progress 3.1986819857460405\n",
      "Refining convex hull\n",
      "Rebuilding grid [3700 points, 370.1KB]\n",
      "Computing convex hull [iteration 4]\n",
      "progress 1.0091394348002942\n",
      "Refining convex hull\n",
      "Rebuilding grid [4900 points, 490.1KB]\n",
      "Computing convex hull [iteration 5]\n",
      "progress 0.9744326477059995\n",
      "Refining convex hull\n",
      "Rebuilding grid [6100 points, 610.1KB]\n",
      "Computing convex hull [iteration 6]\n",
      "progress 0.1777011133886954\n",
      "Refining convex hull\n",
      "Rebuilding grid [7300 points, 730.1KB]\n",
      "Computing convex hull [iteration 7]\n",
      "progress 0.21580055176889235\n",
      "Refining convex hull\n",
      "Rebuilding grid [8500 points, 850.1KB]\n",
      "Computing convex hull [iteration 8]\n",
      "progress 0.2749682525701965\n",
      "Refining convex hull\n",
      "Rebuilding grid [9700 points, 970.1KB]\n",
      "Computing convex hull [iteration 9]\n",
      "progress 0.3796456153886171\n",
      "Refining convex hull\n",
      "Rebuilding grid [10900 points, 1.1MB]\n",
      "Computing convex hull [iteration 10]\n",
      "progress 0.7235726095297841\n",
      "Refining convex hull\n",
      "Rebuilding grid [12100 points, 1.2MB]\n",
      "Computing convex hull [iteration 11]\n",
      "progress 0.13480121640199322\n",
      "Refining convex hull\n",
      "Rebuilding grid [13300 points, 1.3MB]\n",
      "Computing convex hull [iteration 12]\n",
      "progress 0.16058139798522195\n",
      "Refining convex hull\n",
      "Rebuilding grid [14500 points, 1.5MB]\n",
      "Computing convex hull [iteration 13]\n",
      "progress 0.14781831354426056\n",
      "Refining convex hull\n",
      "Rebuilding grid [15700 points, 1.6MB]\n",
      "Computing convex hull [iteration 14]\n",
      "progress 0.0791621153144354\n",
      "Refining convex hull\n",
      "Rebuilding grid [16900 points, 1.7MB]\n",
      "Computing convex hull [iteration 15]\n",
      "progress 0.06953310602170437\n",
      "Refining convex hull\n",
      "Rebuilding grid [18100 points, 1.8MB]\n",
      "Computing convex hull [iteration 16]\n",
      "progress 0.05679228080265237\n",
      "Refining convex hull\n",
      "Rebuilding grid [19300 points, 1.9MB]\n",
      "Computing convex hull [iteration 17]\n",
      "progress 0.07314490100972787\n",
      "Refining convex hull\n",
      "Rebuilding grid [20500 points, 2.1MB]\n",
      "Computing convex hull [iteration 18]\n",
      "progress 0.025273600560885342\n",
      "Refining convex hull\n",
      "Rebuilding grid [21700 points, 2.2MB]\n",
      "Computing convex hull [iteration 19]\n",
      "progress 0.046532182952475076\n",
      "Refining convex hull\n",
      "Rebuilding grid [22900 points, 2.3MB]\n",
      "Computing convex hull [iteration 20]\n",
      "progress 0.023056192625810473\n",
      "Refining convex hull\n",
      "Rebuilding grid [24100 points, 2.4MB]\n",
      "Computing convex hull [iteration 21]\n",
      "progress 0.014827573662366974\n",
      "Refining convex hull\n",
      "Rebuilding grid [25300 points, 2.5MB]\n",
      "Computing convex hull [iteration 22]\n",
      "progress 0.0020147637902726005\n",
      "Refining convex hull\n",
      "Rebuilding grid [26500 points, 2.7MB]\n",
      "Computing convex hull [iteration 23]\n",
      "progress 0.001228046301658895\n",
      "Refining convex hull\n",
      "Rebuilding grid [27700 points, 2.8MB]\n",
      "Computing convex hull [iteration 24]\n",
      "progress 0.028185072208872897\n",
      "Refining convex hull\n",
      "Rebuilding grid [28900 points, 2.9MB]\n",
      "Computing convex hull [iteration 25]\n",
      "progress 0.003026125862423638\n",
      "Refining convex hull\n",
      "Rebuilding grid [30100 points, 3.0MB]\n",
      "Computing convex hull [iteration 26]\n",
      "progress 0.0050147166245814315\n",
      "Refining convex hull\n",
      "Rebuilding grid [31300 points, 3.1MB]\n",
      "Computing convex hull [iteration 27]\n",
      "progress 0.0001476602077808773\n",
      "Convergence achieved\n",
      "CPU times: user 3min 23s, sys: 1.74 s, total: 3min 25s\n",
      "Wall time: 3min 25s\n",
      "<xray.Dataset>\n",
      "Dimensions:       (T: 1, X_AL: 100, component: 2, internal_dof: 5, vertex: 2)\n",
      "Coordinates:\n",
      "  * T             (T) float64 1.4e+03\n",
      "  * X_AL          (X_AL) float64 0.0001 0.0101 0.0201 0.0301 0.0401 0.0501 ...\n",
      "  * vertex        (vertex) int64 0 1\n",
      "  * component     (component) object 'AL' 'FE'\n",
      "  * internal_dof  (internal_dof) int64 0 1 2 3 4\n",
      "Data variables:\n",
      "    GM            (T, X_AL) float64 -7.249e+04 -7.382e+04 -7.498e+04 ...\n",
      "    MU            (T, X_AL, component) float64 -2.488e+05 -7.247e+04 ...\n",
      "    NP            (T, X_AL, vertex) float64 0.1951 0.8049 0.7351 0.2649 ...\n",
      "    X             (T, X_AL, vertex, component) float64 0.0001104 0.9999 ...\n",
      "    Y             (T, X_AL, vertex, internal_dof) float64 0.0001104 0.9999 ...\n",
      "    Phase         (T, X_AL, vertex) object 'FCC_A1' 'FCC_A1' 'FCC_A1' ...\n",
      "Attributes:\n",
      "    iterations: 27\n"
     ]
    }
   ],
   "source": [
    "%time eq = equilibrium(db_alfe, ['AL', 'FE', 'VA'], my_phases_alfe, {v.X('AL'): (1e-4,1,0.01), v.T: 1400.})\n",
    "print(eq)"
   ]
  },
  {
   "cell_type": "code",
   "execution_count": 4,
   "metadata": {
    "collapsed": false
   },
   "outputs": [
    {
     "data": {
      "text/plain": [
       "<matplotlib.legend.Legend at 0x7ff6984afc50>"
      ]
     },
     "execution_count": 4,
     "metadata": {},
     "output_type": "execute_result"
    },
    {
     "data": {
      "image/png": "[encoded data removed]",
      "text/plain": [
       "<matplotlib.figure.Figure at 0x7ff698508240>"
      ]
     },
     "metadata": {},
     "output_type": "display_data"
    }
   ],
   "source": [
    "%matplotlib inline\n",
    "import matplotlib.pyplot as plt\n",
    "from pycalphad.plot.utils import phase_legend\n",
    "plt.gca().set_xlim((0,1))\n",
    "plt.gca().set_title('Chemical potential of Fe vs X(AL), 1400 K')\n",
    "plt.gca().set_xlabel('X(AL)')\n",
    "plt.gca().set_ylabel('MU(FE)')\n",
    "phase_handles, phasemap = phase_legend(my_phases_alfe)\n",
    "phasecolors = [phasemap[str(p.values)] for p in eq.Phase.sel(T=1400, vertex=0)]\n",
    "plt.scatter(eq.X.sel(T=1400, component='AL', vertex=0), eq.MU.sel(T=1400, component='FE'), color=phasecolors)\n",
    "phasecolors = [phasemap[str(p.values)] for p in eq.Phase.sel(T=1400, vertex=1)]\n",
    "plt.scatter(eq.X.sel(T=1400, component='AL', vertex=1), eq.MU.sel(T=1400, component='FE'), color=phasecolors)\n",
    "plt.gca().legend(phase_handles, my_phases_alfe, loc='lower left')"
   ]
  },
  {
   "cell_type": "code",
   "execution_count": 5,
   "metadata": {
    "collapsed": false
   },
   "outputs": [
    {
     "name": "stdout",
     "output_type": "stream",
     "text": [
      "Components: AL FE VA\n",
      "Phases: AL13FE4 AL2FE AL5FE2 AL5FE4 B2_BCC FCC_A1 HCP_A3 LIQUID [done]\n",
      "Computing initial grid [100 points, 102.1KB]\n",
      "Computing convex hull [iteration 1]\n",
      "progress 29.562286189162705\n",
      "Refining convex hull\n",
      "Rebuilding grid [112 points, 114.4KB]\n",
      "Computing convex hull [iteration 2]\n",
      "progress 2.6021446293958688\n",
      "Refining convex hull\n",
      "Rebuilding grid [124 points, 126.6KB]\n",
      "Computing convex hull [iteration 3]\n",
      "progress 1.5078122625571737\n",
      "Refining convex hull\n",
      "Rebuilding grid [136 points, 138.9KB]\n",
      "Computing convex hull [iteration 4]\n",
      "progress 1.2740614443208282\n",
      "Refining convex hull\n",
      "Rebuilding grid [148 points, 151.1KB]\n",
      "Computing convex hull [iteration 5]\n",
      "progress 0.6503443834082103\n",
      "Refining convex hull\n",
      "Rebuilding grid [160 points, 163.3KB]\n",
      "Computing convex hull [iteration 6]\n",
      "progress 0.30560094260892967\n",
      "Refining convex hull\n",
      "Rebuilding grid [172 points, 175.6KB]\n",
      "Computing convex hull [iteration 7]\n",
      "progress 0.17334937648285959\n",
      "Refining convex hull\n",
      "Rebuilding grid [184 points, 187.8KB]\n",
      "Computing convex hull [iteration 8]\n",
      "progress 0.10324428278838159\n",
      "Refining convex hull\n",
      "Rebuilding grid [196 points, 200.1KB]\n",
      "Computing convex hull [iteration 9]\n",
      "progress 0.1355662080207235\n",
      "Refining convex hull\n",
      "Rebuilding grid [208 points, 212.3KB]\n",
      "Computing convex hull [iteration 10]\n",
      "progress 0.02584299225855471\n",
      "Refining convex hull\n",
      "Rebuilding grid [220 points, 224.5KB]\n",
      "Computing convex hull [iteration 11]\n",
      "progress 0.01051221392862582\n",
      "Refining convex hull\n",
      "Rebuilding grid [232 points, 236.8KB]\n",
      "Computing convex hull [iteration 12]\n",
      "progress 0.005290642250974059\n",
      "Refining convex hull\n",
      "Rebuilding grid [244 points, 249.0KB]\n",
      "Computing convex hull [iteration 13]\n",
      "progress 0.0003113932112029852\n",
      "Convergence achieved\n",
      "<xray.Dataset>\n",
      "Dimensions:       (T: 11, X_AL: 1, component: 2, internal_dof: 5, vertex: 2)\n",
      "Coordinates:\n",
      "  * T             (T) float64 300.0 400.0 500.0 600.0 700.0 800.0 900.0 ...\n",
      "  * X_AL          (X_AL) float64 0.2\n",
      "  * vertex        (vertex) int64 0 1\n",
      "  * component     (component) object 'AL' 'FE'\n",
      "  * internal_dof  (internal_dof) int64 0 1 2 3 4\n",
      "Data variables:\n",
      "    GM            (T, X_AL) float64 -2.47e+04 -2.839e+04 -3.207e+04 ...\n",
      "    MU            (T, X_AL, component) float64 -7.368e+04 -1.245e+04 ...\n",
      "    NP            (T, X_AL, vertex) float64 0.1478 0.8522 0.0969 0.9031 ...\n",
      "    X             (T, X_AL, vertex, component) float64 0.3007 0.6993 0.1825 ...\n",
      "    Y             (T, X_AL, vertex, internal_dof) float64 0.04563 0.9544 ...\n",
      "    Phase         (T, X_AL, vertex) object 'B2_BCC' 'B2_BCC' 'B2_BCC' ...\n",
      "Attributes:\n",
      "    iterations: 13\n",
      "CPU times: user 2min 25s, sys: 49 ms, total: 2min 25s\n",
      "Wall time: 2min 25s\n"
     ]
    }
   ],
   "source": [
    "%%time\n",
    "eq = equilibrium(db_alfe, ['AL', 'FE', 'VA'], my_phases_alfe,\n",
    "    {v.X('AL'): 0.2, v.T: (300, 1400, 100)})\n",
    "print(eq)"
   ]
  },
  {
   "cell_type": "code",
   "execution_count": 7,
   "metadata": {
    "collapsed": false
   },
   "outputs": [
    {
     "data": {
      "text/plain": [
       "[<matplotlib.lines.Line2D at 0x7ff6982ed550>]"
      ]
     },
     "execution_count": 7,
     "metadata": {},
     "output_type": "execute_result"
    },
    {
     "data": {
      "image/png": "[encoded data removed]",
      "text/plain": [
       "<matplotlib.figure.Figure at 0x7ff6984d8ef0>"
      ]
     },
     "metadata": {},
     "output_type": "display_data"
    }
   ],
   "source": [
    "%matplotlib inline\n",
    "import matplotlib.pyplot as plt\n",
    "plt.gca().set_title('Gibbs energy versus T, X(AL)=0.2')\n",
    "plt.gca().set_xlabel('T')\n",
    "plt.gca().set_ylabel('GM')\n",
    "plt.plot(eq['T'], eq.GM.sel(X_AL=0.2))"
   ]
  },
  {
   "cell_type": "code",
   "execution_count": null,
   "metadata": {
    "collapsed": true
   },
   "outputs": [],
   "source": []
  }
 ],
 "metadata": {
  "kernelspec": {
   "display_name": "Python 3",
   "language": "python",
   "name": "python3"
  },
  "language_info": {
   "codemirror_mode": {
    "name": "ipython",
    "version": 3
   },
   "file_extension": ".py",
   "mimetype": "text/x-python",
   "name": "python",
   "nbconvert_exporter": "python",
   "pygments_lexer": "ipython3",
   "version": "3.4.3"
  }
 },
 "nbformat": 4,
 "nbformat_minor": 0
}
