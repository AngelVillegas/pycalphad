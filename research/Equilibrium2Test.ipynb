{
 "cells": [
  {
   "cell_type": "code",
   "execution_count": 1,
   "metadata": {
    "collapsed": false
   },
   "outputs": [],
   "source": [
    "from pycalphad import equilibrium, calculate\n",
    "from pycalphad import Database\n",
    "from pycalphad.core.lower_convex_hull import lower_convex_hull\n",
    "import pycalphad.variables as v"
   ]
  },
  {
   "cell_type": "code",
   "execution_count": 53,
   "metadata": {
    "collapsed": false
   },
   "outputs": [],
   "source": [
    "db_alfe = Database('alfe_sei.TDB')\n",
    "my_phases_alfe = ['LIQUID', 'B2_BCC', 'HCP_A3', 'AL5FE2', 'AL2FE', 'AL13FE4', 'AL5FE4', 'FCC_A1']"
   ]
  },
  {
   "cell_type": "code",
   "execution_count": 54,
   "metadata": {
    "collapsed": false,
    "scrolled": true
   },
   "outputs": [
    {
     "name": "stdout",
     "output_type": "stream",
     "text": [
      "Components: AL FE VA\n",
      "Phases: AL13FE4 AL2FE AL5FE2 AL5FE4 B2_BCC FCC_A1 HCP_A3 LIQUID [done]\n",
      "Computing initial grid [100 points, 10.1KB]\n",
      "Computing convex hull [iteration 1]\n",
      "progress 15.190398846500692\n",
      "Refining convex hull\n",
      "Rebuilding grid [1180 points, 118.1KB]\n",
      "Computing convex hull [iteration 2]\n",
      "progress 1.1444284212061981\n",
      "Refining convex hull\n",
      "Rebuilding grid [2260 points, 226.1KB]\n",
      "Computing convex hull [iteration 3]\n",
      "progress 0.6438956414328705\n",
      "Refining convex hull\n",
      "Rebuilding grid [3340 points, 334.1KB]\n",
      "Computing convex hull [iteration 4]\n",
      "progress 0.4101845664054952\n",
      "Refining convex hull\n",
      "Rebuilding grid [4420 points, 442.1KB]\n",
      "Computing convex hull [iteration 5]\n",
      "progress 0.4769258251749817\n",
      "Refining convex hull\n",
      "Rebuilding grid [5500 points, 550.1KB]\n",
      "Computing convex hull [iteration 6]\n",
      "progress 0.2747830903365692\n",
      "Refining convex hull\n",
      "Rebuilding grid [6580 points, 658.1KB]\n",
      "Computing convex hull [iteration 7]\n",
      "progress 0.09918221931848331\n",
      "Refining convex hull\n",
      "Rebuilding grid [7660 points, 766.1KB]\n",
      "Computing convex hull [iteration 8]\n",
      "progress 0.061391166970296146\n",
      "Refining convex hull\n",
      "Rebuilding grid [8740 points, 874.1KB]\n",
      "Computing convex hull [iteration 9]\n",
      "progress 0.05222588708554937\n",
      "Refining convex hull\n",
      "Rebuilding grid [9820 points, 982.1KB]\n",
      "Computing convex hull [iteration 10]\n",
      "progress 0.06636346650123973\n",
      "Refining convex hull\n",
      "Rebuilding grid [10900 points, 1.1MB]\n",
      "Computing convex hull [iteration 11]\n",
      "progress 0.05708933817009201\n",
      "Refining convex hull\n",
      "Rebuilding grid [11980 points, 1.2MB]\n",
      "Computing convex hull [iteration 12]\n",
      "progress 0.027717868998626098\n",
      "Refining convex hull\n",
      "Rebuilding grid [13060 points, 1.3MB]\n",
      "Computing convex hull [iteration 13]\n",
      "progress 0.04901945162062753\n",
      "Refining convex hull\n",
      "Rebuilding grid [14140 points, 1.4MB]\n",
      "Computing convex hull [iteration 14]\n",
      "progress 0.07171334921385956\n",
      "Refining convex hull\n",
      "Rebuilding grid [15220 points, 1.5MB]\n",
      "Computing convex hull [iteration 15]\n",
      "progress 0.05300564498628963\n",
      "Refining convex hull\n",
      "Rebuilding grid [16300 points, 1.6MB]\n",
      "Computing convex hull [iteration 16]\n",
      "progress 0.04776773979565238\n",
      "Refining convex hull\n",
      "Rebuilding grid [17380 points, 1.7MB]\n",
      "Computing convex hull [iteration 17]\n",
      "progress 0.06932141734894967\n",
      "Refining convex hull\n",
      "Rebuilding grid [18460 points, 1.8MB]\n",
      "Computing convex hull [iteration 18]\n",
      "progress 0.1324861900648942\n",
      "Refining convex hull\n",
      "Rebuilding grid [19540 points, 2.0MB]\n",
      "Computing convex hull [iteration 19]\n",
      "progress 0.10079918479903595\n",
      "Refining convex hull\n",
      "Rebuilding grid [20620 points, 2.1MB]\n",
      "Computing convex hull [iteration 20]\n",
      "progress 0.011104658137984906\n",
      "Refining convex hull\n",
      "Rebuilding grid [21700 points, 2.2MB]\n",
      "Computing convex hull [iteration 21]\n",
      "progress 1.3582300735793576e-05\n",
      "Convergence achieved\n",
      "CPU times: user 2min 47s, sys: 303 ms, total: 2min 47s\n",
      "Wall time: 2min 47s\n",
      "<xray.Dataset>\n",
      "Dimensions:       (T: 1, X_AL: 90, component: 2, internal_dof: 5, vertex: 2)\n",
      "Coordinates:\n",
      "  * T             (T) float64 1.4e+03\n",
      "  * X_AL          (X_AL) float64 0.1 0.11 0.12 0.13 0.14 0.15 0.16 0.17 0.18 ...\n",
      "  * vertex        (vertex) int64 0 1\n",
      "  * component     (component) object 'AL' 'FE'\n",
      "  * internal_dof  (internal_dof) int64 0 1 2 3 4\n",
      "Data variables:\n",
      "    NP            (T, X_AL, vertex) float64 0.4434 0.5566 0.6251 0.3749 ...\n",
      "    GM            (T, X_AL) float64 -8.267e+04 -8.348e+04 -8.426e+04 ...\n",
      "    MU            (T, X_AL, component) float64 -1.568e+05 -7.444e+04 ...\n",
      "    X             (T, X_AL, vertex, component) float64 0.1042 0.8958 0.09669 ...\n",
      "    Y             (T, X_AL, vertex, internal_dof) float64 0.1038 0.8962 ...\n",
      "    Phase         (T, X_AL, vertex) object 'B2_BCC' 'B2_BCC' 'B2_BCC' ...\n",
      "Attributes:\n",
      "    iterations: 21\n"
     ]
    }
   ],
   "source": [
    "%time eq = equilibrium(db_alfe, ['AL', 'FE', 'VA'], my_phases_alfe, {v.X('AL'): (0.1, 1, 0.01), v.T: 1400})\n",
    "print(eq)"
   ]
  },
  {
   "cell_type": "code",
   "execution_count": 55,
   "metadata": {
    "collapsed": false
   },
   "outputs": [
    {
     "data": {
      "text/plain": [
       "<matplotlib.legend.Legend at 0x7f4b63a4b8d0>"
      ]
     },
     "execution_count": 55,
     "metadata": {},
     "output_type": "execute_result"
    },
    {
     "data": {
      "image/png": "[encoded data removed]",
      "text/plain": [
       "<matplotlib.figure.Figure at 0x7f4b638b30f0>"
      ]
     },
     "metadata": {},
     "output_type": "display_data"
    }
   ],
   "source": [
    "%matplotlib inline\n",
    "import matplotlib.pyplot as plt\n",
    "from pycalphad.plot.utils import phase_legend\n",
    "plt.gca().set_xlim((0,1))\n",
    "plt.gca().set_title('Chemical potential of Fe vs X(AL), 1400 K')\n",
    "plt.gca().set_xlabel('X(AL)')\n",
    "plt.gca().set_ylabel('MU(FE)')\n",
    "phase_handles, phasemap = phase_legend(my_phases_alfe)\n",
    "phasecolors = [phasemap[str(p.values)] for p in eq.Phase.sel(T=1400, vertex=0)]\n",
    "plt.scatter(eq.X.sel(T=1400, component='AL', vertex=0), eq.MU.sel(T=1400, component='FE'), color=phasecolors)\n",
    "phasecolors = [phasemap[str(p.values)] for p in eq.Phase.sel(T=1400, vertex=1)]\n",
    "plt.scatter(eq.X.sel(T=1400, component='AL', vertex=1), eq.MU.sel(T=1400, component='FE'), color=phasecolors)\n",
    "plt.gca().legend(phase_handles, my_phases_alfe, loc='lower left')"
   ]
  },
  {
   "cell_type": "code",
   "execution_count": 56,
   "metadata": {
    "collapsed": false
   },
   "outputs": [
    {
     "name": "stdout",
     "output_type": "stream",
     "text": [
      "Components: AL FE VA\n",
      "Phases: AL13FE4 AL2FE AL5FE2 AL5FE4 B2_BCC FCC_A1 HCP_A3 LIQUID [done]\n",
      "Computing initial grid [100 points, 102.1KB]\n",
      "Computing convex hull [iteration 1]\n",
      "progress 29.562286189162705\n",
      "Refining convex hull\n",
      "Rebuilding grid [112 points, 114.4KB]\n",
      "Computing convex hull [iteration 2]\n",
      "progress 2.6021446293958688\n",
      "Refining convex hull\n",
      "Rebuilding grid [124 points, 126.6KB]\n",
      "Computing convex hull [iteration 3]\n",
      "progress 1.5078122625571737\n",
      "Refining convex hull\n",
      "Rebuilding grid [136 points, 138.9KB]\n",
      "Computing convex hull [iteration 4]\n",
      "progress 1.2740614443208282\n",
      "Refining convex hull\n",
      "Rebuilding grid [148 points, 151.1KB]\n",
      "Computing convex hull [iteration 5]\n",
      "progress 0.6503443834082103\n",
      "Refining convex hull\n",
      "Rebuilding grid [160 points, 163.3KB]\n",
      "Computing convex hull [iteration 6]\n",
      "progress 0.30560094260892967\n",
      "Refining convex hull\n",
      "Rebuilding grid [172 points, 175.6KB]\n",
      "Computing convex hull [iteration 7]\n",
      "progress 0.17334937648285959\n",
      "Refining convex hull\n",
      "Rebuilding grid [184 points, 187.8KB]\n",
      "Computing convex hull [iteration 8]\n",
      "progress 0.10324428278838159\n",
      "Refining convex hull\n",
      "Rebuilding grid [196 points, 200.1KB]\n",
      "Computing convex hull [iteration 9]\n",
      "progress 0.1355662080207235\n",
      "Refining convex hull\n",
      "Rebuilding grid [208 points, 212.3KB]\n",
      "Computing convex hull [iteration 10]\n",
      "progress 0.02584299225855471\n",
      "Refining convex hull\n",
      "Rebuilding grid [220 points, 224.5KB]\n",
      "Computing convex hull [iteration 11]\n",
      "progress 0.01051221392862582\n",
      "Refining convex hull\n",
      "Rebuilding grid [232 points, 236.8KB]\n",
      "Computing convex hull [iteration 12]\n",
      "progress 0.005290642250974059\n",
      "Refining convex hull\n",
      "Rebuilding grid [244 points, 249.0KB]\n",
      "Computing convex hull [iteration 13]\n",
      "progress 0.0003113932112029852\n",
      "Convergence achieved\n",
      "<xray.Dataset>\n",
      "Dimensions:       (T: 11, X_AL: 1, component: 2, internal_dof: 5, vertex: 2)\n",
      "Coordinates:\n",
      "  * T             (T) float64 300.0 400.0 500.0 600.0 700.0 800.0 900.0 ...\n",
      "  * X_AL          (X_AL) float64 0.2\n",
      "  * vertex        (vertex) int64 0 1\n",
      "  * component     (component) object 'AL' 'FE'\n",
      "  * internal_dof  (internal_dof) int64 0 1 2 3 4\n",
      "Data variables:\n",
      "    NP            (T, X_AL, vertex) float64 0.1478 0.8522 0.0969 0.9031 ...\n",
      "    GM            (T, X_AL) float64 -2.47e+04 -2.839e+04 -3.207e+04 ...\n",
      "    MU            (T, X_AL, component) float64 -7.368e+04 -1.245e+04 ...\n",
      "    X             (T, X_AL, vertex, component) float64 0.3007 0.6993 0.1825 ...\n",
      "    Y             (T, X_AL, vertex, internal_dof) float64 0.04563 0.9544 ...\n",
      "    Phase         (T, X_AL, vertex) object 'B2_BCC' 'B2_BCC' 'B2_BCC' ...\n",
      "Attributes:\n",
      "    iterations: 13\n",
      "CPU times: user 2min 29s, sys: 71 ms, total: 2min 29s\n",
      "Wall time: 2min 29s\n"
     ]
    }
   ],
   "source": [
    "%%time\n",
    "eq = equilibrium(db_alfe, ['AL', 'FE', 'VA'], my_phases_alfe,\n",
    "    {v.X('AL'): 0.2, v.T: (300, 1400, 100)})\n",
    "print(eq)"
   ]
  },
  {
   "cell_type": "code",
   "execution_count": 57,
   "metadata": {
    "collapsed": false
   },
   "outputs": [
    {
     "data": {
      "text/plain": [
       "[<matplotlib.lines.Line2D at 0x7f4b47e47588>]"
      ]
     },
     "execution_count": 57,
     "metadata": {},
     "output_type": "execute_result"
    },
    {
     "data": {
      "image/png": "[encoded data removed]",
      "text/plain": [
       "<matplotlib.figure.Figure at 0x7f4b63dfbd68>"
      ]
     },
     "metadata": {},
     "output_type": "display_data"
    }
   ],
   "source": [
    "%matplotlib inline\n",
    "import matplotlib.pyplot as plt\n",
    "plt.gca().set_title('Gibbs energy versus T, X(AL)=0.2')\n",
    "plt.gca().set_xlabel('T')\n",
    "plt.gca().set_ylabel('GM')\n",
    "plt.plot(eq['T'], eq.GM.sel(X_AL=0.2))"
   ]
  },
  {
   "cell_type": "code",
   "execution_count": null,
   "metadata": {
    "collapsed": true
   },
   "outputs": [],
   "source": []
  }
 ],
 "metadata": {
  "kernelspec": {
   "display_name": "Python 3",
   "language": "python",
   "name": "python3"
  },
  "language_info": {
   "codemirror_mode": {
    "name": "ipython",
    "version": 3
   },
   "file_extension": ".py",
   "mimetype": "text/x-python",
   "name": "python",
   "nbconvert_exporter": "python",
   "pygments_lexer": "ipython3",
   "version": "3.4.3"
  }
 },
 "nbformat": 4,
 "nbformat_minor": 0
}
