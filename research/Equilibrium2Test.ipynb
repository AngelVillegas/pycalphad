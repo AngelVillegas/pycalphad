{
 "cells": [
  {
   "cell_type": "code",
   "execution_count": 1,
   "metadata": {},
   "outputs": [],
   "source": [
    "from pycalphad import equilibrium\n",
    "from pycalphad import Database\n",
    "import pycalphad.variables as v"
   ]
  },
  {
   "cell_type": "code",
   "execution_count": 6,
   "metadata": {},
   "outputs": [],
   "source": [
    "db_alfe = Database('research/alfe_sei.TDB')\n",
    "my_phases_alfe = ['LIQUID', 'HCP_A3', 'AL5FE2', 'AL2FE', 'AL13FE4', 'AL5FE4', 'FCC_A1']"
   ]
  },
  {
   "cell_type": "code",
   "execution_count": 7,
   "metadata": {},
   "outputs": [
    {
     "name": "stdout",
     "output_type": "stream",
     "text": [
      "Components: AL FE VA\nPhases: AL13FE4"
     ]
    },
    {
     "name": "stdout",
     "output_type": "stream",
     "text": [
      " AL2FE"
     ]
    },
    {
     "name": "stdout",
     "output_type": "stream",
     "text": [
      " AL5FE2"
     ]
    },
    {
     "name": "stdout",
     "output_type": "stream",
     "text": [
      " AL5FE4"
     ]
    },
    {
     "name": "stdout",
     "output_type": "stream",
     "text": [
      " FCC_A1"
     ]
    },
    {
     "name": "stdout",
     "output_type": "stream",
     "text": [
      " HCP_A3"
     ]
    },
    {
     "name": "stdout",
     "output_type": "stream",
     "text": [
      " LIQUID"
     ]
    },
    {
     "name": "stdout",
     "output_type": "stream",
     "text": [
      " [done]\nComputing initial grid [616 points, 56.7KB]"
     ]
    },
    {
     "name": "stdout",
     "output_type": "stream",
     "text": [
      "\nComputing convex hull [iteration 1]\nRefining points within 0.0001J/mol of hull"
     ]
    },
    {
     "name": "stdout",
     "output_type": "stream",
     "text": [
      "\nRebuilding grid"
     ]
    },
    {
     "name": "stdout",
     "output_type": "stream",
     "text": [
      " [516 points, 47.5KB]"
     ]
    },
    {
     "name": "stdout",
     "output_type": "stream",
     "text": [
      "\nComputing convex hull [iteration 2]\nRefining points within 0.0001J/mol of hull\nRebuilding grid"
     ]
    },
    {
     "name": "stdout",
     "output_type": "stream",
     "text": [
      " [516 points, 47.5KB]"
     ]
    },
    {
     "name": "stdout",
     "output_type": "stream",
     "text": [
      "\nComputing convex hull [iteration 3]\nRefining points within 0.0001J/mol of hull\nRebuilding grid"
     ]
    },
    {
     "name": "stdout",
     "output_type": "stream",
     "text": [
      " [518 points, 47.7KB]"
     ]
    },
    {
     "name": "stdout",
     "output_type": "stream",
     "text": [
      "\nComputing convex hull [iteration 4]\nRefining points within 0.0001J/mol of hull\nRebuilding grid"
     ]
    },
    {
     "name": "stdout",
     "output_type": "stream",
     "text": [
      " [522 points, 48.1KB]"
     ]
    },
    {
     "name": "stdout",
     "output_type": "stream",
     "text": [
      "\nComputing convex hull [iteration 5]\nRefining points within 0.0001J/mol of hull\nRebuilding grid"
     ]
    },
    {
     "name": "stdout",
     "output_type": "stream",
     "text": [
      " [530 points, 48.8KB]"
     ]
    },
    {
     "name": "stdout",
     "output_type": "stream",
     "text": [
      "\n<xray.Dataset>\nDimensions:       (T: 1, X_AL: 1, component: 2, internal_dof: 4, vertex: 2)\nCoordinates:\n  * T             (T) float64 300.0\n  * X_AL          (X_AL) float64 0.55\n  * vertex        (vertex) int64 0 1\n  * component     (component) object 'AL' 'FE'\n  * internal_dof  (internal_dof) int64 0 1 2 3\nData variables:\n    NP            (T, X_AL, vertex) float64 0.6102 0.3898\n    GM            (T, X_AL) float64 -3.386e+04\n    MU            (T, X_AL, component) float64 -4.643e+04 -1.851e+04\n    X             (T, X_AL, vertex, component) float64 0.6667 0.3333 0.3674 ...\n    Y             (T, X_AL, vertex, internal_dof) float64 1.0 1.0 nan nan ...\n    Phase         (T, X_AL, vertex) object 'AL2FE' 'HCP_A3'\nAttributes:\n    iterations: 6"
     ]
    },
    {
     "name": "stdout",
     "output_type": "stream",
     "text": [
      "\nCPU times: user 24.3 s, sys: 36 ms, total: 24.4 s\nWall time: 24.3 s\n"
     ]
    }
   ],
   "source": [
    "%%time\n",
    "eq = equilibrium(db_alfe, ['AL', 'FE', 'VA'], my_phases_alfe, {v.X('AL'): 0.55, v.T: 300})\n",
    "print(eq)"
   ]
  },
  {
   "cell_type": "code",
   "execution_count": 8,
   "metadata": {},
   "outputs": [
    {
     "data": {
      "text/plain": [
       "<xray.DataArray 'GM' (T: 1, X_AL: 1)>\narray([[-33864.03708908]])\nCoordinates:\n  * T        (T) float64 300.0\n  * X_AL     (X_AL) float64 0.55"
      ]
     },
     "execution_count": 8,
     "output_type": "execute_result",
     "metadata": {}
    }
   ],
   "source": [
    "eq.GM"
   ]
  },
  {
   "cell_type": "code",
   "execution_count": 9,
   "metadata": {},
   "outputs": [
    {
     "data": {
      "text/plain": [
       "<xray.DataArray 'GM' (points: 1, T: 1)>\narray([[-69333.99126028]])\nCoordinates:\n  * T        (T) int64 1400\n  * points   (points) int64 0"
      ]
     },
     "execution_count": 9,
     "output_type": "execute_result",
     "metadata": {}
    }
   ],
   "source": [
    "from pycalphad import calculate\n",
    "import numpy as np\n",
    "res = calculate(db_alfe, ['AL', 'FE'], 'LIQUID', points={'LIQUID': [0, 1]}, T=1400)\n",
    "res.GM"
   ]
  },
  {
   "cell_type": "code",
   "execution_count": null,
   "metadata": {},
   "outputs": [],
   "source": [
    ""
   ]
  }
 ],
 "metadata": {
  "kernelspec": {
   "display_name": "Python 3",
   "language": "python",
   "name": "python3"
  },
  "language_info": {
   "codemirror_mode": {
    "name": "ipython",
    "version": 3.0
   },
   "file_extension": ".py",
   "mimetype": "text/x-python",
   "name": "python",
   "nbconvert_exporter": "python",
   "pygments_lexer": "ipython3",
   "version": "3.4.3"
  }
 },
 "nbformat": 4,
 "nbformat_minor": 0
}