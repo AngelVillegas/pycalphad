{
 "cells": [
  {
   "cell_type": "code",
   "execution_count": 1,
   "metadata": {
    "collapsed": false
   },
   "outputs": [],
   "source": [
    "from pycalphad import equilibrium, calculate\n",
    "from pycalphad import Database, Model\n",
    "from pycalphad.core.lower_convex_hull import lower_convex_hull\n",
    "import pycalphad.variables as v"
   ]
  },
  {
   "cell_type": "code",
   "execution_count": 2,
   "metadata": {
    "collapsed": false
   },
   "outputs": [],
   "source": [
    "db_alfe = Database('alfe_sei.TDB')\n",
    "my_phases_alfe = 'LIQUID'#['LIQUID', 'HCP_A3', 'AL5FE2', 'AL2FE', 'AL5FE4', 'FCC_A1', 'B2_BCC', 'AL13FE4']"
   ]
  },
  {
   "cell_type": "code",
   "execution_count": 3,
   "metadata": {
    "collapsed": false,
    "scrolled": true
   },
   "outputs": [
    {
     "name": "stdout",
     "output_type": "stream",
     "text": [
      "Components: AL FE VA\n",
      "Phases: LIQUID [done]\n",
      "Computing initial grid [14 points, 1.0KB]\n",
      "Computing convex hull [iteration 1]\n",
      "progress 47086.2623588 [1 conditions updated]\n",
      "Refining convex hull\n",
      "N-R convergence on mini-iteration 16\n",
      "Rebuilding grid [16 points, 1.2KB]\n",
      "Computing convex hull [iteration 2]\n",
      "progress 5339.98151803 [1 conditions updated]\n",
      "Refining convex hull\n",
      "N-R convergence on mini-iteration 15\n",
      "Rebuilding grid [18 points, 1.3KB]\n",
      "Computing convex hull [iteration 3]\n",
      "progress 3112.9516067 [1 conditions updated]\n",
      "Refining convex hull\n",
      "SAFE BREAK\n",
      "SAFE BREAK\n",
      "N-R convergence on mini-iteration 5\n",
      "Rebuilding grid [20 points, 1.5KB]\n",
      "Computing convex hull [iteration 4]\n",
      "progress 1552.7495931 [1 conditions updated]\n",
      "Refining convex hull\n",
      "SAFE BREAK\n",
      "N-R convergence on mini-iteration 12\n",
      "Rebuilding grid [22 points, 1.6KB]\n",
      "Computing convex hull [iteration 5]\n",
      "progress 748.663247701 [1 conditions updated]\n",
      "Refining convex hull\n",
      "N-R convergence on mini-iteration 12\n",
      "Rebuilding grid [24 points, 1.8KB]\n",
      "Computing convex hull [iteration 6]\n",
      "progress 381.254417096 [1 conditions updated]\n",
      "Refining convex hull\n",
      "N-R convergence on mini-iteration 11\n",
      "Rebuilding grid [26 points, 1.9KB]\n",
      "Computing convex hull [iteration 7]\n",
      "progress 190.573747376 [1 conditions updated]\n",
      "Refining convex hull\n",
      "N-R convergence on mini-iteration 12\n",
      "Rebuilding grid [28 points, 2.1KB]\n",
      "Computing convex hull [iteration 8]\n",
      "progress 95.27365292 [1 conditions updated]\n",
      "Refining convex hull\n",
      "N-R convergence on mini-iteration 8\n",
      "Rebuilding grid [30 points, 2.2KB]\n",
      "Computing convex hull [iteration 9]\n",
      "progress 47.5286629274 [1 conditions updated]\n",
      "Refining convex hull\n",
      "SAFE BREAK\n",
      "SAFE BREAK\n",
      "SAFE BREAK\n",
      "N-R convergence on mini-iteration 11\n",
      "Rebuilding grid [32 points, 2.3KB]\n",
      "Computing convex hull [iteration 10]\n",
      "progress 23.7913708935 [1 conditions updated]\n",
      "Refining convex hull\n",
      "N-R convergence on mini-iteration 7\n",
      "Rebuilding grid [34 points, 2.5KB]\n",
      "Computing convex hull [iteration 11]\n",
      "progress 11.8889256185 [1 conditions updated]\n",
      "Refining convex hull\n",
      "N-R convergence on mini-iteration 6\n",
      "Rebuilding grid [36 points, 2.6KB]\n",
      "Computing convex hull [iteration 12]\n",
      "progress 5.94451408656 [1 conditions updated]\n",
      "Refining convex hull\n",
      "N-R convergence on mini-iteration 2\n",
      "Rebuilding grid [38 points, 2.8KB]\n",
      "Computing convex hull [iteration 13]\n",
      "progress 2.97226987148 [1 conditions updated]\n",
      "Refining convex hull\n",
      "N-R convergence on mini-iteration 2\n",
      "Rebuilding grid [40 points, 2.9KB]\n",
      "Computing convex hull [iteration 14]\n",
      "progress 1.48623735468 [1 conditions updated]\n",
      "Refining convex hull\n",
      "N-R convergence on mini-iteration 2\n",
      "Rebuilding grid [42 points, 3.1KB]\n",
      "Computing convex hull [iteration 15]\n",
      "progress 0.743121290485 [1 conditions updated]\n",
      "Refining convex hull\n",
      "N-R convergence on mini-iteration 3\n",
      "Rebuilding grid [44 points, 3.2KB]\n",
      "Computing convex hull [iteration 16]\n",
      "progress 0.371553527904 [1 conditions updated]\n",
      "Refining convex hull\n",
      "N-R convergence on mini-iteration 3\n",
      "Rebuilding grid [46 points, 3.3KB]\n",
      "Computing convex hull [iteration 17]\n",
      "progress 0.18577630751 [1 conditions updated]\n",
      "Refining convex hull\n",
      "N-R convergence on mini-iteration 3\n",
      "Rebuilding grid [48 points, 3.5KB]\n",
      "Computing convex hull [iteration 18]\n",
      "progress 0.0928907731359 [1 conditions updated]\n",
      "Refining convex hull\n",
      "N-R convergence on mini-iteration 4\n",
      "Rebuilding grid [50 points, 3.6KB]\n",
      "Computing convex hull [iteration 19]\n",
      "progress 0.0 [0 conditions updated]\n",
      "Convergence achieved\n",
      "CPU times: user 34.9 s, sys: 23 ms, total: 34.9 s\n",
      "Wall time: 34.8 s\n",
      "<xray.Dataset>\n",
      "Dimensions:       (P: 1, T: 1, X_AL: 1, component: 2, internal_dof: 2, vertex: 2)\n",
      "Coordinates:\n",
      "  * P             (P) float64 1.013e+05\n",
      "  * T             (T) float64 300.0\n",
      "  * X_AL          (X_AL) float64 0.3\n",
      "  * vertex        (vertex) int64 0 1\n",
      "  * component     (component) object 'AL' 'FE'\n",
      "  * internal_dof  (internal_dof) int64 0 1\n",
      "Data variables:\n",
      "    NP            (P, T, X_AL, vertex) float64 0.08773 0.9123\n",
      "    MU            (P, T, X_AL, component) float64 -4.629e+04 289.0\n",
      "    GM            (P, T, X_AL) float64 -1.368e+04\n",
      "    X             (P, T, X_AL, vertex, component) float64 0.3 0.7 0.3 0.7\n",
      "    Y             (P, T, X_AL, vertex, internal_dof) float64 0.3 0.7 0.3 0.7\n",
      "    Phase         (P, T, X_AL, vertex) object u'LIQUID' u'LIQUID'\n",
      "Attributes:\n",
      "    iterations: 19\n"
     ]
    }
   ],
   "source": [
    "%time eq = equilibrium(db_alfe, ['AL', 'FE', 'VA'], my_phases_alfe, {v.X('AL'): 0.3, v.T: 300, v.P: [101325]})\n",
    "print(eq)"
   ]
  },
  {
   "cell_type": "code",
   "execution_count": 4,
   "metadata": {
    "collapsed": false
   },
   "outputs": [
    {
     "data": {
      "text/plain": [
       "<xray.DataArray 'X' (P: 1, T: 1, X_AL: 1, vertex: 2, component: 2)>\n",
       "array([[[[[ 0.3000014 ,  0.6999986 ],\n",
       "          [ 0.29999986,  0.70000014]]]]])\n",
       "Coordinates:\n",
       "  * X_AL       (X_AL) float64 0.3\n",
       "  * vertex     (vertex) int64 0 1\n",
       "  * component  (component) object 'AL' 'FE'\n",
       "  * P          (P) float64 1.013e+05\n",
       "  * T          (T) float64 300.0"
      ]
     },
     "execution_count": 4,
     "metadata": {},
     "output_type": "execute_result"
    }
   ],
   "source": [
    "eq.X"
   ]
  },
  {
   "cell_type": "code",
   "execution_count": 5,
   "metadata": {
    "collapsed": false
   },
   "outputs": [
    {
     "ename": "KeyError",
     "evalue": "1300.0",
     "output_type": "error",
     "traceback": [
      "\u001b[1;31m---------------------------------------------------------------------------\u001b[0m",
      "\u001b[1;31mKeyError\u001b[0m                                  Traceback (most recent call last)",
      "\u001b[1;32m<ipython-input-5-54cdc8b0efd3>\u001b[0m in \u001b[0;36m<module>\u001b[1;34m()\u001b[0m\n\u001b[0;32m      7\u001b[0m \u001b[0mplt\u001b[0m\u001b[1;33m.\u001b[0m\u001b[0mgca\u001b[0m\u001b[1;33m(\u001b[0m\u001b[1;33m)\u001b[0m\u001b[1;33m.\u001b[0m\u001b[0mset_ylabel\u001b[0m\u001b[1;33m(\u001b[0m\u001b[1;34m'MU(FE)'\u001b[0m\u001b[1;33m)\u001b[0m\u001b[1;33m\u001b[0m\u001b[0m\n\u001b[0;32m      8\u001b[0m \u001b[0mphase_handles\u001b[0m\u001b[1;33m,\u001b[0m \u001b[0mphasemap\u001b[0m \u001b[1;33m=\u001b[0m \u001b[0mphase_legend\u001b[0m\u001b[1;33m(\u001b[0m\u001b[0mmy_phases_alfe\u001b[0m\u001b[1;33m)\u001b[0m\u001b[1;33m\u001b[0m\u001b[0m\n\u001b[1;32m----> 9\u001b[1;33m \u001b[0mphasecolors\u001b[0m \u001b[1;33m=\u001b[0m \u001b[1;33m[\u001b[0m\u001b[0mphasemap\u001b[0m\u001b[1;33m[\u001b[0m\u001b[0mstr\u001b[0m\u001b[1;33m(\u001b[0m\u001b[0mp\u001b[0m\u001b[1;33m.\u001b[0m\u001b[0mvalues\u001b[0m\u001b[1;33m[\u001b[0m\u001b[1;36m0\u001b[0m\u001b[1;33m]\u001b[0m\u001b[1;33m)\u001b[0m\u001b[1;33m]\u001b[0m \u001b[1;32mfor\u001b[0m \u001b[0mp\u001b[0m \u001b[1;32min\u001b[0m \u001b[0meq\u001b[0m\u001b[1;33m.\u001b[0m\u001b[0mPhase\u001b[0m\u001b[1;33m.\u001b[0m\u001b[0msel\u001b[0m\u001b[1;33m(\u001b[0m\u001b[0mT\u001b[0m\u001b[1;33m=\u001b[0m\u001b[1;36m1300\u001b[0m\u001b[1;33m,\u001b[0m \u001b[0mvertex\u001b[0m\u001b[1;33m=\u001b[0m\u001b[1;36m0\u001b[0m\u001b[1;33m)\u001b[0m\u001b[1;33m]\u001b[0m\u001b[1;33m\u001b[0m\u001b[0m\n\u001b[0m\u001b[0;32m     10\u001b[0m \u001b[0mplt\u001b[0m\u001b[1;33m.\u001b[0m\u001b[0mscatter\u001b[0m\u001b[1;33m(\u001b[0m\u001b[0meq\u001b[0m\u001b[1;33m.\u001b[0m\u001b[0mX\u001b[0m\u001b[1;33m.\u001b[0m\u001b[0msel\u001b[0m\u001b[1;33m(\u001b[0m\u001b[0mT\u001b[0m\u001b[1;33m=\u001b[0m\u001b[1;36m1300\u001b[0m\u001b[1;33m,\u001b[0m \u001b[0mcomponent\u001b[0m\u001b[1;33m=\u001b[0m\u001b[1;34m'AL'\u001b[0m\u001b[1;33m,\u001b[0m \u001b[0mvertex\u001b[0m\u001b[1;33m=\u001b[0m\u001b[1;36m0\u001b[0m\u001b[1;33m)\u001b[0m\u001b[1;33m,\u001b[0m \u001b[0meq\u001b[0m\u001b[1;33m.\u001b[0m\u001b[0mMU\u001b[0m\u001b[1;33m.\u001b[0m\u001b[0msel\u001b[0m\u001b[1;33m(\u001b[0m\u001b[0mT\u001b[0m\u001b[1;33m=\u001b[0m\u001b[1;36m1300\u001b[0m\u001b[1;33m,\u001b[0m \u001b[0mcomponent\u001b[0m\u001b[1;33m=\u001b[0m\u001b[1;34m'FE'\u001b[0m\u001b[1;33m)\u001b[0m\u001b[1;33m,\u001b[0m \u001b[0mcolor\u001b[0m\u001b[1;33m=\u001b[0m\u001b[0mphasecolors\u001b[0m\u001b[1;33m)\u001b[0m\u001b[1;33m\u001b[0m\u001b[0m\n\u001b[0;32m     11\u001b[0m \u001b[0mphasecolors\u001b[0m \u001b[1;33m=\u001b[0m \u001b[1;33m[\u001b[0m\u001b[0mphasemap\u001b[0m\u001b[1;33m[\u001b[0m\u001b[0mstr\u001b[0m\u001b[1;33m(\u001b[0m\u001b[0mp\u001b[0m\u001b[1;33m.\u001b[0m\u001b[0mvalues\u001b[0m\u001b[1;33m[\u001b[0m\u001b[1;36m0\u001b[0m\u001b[1;33m]\u001b[0m\u001b[1;33m)\u001b[0m\u001b[1;33m]\u001b[0m \u001b[1;32mfor\u001b[0m \u001b[0mp\u001b[0m \u001b[1;32min\u001b[0m \u001b[0meq\u001b[0m\u001b[1;33m.\u001b[0m\u001b[0mPhase\u001b[0m\u001b[1;33m.\u001b[0m\u001b[0msel\u001b[0m\u001b[1;33m(\u001b[0m\u001b[0mT\u001b[0m\u001b[1;33m=\u001b[0m\u001b[1;36m1300\u001b[0m\u001b[1;33m,\u001b[0m \u001b[0mvertex\u001b[0m\u001b[1;33m=\u001b[0m\u001b[1;36m1\u001b[0m\u001b[1;33m)\u001b[0m\u001b[1;33m]\u001b[0m\u001b[1;33m\u001b[0m\u001b[0m\n",
      "\u001b[1;32m/home/rotis/anaconda/envs/calphad/lib/python2.7/site-packages/xray/core/dataarray.pyc\u001b[0m in \u001b[0;36msel\u001b[1;34m(self, method, tolerance, **indexers)\u001b[0m\n\u001b[0;32m    550\u001b[0m         \"\"\"\n\u001b[0;32m    551\u001b[0m         return self.isel(**indexing.remap_label_indexers(\n\u001b[1;32m--> 552\u001b[1;33m             self, indexers, method=method, tolerance=tolerance))\n\u001b[0m\u001b[0;32m    553\u001b[0m \u001b[1;33m\u001b[0m\u001b[0m\n\u001b[0;32m    554\u001b[0m     \u001b[1;32mdef\u001b[0m \u001b[0misel_points\u001b[0m\u001b[1;33m(\u001b[0m\u001b[0mself\u001b[0m\u001b[1;33m,\u001b[0m \u001b[0mdim\u001b[0m\u001b[1;33m=\u001b[0m\u001b[1;34m'points'\u001b[0m\u001b[1;33m,\u001b[0m \u001b[1;33m**\u001b[0m\u001b[0mindexers\u001b[0m\u001b[1;33m)\u001b[0m\u001b[1;33m:\u001b[0m\u001b[1;33m\u001b[0m\u001b[0m\n",
      "\u001b[1;32m/home/rotis/anaconda/envs/calphad/lib/python2.7/site-packages/xray/core/indexing.pyc\u001b[0m in \u001b[0;36mremap_label_indexers\u001b[1;34m(data_obj, indexers, method, tolerance)\u001b[0m\n\u001b[0;32m    171\u001b[0m     return dict((dim, convert_label_indexer(data_obj[dim].to_index(), label,\n\u001b[0;32m    172\u001b[0m                                             dim, method, tolerance))\n\u001b[1;32m--> 173\u001b[1;33m                 for dim, label in iteritems(indexers))\n\u001b[0m\u001b[0;32m    174\u001b[0m \u001b[1;33m\u001b[0m\u001b[0m\n\u001b[0;32m    175\u001b[0m \u001b[1;33m\u001b[0m\u001b[0m\n",
      "\u001b[1;32m/home/rotis/anaconda/envs/calphad/lib/python2.7/site-packages/xray/core/indexing.pyc\u001b[0m in \u001b[0;36m<genexpr>\u001b[1;34m((dim, label))\u001b[0m\n\u001b[0;32m    171\u001b[0m     return dict((dim, convert_label_indexer(data_obj[dim].to_index(), label,\n\u001b[0;32m    172\u001b[0m                                             dim, method, tolerance))\n\u001b[1;32m--> 173\u001b[1;33m                 for dim, label in iteritems(indexers))\n\u001b[0m\u001b[0;32m    174\u001b[0m \u001b[1;33m\u001b[0m\u001b[0m\n\u001b[0;32m    175\u001b[0m \u001b[1;33m\u001b[0m\u001b[0m\n",
      "\u001b[1;32m/home/rotis/anaconda/envs/calphad/lib/python2.7/site-packages/xray/core/indexing.pyc\u001b[0m in \u001b[0;36mconvert_label_indexer\u001b[1;34m(index, label, index_name, method, tolerance)\u001b[0m\n\u001b[0;32m    152\u001b[0m         \u001b[0mlabel\u001b[0m \u001b[1;33m=\u001b[0m \u001b[0mnp\u001b[0m\u001b[1;33m.\u001b[0m\u001b[0masarray\u001b[0m\u001b[1;33m(\u001b[0m\u001b[0mlabel\u001b[0m\u001b[1;33m)\u001b[0m\u001b[1;33m\u001b[0m\u001b[0m\n\u001b[0;32m    153\u001b[0m         \u001b[1;32mif\u001b[0m \u001b[0mlabel\u001b[0m\u001b[1;33m.\u001b[0m\u001b[0mndim\u001b[0m \u001b[1;33m==\u001b[0m \u001b[1;36m0\u001b[0m\u001b[1;33m:\u001b[0m\u001b[1;33m\u001b[0m\u001b[0m\n\u001b[1;32m--> 154\u001b[1;33m             \u001b[0mindexer\u001b[0m \u001b[1;33m=\u001b[0m \u001b[0mindex\u001b[0m\u001b[1;33m.\u001b[0m\u001b[0mget_loc\u001b[0m\u001b[1;33m(\u001b[0m\u001b[0mnp\u001b[0m\u001b[1;33m.\u001b[0m\u001b[0masscalar\u001b[0m\u001b[1;33m(\u001b[0m\u001b[0mlabel\u001b[0m\u001b[1;33m)\u001b[0m\u001b[1;33m,\u001b[0m \u001b[1;33m**\u001b[0m\u001b[0mkwargs\u001b[0m\u001b[1;33m)\u001b[0m\u001b[1;33m\u001b[0m\u001b[0m\n\u001b[0m\u001b[0;32m    155\u001b[0m         \u001b[1;32melif\u001b[0m \u001b[0mlabel\u001b[0m\u001b[1;33m.\u001b[0m\u001b[0mdtype\u001b[0m\u001b[1;33m.\u001b[0m\u001b[0mkind\u001b[0m \u001b[1;33m==\u001b[0m \u001b[1;34m'b'\u001b[0m\u001b[1;33m:\u001b[0m\u001b[1;33m\u001b[0m\u001b[0m\n\u001b[0;32m    156\u001b[0m             \u001b[0mindexer\u001b[0m\u001b[1;33m,\u001b[0m \u001b[1;33m=\u001b[0m \u001b[0mnp\u001b[0m\u001b[1;33m.\u001b[0m\u001b[0mnonzero\u001b[0m\u001b[1;33m(\u001b[0m\u001b[0mlabel\u001b[0m\u001b[1;33m)\u001b[0m\u001b[1;33m\u001b[0m\u001b[0m\n",
      "\u001b[1;32m/home/rotis/anaconda/envs/calphad/lib/python2.7/site-packages/pandas/core/index.pyc\u001b[0m in \u001b[0;36mget_loc\u001b[1;34m(self, key, method, tolerance)\u001b[0m\n\u001b[0;32m   3818\u001b[0m             \u001b[1;32mpass\u001b[0m\u001b[1;33m\u001b[0m\u001b[0m\n\u001b[0;32m   3819\u001b[0m         return super(Float64Index, self).get_loc(key, method=method,\n\u001b[1;32m-> 3820\u001b[1;33m                                                  tolerance=tolerance)\n\u001b[0m\u001b[0;32m   3821\u001b[0m \u001b[1;33m\u001b[0m\u001b[0m\n\u001b[0;32m   3822\u001b[0m     \u001b[1;33m@\u001b[0m\u001b[0mproperty\u001b[0m\u001b[1;33m\u001b[0m\u001b[0m\n",
      "\u001b[1;32m/home/rotis/anaconda/envs/calphad/lib/python2.7/site-packages/pandas/core/index.pyc\u001b[0m in \u001b[0;36mget_loc\u001b[1;34m(self, key, method, tolerance)\u001b[0m\n\u001b[0;32m   1690\u001b[0m                 raise ValueError('tolerance argument only valid if using pad, '\n\u001b[0;32m   1691\u001b[0m                                  'backfill or nearest lookups')\n\u001b[1;32m-> 1692\u001b[1;33m             \u001b[1;32mreturn\u001b[0m \u001b[0mself\u001b[0m\u001b[1;33m.\u001b[0m\u001b[0m_engine\u001b[0m\u001b[1;33m.\u001b[0m\u001b[0mget_loc\u001b[0m\u001b[1;33m(\u001b[0m\u001b[0m_values_from_object\u001b[0m\u001b[1;33m(\u001b[0m\u001b[0mkey\u001b[0m\u001b[1;33m)\u001b[0m\u001b[1;33m)\u001b[0m\u001b[1;33m\u001b[0m\u001b[0m\n\u001b[0m\u001b[0;32m   1693\u001b[0m \u001b[1;33m\u001b[0m\u001b[0m\n\u001b[0;32m   1694\u001b[0m         indexer = self.get_indexer([key], method=method,\n",
      "\u001b[1;32mpandas/index.pyx\u001b[0m in \u001b[0;36mpandas.index.IndexEngine.get_loc (pandas/index.c:3979)\u001b[1;34m()\u001b[0m\n",
      "\u001b[1;32mpandas/index.pyx\u001b[0m in \u001b[0;36mpandas.index.IndexEngine.get_loc (pandas/index.c:3843)\u001b[1;34m()\u001b[0m\n",
      "\u001b[1;32mpandas/hashtable.pyx\u001b[0m in \u001b[0;36mpandas.hashtable.Float64HashTable.get_item (pandas/hashtable.c:9556)\u001b[1;34m()\u001b[0m\n",
      "\u001b[1;32mpandas/hashtable.pyx\u001b[0m in \u001b[0;36mpandas.hashtable.Float64HashTable.get_item (pandas/hashtable.c:9494)\u001b[1;34m()\u001b[0m\n",
      "\u001b[1;31mKeyError\u001b[0m: 1300.0"
     ]
    },
    {
     "data": {
      "image/png": "[encoded data removed]",
      "text/plain": [
       "<matplotlib.figure.Figure at 0x7f75abc02b90>"
      ]
     },
     "metadata": {},
     "output_type": "display_data"
    }
   ],
   "source": [
    "%matplotlib inline\n",
    "import matplotlib.pyplot as plt\n",
    "from pycalphad.plot.utils import phase_legend\n",
    "plt.gca().set_xlim((0,1))\n",
    "plt.gca().set_title('Chemical potential of Fe vs X(AL), 1300 K')\n",
    "plt.gca().set_xlabel('X(AL)')\n",
    "plt.gca().set_ylabel('MU(FE)')\n",
    "phase_handles, phasemap = phase_legend(my_phases_alfe)\n",
    "phasecolors = [phasemap[str(p.values[0])] for p in eq.Phase.sel(T=1300, vertex=0)]\n",
    "plt.scatter(eq.X.sel(T=1300, component='AL', vertex=0), eq.MU.sel(T=1300, component='FE'), color=phasecolors)\n",
    "phasecolors = [phasemap[str(p.values[0])] for p in eq.Phase.sel(T=1300, vertex=1)]\n",
    "plt.scatter(eq.X.sel(T=1300, component='AL', vertex=1), eq.MU.sel(T=1300, component='FE'), color=phasecolors)\n",
    "plt.gca().legend(phase_handles, my_phases_alfe, loc='lower left')"
   ]
  },
  {
   "cell_type": "code",
   "execution_count": null,
   "metadata": {
    "collapsed": true
   },
   "outputs": [],
   "source": []
  }
 ],
 "metadata": {
  "kernelspec": {
   "display_name": "Python 2",
   "language": "python",
   "name": "python2"
  },
  "language_info": {
   "codemirror_mode": {
    "name": "ipython",
    "version": 2
   },
   "file_extension": ".py",
   "mimetype": "text/x-python",
   "name": "python",
   "nbconvert_exporter": "python",
   "pygments_lexer": "ipython2",
   "version": "2.7.10"
  }
 },
 "nbformat": 4,
 "nbformat_minor": 0
}
