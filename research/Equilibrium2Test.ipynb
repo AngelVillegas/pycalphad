{
 "cells": [
  {
   "cell_type": "code",
   "execution_count": 1,
   "metadata": {
    "collapsed": false
   },
   "outputs": [],
   "source": [
    "from pycalphad import equilibrium\n",
    "from pycalphad import Database\n",
    "import pycalphad.variables as v"
   ]
  },
  {
   "cell_type": "code",
   "execution_count": 2,
   "metadata": {
    "collapsed": false,
    "scrolled": true
   },
   "outputs": [
    {
     "name": "stdout",
     "output_type": "stream",
     "text": [
      "CPU times: user 4.54 s, sys: 9 ms, total: 4.55 s\n",
      "Wall time: 4.55 s\n",
      "<xray.Dataset>\n",
      "Dimensions:    (T: 20, X_AL: 1, component: 2, vertex: 2)\n",
      "Coordinates:\n",
      "  * T          (T) float64 300.0 357.9 415.8 473.7 531.6 589.5 647.4 705.3 ...\n",
      "  * X_AL       (X_AL) float64 0.55\n",
      "  * vertex     (vertex) int64 0 1\n",
      "  * component  (component) <U2 'AL' 'FE'\n",
      "Data variables:\n",
      "    points     (T, X_AL, vertex) int64 0 0 0 0 0 0 0 0 0 0 0 0 0 0 0 0 0 0 0 ...\n",
      "    MU         (T, X_AL, component) float64 1.633e+04 1.633e+04 1.102e+04 ...\n",
      "    GM         (T, X_AL) float64 1.633e+04 1.102e+04 5.234e+03 -244.2 ...\n",
      "    NP         (T, X_AL, vertex) float64 1.633e+04 1.633e+04 1.102e+04 ...\n",
      "Attributes:\n",
      "    iterations: 0\n"
     ]
    }
   ],
   "source": [
    "db_alfe = Database('alfe_sei.TDB')\n",
    "my_phases_alfe = ['LIQUID', 'FCC_A1', 'HCP_A3', 'AL5FE2', 'AL2FE', 'AL13FE4', 'AL5FE4']\n",
    "%time eq = equilibrium(db_alfe, ['AL', 'FE', 'VA'] , my_phases_alfe, {v.X('AL'): (0.55,), v.T: (300, 1400)}, pdens=100)\n",
    "print(eq)"
   ]
  },
  {
   "cell_type": "code",
   "execution_count": 3,
   "metadata": {
    "collapsed": false
   },
   "outputs": [
    {
     "data": {
      "text/plain": [
       "0.00125885009765625"
      ]
     },
     "execution_count": 3,
     "metadata": {},
     "output_type": "execute_result"
    }
   ],
   "source": [
    "eq.nbytes / 2**20"
   ]
  },
  {
   "cell_type": "code",
   "execution_count": 5,
   "metadata": {
    "collapsed": false
   },
   "outputs": [
    {
     "data": {
      "text/plain": [
       "<xray.DataArray 'MU' ()>\n",
       "array(0.0)\n",
       "Coordinates:\n",
       "    X_AL       float64 0.55\n",
       "    component  <U2 'AL'\n",
       "    T          float64 300.0"
      ]
     },
     "execution_count": 5,
     "metadata": {},
     "output_type": "execute_result"
    }
   ],
   "source": [
    "eq.MU.sel(T=300, X_AL=0.55, component='AL')"
   ]
  },
  {
   "cell_type": "code",
   "execution_count": 6,
   "metadata": {
    "collapsed": false
   },
   "outputs": [
    {
     "data": {
      "text/plain": [
       "<xray.DataArray 'NP' (X_AL: 1, phase: 2)>\n",
       "array([[ 0.,  0.]])\n",
       "Coordinates:\n",
       "  * phase    (phase) int64 0 1\n",
       "  * X_AL     (X_AL) float64 0.55\n",
       "    T        float64 1.4e+03"
      ]
     },
     "execution_count": 6,
     "metadata": {},
     "output_type": "execute_result"
    }
   ],
   "source": [
    "eq.NP.sel(T=1400)"
   ]
  },
  {
   "cell_type": "code",
   "execution_count": null,
   "metadata": {
    "collapsed": true
   },
   "outputs": [],
   "source": []
  }
 ],
 "metadata": {
  "kernelspec": {
   "display_name": "Python 3",
   "language": "python",
   "name": "python3"
  },
  "language_info": {
   "codemirror_mode": {
    "name": "ipython",
    "version": 3
   },
   "file_extension": ".py",
   "mimetype": "text/x-python",
   "name": "python",
   "nbconvert_exporter": "python",
   "pygments_lexer": "ipython3",
   "version": "3.3.5"
  }
 },
 "nbformat": 4,
 "nbformat_minor": 0
}
