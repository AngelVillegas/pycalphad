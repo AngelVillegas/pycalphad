{
 "cells": [
  {
   "cell_type": "code",
   "execution_count": 1,
   "metadata": {
    "collapsed": false
   },
   "outputs": [],
   "source": [
    "from pycalphad import equilibrium, calculate\n",
    "from pycalphad import Database, Model\n",
    "from pycalphad.core.lower_convex_hull import lower_convex_hull\n",
    "import pycalphad.variables as v"
   ]
  },
  {
   "cell_type": "code",
   "execution_count": 2,
   "metadata": {
    "collapsed": false
   },
   "outputs": [],
   "source": [
    "db_alfe = Database('alfe_sei.TDB')\n",
    "my_phases_alfe = ['LIQUID', 'HCP_A3', 'AL5FE2', 'AL2FE', 'AL5FE4', 'FCC_A1', 'B2_BCC', 'AL13FE4']"
   ]
  },
  {
   "cell_type": "code",
   "execution_count": 3,
   "metadata": {
    "collapsed": false,
    "scrolled": true
   },
   "outputs": [
    {
     "name": "stdout",
     "output_type": "stream",
     "text": [
      "Components: AL FE VA\n",
      "Phases: AL13FE4 AL2FE AL5FE2 AL5FE4 B2_BCC FCC_A1 HCP_A3 LIQUID [done]\n",
      "Computing initial grid [820 points, 82.1KB]\n",
      "Computing convex hull [iteration 1]\n",
      "progress 2.68116174282e+172 [100 conditions updated]\n",
      "Refining convex hull\n",
      "N-R convergence on mini-iteration 1 [AL13FE4]\n",
      "N-R convergence on mini-iteration 1 [AL5FE4]\n",
      "N-R convergence on mini-iteration 1 [FCC_A1]\n",
      "N-R convergence on mini-iteration 1 [HCP_A3]\n",
      "N-R convergence on mini-iteration 1 [LIQUID]\n",
      "Rebuilding grid [2020 points, 202.1KB]\n",
      "Computing convex hull [iteration 2]\n",
      "progress 19225.4533699 [91 conditions updated]\n",
      "Refining convex hull\n",
      "N-R convergence on mini-iteration 1 [AL13FE4]\n",
      "N-R convergence on mini-iteration 1 [AL5FE4]\n",
      "N-R convergence on mini-iteration 1 [FCC_A1]\n",
      "N-R convergence on mini-iteration 1 [HCP_A3]\n",
      "N-R convergence on mini-iteration 1 [LIQUID]\n",
      "Rebuilding grid [3220 points, 322.1KB]\n",
      "Computing convex hull [iteration 3]\n",
      "progress 4217.23779608 [62 conditions updated]\n",
      "Refining convex hull\n",
      "N-R convergence on mini-iteration 1 [AL13FE4]\n",
      "N-R convergence on mini-iteration 1 [AL5FE4]\n",
      "N-R convergence on mini-iteration 2 [B2_BCC]\n",
      "N-R convergence on mini-iteration 1 [FCC_A1]\n",
      "N-R convergence on mini-iteration 1 [HCP_A3]\n",
      "N-R convergence on mini-iteration 1 [LIQUID]\n",
      "Rebuilding grid [4420 points, 442.1KB]\n",
      "Computing convex hull [iteration 4]\n",
      "progress 2094.34986918 [62 conditions updated]\n",
      "Refining convex hull\n",
      "N-R convergence on mini-iteration 0 [AL13FE4]\n",
      "N-R convergence on mini-iteration 0 [AL5FE4]\n",
      "N-R convergence on mini-iteration 2 [B2_BCC]\n",
      "N-R convergence on mini-iteration 0 [FCC_A1]\n",
      "N-R convergence on mini-iteration 0 [HCP_A3]\n",
      "N-R convergence on mini-iteration 0 [LIQUID]\n",
      "Rebuilding grid [5620 points, 562.1KB]\n",
      "Computing convex hull [iteration 5]\n",
      "progress 907.214861806 [62 conditions updated]\n",
      "Refining convex hull\n",
      "N-R convergence on mini-iteration 0 [AL13FE4]\n",
      "N-R convergence on mini-iteration 0 [AL5FE4]\n",
      "N-R convergence on mini-iteration 2 [B2_BCC]\n",
      "N-R convergence on mini-iteration 0 [FCC_A1]\n",
      "N-R convergence on mini-iteration 0 [HCP_A3]\n",
      "N-R convergence on mini-iteration 0 [LIQUID]\n",
      "Rebuilding grid [6820 points, 682.1KB]\n",
      "CPU times: user 1min 35s, sys: 1min 12s, total: 2min 48s\n",
      "Wall time: 1min 22s\n",
      "<xarray.Dataset>\n",
      "Dimensions:       (P: 1, T: 1, X_AL: 100, component: 2, internal_dof: 5, vertex: 2)\n",
      "Coordinates:\n",
      "  * P             (P) float64 1.013e+05\n",
      "  * T             (T) float64 1.3e+03\n",
      "  * X_AL          (X_AL) float64 0.0001 0.0101 0.0201 0.0301 0.0401 0.0501 ...\n",
      "  * vertex        (vertex) int64 0 1\n",
      "  * component     (component) object 'AL' 'FE'\n",
      "  * internal_dof  (internal_dof) int64 0 1 2 3 4\n",
      "Data variables:\n",
      "    MU            (P, T, X_AL, component) float64 -2.361e+05 -6.442e+04 ...\n",
      "    NP            (P, T, X_AL, vertex) float64 -0.005252 1.005 0.615 0.385 ...\n",
      "    GM            (P, T, X_AL) float64 -6.443e+04 -6.574e+04 -6.691e+04 ...\n",
      "    X             (P, T, X_AL, vertex, component) float64 0.0001423 0.9999 ...\n",
      "    Y             (P, T, X_AL, vertex, internal_dof) float64 0.0001423 ...\n",
      "    Phase         (P, T, X_AL, vertex) object 'FCC_A1' 'FCC_A1' 'FCC_A1' ...\n",
      "Attributes:\n",
      "    iterations: 6\n"
     ]
    }
   ],
   "source": [
    "import pycalphad.core.equilibrium\n",
    "%time eq = equilibrium(db_alfe, ['AL', 'FE', 'VA'], my_phases_alfe, {v.X('AL'): (1e-4, 1-1e-4, 0.01), v.T: 1300, v.P: [101325]}, verbose=True)\n",
    "print(eq)"
   ]
  },
  {
   "cell_type": "code",
   "execution_count": 4,
   "metadata": {
    "collapsed": false
   },
   "outputs": [
    {
     "data": {
      "text/plain": [
       "<matplotlib.legend.Legend at 0x7f83c0ac3c50>"
      ]
     },
     "execution_count": 4,
     "metadata": {},
     "output_type": "execute_result"
    },
    {
     "data": {
      "image/png": "[encoded data removed]",
      "text/plain": [
       "<matplotlib.figure.Figure at 0x7f83c1ef5208>"
      ]
     },
     "metadata": {},
     "output_type": "display_data"
    }
   ],
   "source": [
    "%matplotlib inline\n",
    "import matplotlib.pyplot as plt\n",
    "from pycalphad.plot.utils import phase_legend\n",
    "plt.gca().set_xlim((0,1))\n",
    "plt.gca().set_title('Chemical potential of Fe vs X(AL), 1300 K')\n",
    "plt.gca().set_xlabel('X(AL)')\n",
    "plt.gca().set_ylabel('MU(FE)')\n",
    "phase_handles, phasemap = phase_legend(my_phases_alfe)\n",
    "phasecolors = [phasemap[str(p)] for p in eq.Phase.sel(T=1300, vertex=0).values[0]]\n",
    "plt.scatter(eq.X.sel(T=1300, component='AL', vertex=0), eq.MU.sel(T=1300, component='FE'), color=phasecolors)\n",
    "phasecolors = [phasemap[str(p)] for p in eq.Phase.sel(T=1300, vertex=1).values[0]]\n",
    "plt.scatter(eq.X.sel(T=1300, component='AL', vertex=1), eq.MU.sel(T=1300, component='FE'), color=phasecolors)\n",
    "plt.gca().legend(phase_handles, my_phases_alfe, loc='lower left')"
   ]
  },
  {
   "cell_type": "code",
   "execution_count": null,
   "metadata": {
    "collapsed": true
   },
   "outputs": [],
   "source": []
  }
 ],
 "metadata": {
  "kernelspec": {
   "display_name": "Python 3",
   "language": "python",
   "name": "python3"
  },
  "language_info": {
   "codemirror_mode": {
    "name": "ipython",
    "version": 3
   },
   "file_extension": ".py",
   "mimetype": "text/x-python",
   "name": "python",
   "nbconvert_exporter": "python",
   "pygments_lexer": "ipython3",
   "version": "3.5.1"
  }
 },
 "nbformat": 4,
 "nbformat_minor": 0
}
