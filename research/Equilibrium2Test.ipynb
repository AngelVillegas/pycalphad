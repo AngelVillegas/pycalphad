{
 "cells": [
  {
   "cell_type": "code",
   "execution_count": 1,
   "metadata": {
    "collapsed": false
   },
   "outputs": [],
   "source": [
    "%matplotlib inline\n",
    "from pycalphad import equilibrium\n",
    "from pycalphad import Database, Model\n",
    "import pycalphad.variables as v"
   ]
  },
  {
   "cell_type": "code",
   "execution_count": 2,
   "metadata": {
    "collapsed": false
   },
   "outputs": [],
   "source": [
    "db_alfe = Database('alfe_sei.TDB')\n",
    "my_phases_alfe = ['LIQUID', 'HCP_A3', 'AL5FE2', 'AL2FE', 'AL5FE4', 'FCC_A1', 'B2_BCC', 'AL13FE4']"
   ]
  },
  {
   "cell_type": "code",
   "execution_count": 3,
   "metadata": {
    "collapsed": false,
    "scrolled": true
   },
   "outputs": [
    {
     "name": "stdout",
     "output_type": "stream",
     "text": [
      "CPU times: user 55.3 s, sys: 17.7 s, total: 1min 12s\n",
      "Wall time: 55.7 s\n",
      "<xarray.Dataset>\n",
      "Dimensions:       (P: 1, T: 1, X_AL: 10, component: 2, internal_dof: 5, vertex: 2)\n",
      "Coordinates:\n",
      "  * P             (P) float64 1.013e+05\n",
      "  * T             (T) float64 300.0\n",
      "  * X_AL          (X_AL) float64 1e-05 0.1 0.2 0.3 0.4 0.5 0.6 0.7 0.8 0.9\n",
      "  * vertex        (vertex) int64 0 1\n",
      "  * component     (component) object 'AL' 'FE'\n",
      "  * internal_dof  (internal_dof) int64 0 1 2 3 4\n",
      "Data variables:\n",
      "    MU            (P, T, X_AL, component) float64 -1.339e+05 -8.185e+03 ...\n",
      "    NP            (P, T, X_AL, vertex) float64 1.0 nan 1.0 nan 1.0 nan 1.0 ...\n",
      "    GM            (P, T, X_AL) float64 -8.186e+03 -1.777e+04 -2.542e+04 ...\n",
      "    X             (P, T, X_AL, vertex, component) float64 1e-05 1.0 nan nan ...\n",
      "    Y             (P, T, X_AL, vertex, internal_dof) float64 1e-05 1.0 1e-05 ...\n",
      "    Phase         (P, T, X_AL, vertex) object 'B2_BCC' '' 'B2_BCC' '' ...\n",
      "Attributes:\n",
      "    solve_iterations: 20\n",
      "    hull_iterations: 8\n"
     ]
    }
   ],
   "source": [
    "%time eq= equilibrium(db_alfe, ['AL', 'FE', 'VA'], my_phases_alfe, {v.X('AL'): (1e-5,1,0.1), v.T: 300, v.P: [101325]}, verbose=False)\n",
    "print(eq)"
   ]
  },
  {
   "cell_type": "code",
   "execution_count": 4,
   "metadata": {
    "collapsed": false
   },
   "outputs": [
    {
     "data": {
      "text/plain": [
       "<matplotlib.legend.Legend at 0x7f111c71b860>"
      ]
     },
     "execution_count": 4,
     "metadata": {},
     "output_type": "execute_result"
    },
    {
     "data": {
      "image/png": "[encoded data removed]",
      "text/plain": [
       "<matplotlib.figure.Figure at 0x7f111effd748>"
      ]
     },
     "metadata": {},
     "output_type": "display_data"
    }
   ],
   "source": [
    "%matplotlib inline\n",
    "import matplotlib.pyplot as plt\n",
    "from pycalphad.plot.utils import phase_legend\n",
    "plt.gca().set_xlim((0,1))\n",
    "temp = 300\n",
    "plt.gca().set_title('Chemical potential of Fe vs X(AL), {} K'.format(temp))\n",
    "plt.gca().set_xlabel('X(AL)')\n",
    "plt.gca().set_ylabel('MU(FE)')\n",
    "\n",
    "phase_handles, phasemap = phase_legend(my_phases_alfe)\n",
    "phasecolors = [phasemap[str(p)] for p in eq.Phase.sel(T=temp, vertex=0).values[0] if p != '']\n",
    "plt.scatter(eq.X.sel(T=temp, component='AL', vertex=0), eq.MU.sel(T=temp, component='FE'), color=phasecolors)\n",
    "phasecolors = [phasemap[str(p)] for p in eq.Phase.sel(T=temp, vertex=1).values[0] if p != '']\n",
    "plt.scatter(eq.X.sel(T=temp, component='AL', vertex=1), eq.MU.sel(T=temp, component='FE'), color=phasecolors)\n",
    "plt.gca().legend(phase_handles, my_phases_alfe, loc='lower left')"
   ]
  },
  {
   "cell_type": "code",
   "execution_count": null,
   "metadata": {
    "collapsed": true
   },
   "outputs": [],
   "source": []
  }
 ],
 "metadata": {
  "kernelspec": {
   "display_name": "Python 3",
   "language": "python",
   "name": "python3"
  },
  "language_info": {
   "codemirror_mode": {
    "name": "ipython",
    "version": 3
   },
   "file_extension": ".py",
   "mimetype": "text/x-python",
   "name": "python",
   "nbconvert_exporter": "python",
   "pygments_lexer": "ipython3",
   "version": "3.5.1"
  }
 },
 "nbformat": 4,
 "nbformat_minor": 0
}
