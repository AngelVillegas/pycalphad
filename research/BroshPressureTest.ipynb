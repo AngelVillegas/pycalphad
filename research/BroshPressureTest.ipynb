{
 "cells": [
  {
   "cell_type": "code",
   "execution_count": 1,
   "metadata": {
    "collapsed": false
   },
   "outputs": [],
   "source": [
    "%matplotlib inline\n",
    "import matplotlib.pyplot as plt\n",
    "import numpy as np\n",
    "from pycalphad import Database, equilibrium\n",
    "from pycalphad.eq.utils import make_callable\n",
    "import pycalphad.variables as v\n",
    "\n",
    "db = Database('Fe-C_Fei_Brosh_2014_09.TDB')"
   ]
  },
  {
   "cell_type": "code",
   "execution_count": 2,
   "metadata": {
    "collapsed": false
   },
   "outputs": [
    {
     "name": "stdout",
     "output_type": "stream",
     "text": [
      "Components: C FE VA\n",
      "Phases: FCC_A1 [done]\n",
      "Computing initial grid [26 points, 19.1KB]\n",
      "Computing convex hull [iteration 1]\n",
      "progress 51355.064441\n",
      "Refining convex hull\n",
      "Rebuilding grid [28 points, 20.5KB]\n",
      "Computing convex hull [iteration 2]\n",
      "progress 0.0108086935925\n",
      "Refining convex hull\n",
      "Rebuilding grid [30 points, 22.0KB]\n",
      "Computing convex hull [iteration 3]\n",
      "progress 0.0145902573495\n",
      "Refining convex hull\n",
      "Rebuilding grid [32 points, 23.4KB]\n",
      "Computing convex hull [iteration 4]\n",
      "progress 0.0274542439438\n",
      "Refining convex hull\n",
      "Rebuilding grid [34 points, 24.9KB]\n",
      "Computing convex hull [iteration 5]\n",
      "progress 1.99710120796e-06\n",
      "Convergence achieved\n",
      "CPU times: user 2min 21s, sys: 198 ms, total: 2min 21s\n",
      "Wall time: 2min 21s\n"
     ]
    }
   ],
   "source": [
    "%time data = equilibrium(db, ['FE', 'C', 'VA'], 'FCC_A1', {v.X('C'): 1e-6, v.T: 600, v.P: np.logspace(5, 10, num=10)})"
   ]
  },
  {
   "cell_type": "code",
   "execution_count": 3,
   "metadata": {
    "collapsed": false
   },
   "outputs": [
    {
     "data": {
      "text/plain": [
       "<xray.Dataset>\n",
       "Dimensions:       (P: 10, T: 1, X_C: 1, component: 2, internal_dof: 3, vertex: 2)\n",
       "Coordinates:\n",
       "  * P             (P) float64 1e+05 3.594e+05 1.292e+06 4.642e+06 1.668e+07 ...\n",
       "  * T             (T) float64 600.0\n",
       "  * X_C           (X_C) float64 1e-06\n",
       "  * vertex        (vertex) int64 0 1\n",
       "  * component     (component) object 'C' 'FE'\n",
       "  * internal_dof  (internal_dof) int64 0 1 2\n",
       "Data variables:\n",
       "    MU            (P, T, X_C, component) float64 -4.001e+04 -1.669e+04 ...\n",
       "    GM            (P, T, X_C) float64 -1.669e+04 -1.669e+04 -1.668e+04 ...\n",
       "    NP            (P, T, X_C, vertex) float64 0.3211 0.6789 0.3211 0.6789 ...\n",
       "    X             (P, T, X_C, vertex, component) float64 3.115e-06 1.0 ...\n",
       "    Y             (P, T, X_C, vertex, internal_dof) float64 1.0 3.115e-06 ...\n",
       "    Phase         (P, T, X_C, vertex) object 'FCC_A1' 'FCC_A1' 'FCC_A1' ...\n",
       "Attributes:\n",
       "    iterations: 5"
      ]
     },
     "execution_count": 3,
     "metadata": {},
     "output_type": "execute_result"
    }
   ],
   "source": [
    "data"
   ]
  },
  {
   "cell_type": "code",
   "execution_count": 4,
   "metadata": {
    "collapsed": false
   },
   "outputs": [
    {
     "data": {
      "image/png": "[encoded data removed]",
      "text/plain": [
       "<matplotlib.figure.Figure at 0x7f22d4bd5550>"
      ]
     },
     "metadata": {},
     "output_type": "display_data"
    }
   ],
   "source": [
    "fig = plt.gca()\n",
    "fig.plot(data['P'], np.exp(data['MU'].sel(T=600, X_C=1e-6, component='C')/(8.3145*600)))\n",
    "fig.set_title('Equilibrium for X(C)=1e-6 and T=600 K', fontsize=15)\n",
    "fig.set_xlabel('P (Pa)', fontsize=15)\n",
    "fig.set_ylabel('Carbon Activity', fontsize=15)\n",
    "fig.set_yscale('log')\n",
    "fig.set_xscale('log')"
   ]
  },
  {
   "cell_type": "code",
   "execution_count": 6,
   "metadata": {
    "collapsed": false
   },
   "outputs": [
    {
     "data": {
      "image/png": "[encoded data removed]",
      "text/plain": [
       "<matplotlib.figure.Figure at 0x7f22d4587978>"
      ]
     },
     "metadata": {},
     "output_type": "display_data"
    }
   ],
   "source": [
    "from_tc = np.array([\n",
    "   [1.00000E+05, 2.87082E-04],\n",
    "   [2.50098E+08, 3.43702E-04],\n",
    "   [5.00095E+08, 4.11376E-04],\n",
    "   [7.50092E+08, 4.92240E-04],\n",
    "   [1.00009E+09, 5.88842E-04],\n",
    "   [1.25009E+09, 7.04217E-04],\n",
    "   [1.50008E+09, 8.41978E-04],\n",
    "   [1.75008E+09, 1.00643E-03],\n",
    "   [2.00008E+09, 1.20270E-03],\n",
    "   [2.25008E+09, 1.43688E-03],\n",
    "   [2.50008E+09, 1.71624E-03],\n",
    "   [2.75007E+09, 2.04941E-03],\n",
    "   [3.00007E+09, 2.44668E-03],\n",
    "   [3.25007E+09, 2.92025E-03],\n",
    "   [3.50006E+09, 3.48467E-03],\n",
    "   [3.75006E+09, 4.15723E-03],\n",
    "   [4.00006E+09, 4.95845E-03],\n",
    "   [4.25006E+09, 5.91275E-03],\n",
    "   [4.50006E+09, 7.04914E-03],\n",
    "   [4.75005E+09, 8.40209E-03],\n",
    "   [5.00005E+09, 1.00125E-02],\n",
    "   [5.25005E+09, 1.19290E-02],\n",
    "   [5.50004E+09, 1.42094E-02],\n",
    "   [5.75004E+09, 1.69221E-02],\n",
    "   [6.00004E+09, 2.01484E-02],\n",
    "   [6.25004E+09, 2.39849E-02],\n",
    "   [6.50004E+09, 2.85461E-02],\n",
    "   [6.75003E+09, 3.39678E-02],\n",
    "   [7.00003E+09, 4.04112E-02],\n",
    "   [7.25003E+09, 4.80674E-02],\n",
    "   [7.50002E+09, 5.71628E-02],\n",
    "   [7.75002E+09, 6.79661E-02],\n",
    "   [8.00002E+09, 8.07956E-02],\n",
    "   [8.25002E+09, 9.60286E-02],\n",
    "   [8.50002E+09, 1.14112E-01],\n",
    "   [8.75001E+09, 1.35576E-01],\n",
    "   [9.00001E+09, 1.61047E-01],\n",
    "   [9.25001E+09, 1.91268E-01],\n",
    "   [9.50000E+09, 2.27120E-01],\n",
    "   [9.75000E+09, 2.69643E-01],\n",
    "   [1.00000E+10, 3.20071E-01]\n",
    "    ])\n",
    "fig = plt.gca()\n",
    "fig.plot(from_tc[:, 0], from_tc[:, 1])\n",
    "fig.set_title('Equilibrium for X(C)=1e-6 and T=600 K', fontsize=15)\n",
    "fig.set_xlabel('P (Pa)', fontsize=15)\n",
    "fig.set_ylabel('Carbon Activity', fontsize=15)\n",
    "fig.set_yscale('log')\n",
    "fig.set_xscale('log')"
   ]
  },
  {
   "cell_type": "code",
   "execution_count": null,
   "metadata": {
    "collapsed": true
   },
   "outputs": [],
   "source": []
  }
 ],
 "metadata": {
  "kernelspec": {
   "display_name": "Python 3",
   "language": "python",
   "name": "python3"
  },
  "language_info": {
   "codemirror_mode": {
    "name": "ipython",
    "version": 3
   },
   "file_extension": ".py",
   "mimetype": "text/x-python",
   "name": "python",
   "nbconvert_exporter": "python",
   "pygments_lexer": "ipython3",
   "version": "3.4.3"
  }
 },
 "nbformat": 4,
 "nbformat_minor": 0
}
