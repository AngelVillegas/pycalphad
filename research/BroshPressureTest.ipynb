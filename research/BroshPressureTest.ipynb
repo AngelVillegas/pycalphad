{
 "cells": [
  {
   "cell_type": "code",
   "execution_count": 29,
   "metadata": {
    "collapsed": false
   },
   "outputs": [],
   "source": [
    "%matplotlib inline\n",
    "import matplotlib.pyplot as plt\n",
    "import numpy as np\n",
    "from pycalphad import Database, equilibrium\n",
    "from pycalphad.eq.utils import make_callable\n",
    "import pycalphad.variables as v\n",
    "\n",
    "db = Database('Fe-C_Fei_Brosh_2014_09.TDB')"
   ]
  },
  {
   "cell_type": "code",
   "execution_count": 30,
   "metadata": {
    "collapsed": false
   },
   "outputs": [
    {
     "name": "stdout",
     "output_type": "stream",
     "text": [
      "Components: C FE VA\n",
      "Phases: FCC_A1 [done]\n",
      "Computing initial grid [206 points, 31.4KB]\n",
      "Computing convex hull [iteration 1]\n",
      "Refining points within 0.0001J/mol of hull\n",
      "Rebuilding grid [35 points, 5.4KB]\n",
      "Computing convex hull [iteration 2]\n",
      "Refining points within 0.0001J/mol of hull\n",
      "Rebuilding grid [134 points, 20.5KB]\n",
      "Computing convex hull [iteration 3]\n",
      "Refining points within 0.0001J/mol of hull\n",
      "Rebuilding grid [1212 points, 184.4KB]\n",
      "Computing convex hull [iteration 4]\n",
      "Refining points within 0.0001J/mol of hull\n",
      "Rebuilding grid [1212 points, 184.4KB]\n",
      "Computing convex hull [iteration 5]\n",
      "Refining points within 0.0001J/mol of hull\n",
      "Rebuilding grid [12102 points, 1.8MB]\n",
      "CPU times: user 2min 40s, sys: 876 ms, total: 2min 41s\n",
      "Wall time: 2min 40s\n"
     ]
    }
   ],
   "source": [
    "%time data = equilibrium(db, ['FE', 'C', 'VA'], 'FCC_A1', {v.X('C'): 1e-6, v.T: 600, v.P: np.logspace(5, 10, num=10)})"
   ]
  },
  {
   "cell_type": "code",
   "execution_count": 31,
   "metadata": {
    "collapsed": false
   },
   "outputs": [
    {
     "data": {
      "text/plain": [
       "<xray.Dataset>\n",
       "Dimensions:       (P: 10, T: 1, X_C: 1, component: 2, internal_dof: 3, vertex: 2)\n",
       "Coordinates:\n",
       "  * P             (P) float64 1e+05 3.594e+05 1.292e+06 4.642e+06 1.668e+07 ...\n",
       "  * T             (T) float64 600.0\n",
       "  * X_C           (X_C) float64 1e-06\n",
       "  * vertex        (vertex) int64 0 1\n",
       "  * component     (component) object 'C' 'FE'\n",
       "  * internal_dof  (internal_dof) int64 0 1 2\n",
       "Data variables:\n",
       "    MU            (P, T, X_C, component) float64 -4.22e+04 -1.669e+04 ...\n",
       "    GM            (P, T, X_C) float64 -1.669e+04 -1.669e+04 -1.668e+04 ...\n",
       "    NP            (P, T, X_C, vertex) float64 0.9696 0.03042 0.9696 0.03042 ...\n",
       "    X             (P, T, X_C, vertex, component) float64 1.016e-06 1.0 ...\n",
       "    Y             (P, T, X_C, vertex, internal_dof) float64 1.0 1.016e-06 ...\n",
       "    Phase         (P, T, X_C, vertex) object 'FCC_A1' 'FCC_A1' 'FCC_A1' ...\n",
       "Attributes:\n",
       "    iterations: 6"
      ]
     },
     "execution_count": 31,
     "metadata": {},
     "output_type": "execute_result"
    }
   ],
   "source": [
    "data"
   ]
  },
  {
   "cell_type": "code",
   "execution_count": 32,
   "metadata": {
    "collapsed": false
   },
   "outputs": [
    {
     "data": {
      "image/png": "[encoded data removed]",
      "text/plain": [
       "<matplotlib.figure.Figure at 0x7ff1f71a6f98>"
      ]
     },
     "metadata": {},
     "output_type": "display_data"
    }
   ],
   "source": [
    "fig = plt.gca()\n",
    "fig.plot(data['P'], np.exp(data['MU'].sel(T=600, X_C=1e-6, component='C')/(8.3145*600)))\n",
    "fig.set_title('Equilibrium for X(C)=1e-6 and T=600 K', fontsize=15)\n",
    "fig.set_xlabel('P (Pa)', fontsize=15)\n",
    "fig.set_ylabel('Carbon Activity', fontsize=15)\n",
    "fig.set_yscale('log')\n",
    "fig.set_xscale('log')"
   ]
  },
  {
   "cell_type": "code",
   "execution_count": null,
   "metadata": {
    "collapsed": true
   },
   "outputs": [],
   "source": []
  }
 ],
 "metadata": {
  "kernelspec": {
   "display_name": "Python 3",
   "language": "python",
   "name": "python3"
  },
  "language_info": {
   "codemirror_mode": {
    "name": "ipython",
    "version": 3
   },
   "file_extension": ".py",
   "mimetype": "text/x-python",
   "name": "python",
   "nbconvert_exporter": "python",
   "pygments_lexer": "ipython3",
   "version": "3.4.3"
  }
 },
 "nbformat": 4,
 "nbformat_minor": 0
}
