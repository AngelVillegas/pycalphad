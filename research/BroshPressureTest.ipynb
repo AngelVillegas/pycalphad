{
 "cells": [
  {
   "cell_type": "code",
   "execution_count": 1,
   "metadata": {
    "collapsed": false
   },
   "outputs": [],
   "source": [
    "%matplotlib inline\n",
    "import matplotlib.pyplot as plt\n",
    "import numpy as np\n",
    "from pycalphad import Database, Model\n",
    "from pycalphad.eq.utils import make_callable\n",
    "import pycalphad.variables as v\n",
    "\n",
    "db = Database('Fe-C_Fei_Brosh_2014_09.TDB')"
   ]
  },
  {
   "cell_type": "code",
   "execution_count": 2,
   "metadata": {
    "collapsed": false
   },
   "outputs": [
    {
     "name": "stdout",
     "output_type": "stream",
     "text": [
      "CPU times: user 21 s, sys: 1.68 s, total: 22.7 s\n",
      "Wall time: 22.7 s\n"
     ]
    }
   ],
   "source": [
    "from pycalphad import calculate\n",
    "\n",
    "%time data = calculate(db, ['FE', 'C', 'VA'], 'FCC_A1', output='GM',\\\n",
    "                         T=np.linspace(300.0, 1200.0, num=50), P=np.logspace(5, 10, num=50))"
   ]
  },
  {
   "cell_type": "code",
   "execution_count": 3,
   "metadata": {
    "collapsed": false
   },
   "outputs": [
    {
     "data": {
      "text/plain": [
       "(<xray.Dataset>\n",
       " Dimensions:     (P: 50, T: 50, components: 2, points: 4004)\n",
       " Coordinates:\n",
       "   * components  (components) <U2 'C' 'FE'\n",
       "     Phase       <U6 'FCC_A1'\n",
       "   * T           (T) float64 300.0 318.4 336.7 355.1 373.5 391.8 410.2 428.6 ...\n",
       "   * P           (P) float64 1e+05 1.265e+05 1.6e+05 2.024e+05 2.56e+05 ...\n",
       "   * points      (points) int64 0 1 2 3 4 5 6 7 8 9 10 11 12 13 14 15 16 17 ...\n",
       " Data variables:\n",
       "     GM          (P, T, points) float64 3.396e+04 -2.797e+03 1.128e+04 ...\n",
       "     X           (points, components) float64 0.5 0.5 0.0 1.0 0.2886 0.7114 ...,\n",
       " {'FCC_A1': <xray.DataArray (points: 4004, constitution: 3)>\n",
       "  array([[  1.00000000e+00,   1.00000000e+00,   0.00000000e+00],\n",
       "         [  1.00000000e+00,   0.00000000e+00,   1.00000000e+00],\n",
       "         [  1.00000000e+00,   4.05683871e-01,   5.94316129e-01],\n",
       "         ..., \n",
       "         [  1.00000000e+00,   1.00000000e+00,   4.35166850e-10],\n",
       "         [  1.00000000e+00,   1.00000000e+00,   1.18031014e-10],\n",
       "         [  1.00000000e+00,   1.77475361e-01,   8.22524639e-01]])\n",
       "  Coordinates:\n",
       "    * constitution  (constitution) <U14 'Y(FCC_A1,0,FE)' 'Y(FCC_A1,1,C)' ...\n",
       "    * points        (points) int64 0 1 2 3 4 5 6 7 8 9 10 11 12 13 14 15 16 17 ...})"
      ]
     },
     "execution_count": 3,
     "metadata": {},
     "output_type": "execute_result"
    }
   ],
   "source": [
    "data"
   ]
  },
  {
   "cell_type": "code",
   "execution_count": 5,
   "metadata": {
    "collapsed": false
   },
   "outputs": [
    {
     "data": {
      "text/plain": [
       "76.3702392578125"
      ]
     },
     "execution_count": 5,
     "metadata": {},
     "output_type": "execute_result"
    }
   ],
   "source": [
    "data[0]['GM'].values.nbytes / 2**20"
   ]
  },
  {
   "cell_type": "code",
   "execution_count": 7,
   "metadata": {
    "collapsed": false
   },
   "outputs": [
    {
     "data": {
      "text/plain": [
       "76.46268463134766"
      ]
     },
     "execution_count": 7,
     "metadata": {},
     "output_type": "execute_result"
    }
   ],
   "source": [
    "data[0].nbytes / 2**20"
   ]
  },
  {
   "cell_type": "code",
   "execution_count": 3,
   "metadata": {
    "collapsed": false
   },
   "outputs": [
    {
     "name": "stdout",
     "output_type": "stream",
     "text": [
      "None\n"
     ]
    }
   ],
   "source": [
    "coords = ['X_AL']\n",
    "filtered = [x for x in coords if x in ['T', 'P']] or None\n",
    "print(filtered)"
   ]
  },
  {
   "cell_type": "code",
   "execution_count": null,
   "metadata": {
    "collapsed": true
   },
   "outputs": [],
   "source": []
  }
 ],
 "metadata": {
  "kernelspec": {
   "display_name": "Python 3",
   "language": "python",
   "name": "python3"
  },
  "language_info": {
   "codemirror_mode": {
    "name": "ipython",
    "version": 3
   },
   "file_extension": ".py",
   "mimetype": "text/x-python",
   "name": "python",
   "nbconvert_exporter": "python",
   "pygments_lexer": "ipython3",
   "version": "3.3.5"
  }
 },
 "nbformat": 4,
 "nbformat_minor": 0
}
