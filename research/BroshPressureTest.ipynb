{
 "cells": [
  {
   "cell_type": "code",
   "execution_count": 1,
   "metadata": {
    "collapsed": false
   },
   "outputs": [],
   "source": [
    "%matplotlib inline\n",
    "import matplotlib.pyplot as plt\n",
    "import numpy as np\n",
    "from pycalphad import Database, equilibrium\n",
    "import pycalphad.variables as v\n",
    "\n",
    "db = Database('Fe-C_Fei_Brosh_2014_09.TDB')"
   ]
  },
  {
   "cell_type": "code",
   "execution_count": 2,
   "metadata": {
    "collapsed": false
   },
   "outputs": [
    {
     "name": "stdout",
     "output_type": "stream",
     "text": [
      "Components: C FE VA\n",
      "Phases: FCC_A1 [done]\n",
      "Computing initial grid [26 points, 19.1KB]\n",
      "Computing convex hull [iteration 1]\n",
      "progress 10.293877753139967\n",
      "Refining convex hull\n",
      "Rebuilding grid [28 points, 20.5KB]\n",
      "Computing convex hull [iteration 2]\n",
      "progress 1.7412760960489606\n",
      "Refining convex hull\n",
      "Rebuilding grid [30 points, 22.0KB]\n",
      "Computing convex hull [iteration 3]\n",
      "progress 1.0938666572971796\n",
      "Refining convex hull\n",
      "Rebuilding grid [32 points, 23.4KB]\n",
      "Computing convex hull [iteration 4]\n",
      "progress 1.0732033129854779\n",
      "Refining convex hull\n",
      "Rebuilding grid [34 points, 24.9KB]\n",
      "Computing convex hull [iteration 5]\n",
      "progress 3.411415930747196\n",
      "Refining convex hull\n",
      "Rebuilding grid [36 points, 26.3KB]\n",
      "Computing convex hull [iteration 6]\n",
      "progress 1.0100188738907263\n",
      "Refining convex hull\n",
      "Rebuilding grid [38 points, 27.8KB]\n",
      "Computing convex hull [iteration 7]\n",
      "progress 1.0036902239956231\n",
      "Refining convex hull\n",
      "Rebuilding grid [40 points, 29.2KB]\n",
      "Computing convex hull [iteration 8]\n",
      "progress 1.0013581234428581\n",
      "Refining convex hull\n",
      "Rebuilding grid [42 points, 30.7KB]\n",
      "Computing convex hull [iteration 9]\n",
      "progress 1.0004996876187882\n",
      "Refining convex hull\n",
      "Rebuilding grid [44 points, 32.2KB]\n",
      "Computing convex hull [iteration 10]\n",
      "progress 1.0001836247373943\n",
      "Refining convex hull\n",
      "Rebuilding grid [46 points, 33.6KB]\n",
      "Computing convex hull [iteration 11]\n",
      "progress 1.0000671597273976\n",
      "Refining convex hull\n",
      "Rebuilding grid [48 points, 35.1KB]\n",
      "Computing convex hull [iteration 12]\n",
      "progress 1.0000456393134134\n",
      "Refining convex hull\n",
      "Rebuilding grid [50 points, 36.5KB]\n",
      "Computing convex hull [iteration 13]\n",
      "progress 0.9999509553712718\n",
      "Refining convex hull\n",
      "Rebuilding grid [52 points, 38.0KB]\n",
      "Computing convex hull [iteration 14]\n",
      "progress 0.5826362230780043\n",
      "Refining convex hull\n",
      "Rebuilding grid [54 points, 39.4KB]\n",
      "Computing convex hull [iteration 15]\n",
      "progress 0.22319083319904373\n",
      "Refining convex hull\n",
      "Rebuilding grid [56 points, 40.9KB]\n",
      "Computing convex hull [iteration 16]\n",
      "progress 0.10018682476474647\n",
      "Refining convex hull\n",
      "Rebuilding grid [58 points, 42.4KB]\n",
      "Computing convex hull [iteration 17]\n",
      "progress 0.04770824638228929\n",
      "Refining convex hull\n",
      "Rebuilding grid [60 points, 43.8KB]\n",
      "Computing convex hull [iteration 18]\n",
      "progress 0.023776866990311393\n",
      "Refining convex hull\n",
      "Rebuilding grid [62 points, 45.3KB]\n",
      "Computing convex hull [iteration 19]\n",
      "progress 0.0117923600228645\n",
      "Refining convex hull\n",
      "Rebuilding grid [64 points, 46.7KB]\n",
      "Computing convex hull [iteration 20]\n",
      "progress 0.006007743861639039\n",
      "Refining convex hull\n",
      "Rebuilding grid [66 points, 48.2KB]\n",
      "Computing convex hull [iteration 21]\n",
      "progress 0.006998722695244197\n",
      "Refining convex hull\n",
      "Rebuilding grid [68 points, 49.6KB]\n",
      "Computing convex hull [iteration 22]\n",
      "progress 0.005239706148245789\n",
      "Refining convex hull\n",
      "Rebuilding grid [70 points, 51.1KB]\n",
      "Computing convex hull [iteration 23]\n",
      "progress 0.0014779863621298633\n",
      "Refining convex hull\n",
      "Rebuilding grid [72 points, 52.5KB]\n",
      "Computing convex hull [iteration 24]\n",
      "progress 0.0027831118037179017\n",
      "Refining convex hull\n",
      "Rebuilding grid [74 points, 54.0KB]\n",
      "Computing convex hull [iteration 25]\n",
      "progress 0.0026748093547379697\n",
      "Refining convex hull\n",
      "Rebuilding grid [76 points, 55.5KB]\n",
      "Computing convex hull [iteration 26]\n",
      "progress 0.0\n",
      "Convergence achieved\n",
      "CPU times: user 2min 31s, sys: 275 ms, total: 2min 32s\n",
      "Wall time: 2min 31s\n"
     ]
    }
   ],
   "source": [
    "%time data = equilibrium(db, ['FE', 'C', 'VA'], 'FCC_A1', {v.X('C'): 1e-6, v.T: 600, v.P: np.logspace(5, 10, num=10)})"
   ]
  },
  {
   "cell_type": "code",
   "execution_count": 3,
   "metadata": {
    "collapsed": false
   },
   "outputs": [
    {
     "data": {
      "text/plain": [
       "<xray.Dataset>\n",
       "Dimensions:       (P: 10, T: 1, X_C: 1, component: 2, internal_dof: 3, vertex: 2)\n",
       "Coordinates:\n",
       "  * P             (P) float64 1e+05 3.594e+05 1.292e+06 4.642e+06 1.668e+07 ...\n",
       "  * T             (T) float64 600.0\n",
       "  * X_C           (X_C) float64 1e-06\n",
       "  * vertex        (vertex) int64 0 1\n",
       "  * component     (component) object 'C' 'FE'\n",
       "  * internal_dof  (internal_dof) int64 0 1 2\n",
       "Data variables:\n",
       "    MU            (P, T, X_C, component) float64 -4.069e+04 -1.669e+04 ...\n",
       "    NP            (P, T, X_C, vertex) float64 0.3219 0.6781 0.8115 0.1885 ...\n",
       "    GM            (P, T, X_C) float64 -1.669e+04 -1.669e+04 -1.668e+04 ...\n",
       "    X             (P, T, X_C, vertex, component) float64 1.001e-06 1.0 ...\n",
       "    Y             (P, T, X_C, vertex, internal_dof) float64 1.0 1.001e-06 ...\n",
       "    Phase         (P, T, X_C, vertex) object 'FCC_A1' 'FCC_A1' 'FCC_A1' ...\n",
       "Attributes:\n",
       "    iterations: 26"
      ]
     },
     "execution_count": 3,
     "metadata": {},
     "output_type": "execute_result"
    }
   ],
   "source": [
    "data"
   ]
  },
  {
   "cell_type": "code",
   "execution_count": 4,
   "metadata": {
    "collapsed": false
   },
   "outputs": [
    {
     "data": {
      "image/png": "[encoded data removed]",
      "text/plain": [
       "<matplotlib.figure.Figure at 0x7f003e843cc0>"
      ]
     },
     "metadata": {},
     "output_type": "display_data"
    }
   ],
   "source": [
    "fig = plt.gca()\n",
    "fig.plot(data['P'], np.exp(data['MU'].sel(T=600, X_C=1e-6, component='C')/(8.3145*600)))\n",
    "fig.set_title('Equilibrium for X(C)=1e-6 and T=600 K', fontsize=15)\n",
    "fig.set_xlabel('P (Pa)', fontsize=15)\n",
    "fig.set_ylabel('Carbon Activity', fontsize=15)\n",
    "fig.set_yscale('log')\n",
    "fig.set_xscale('log')"
   ]
  },
  {
   "cell_type": "code",
   "execution_count": 5,
   "metadata": {
    "collapsed": false
   },
   "outputs": [
    {
     "data": {
      "image/png": "[encoded data removed]",
      "text/plain": [
       "<matplotlib.figure.Figure at 0x7f003e3f7fd0>"
      ]
     },
     "metadata": {},
     "output_type": "display_data"
    }
   ],
   "source": [
    "from_tc = np.array([\n",
    "   [1.00000E+05, 2.87082E-04],\n",
    "   [2.50098E+08, 3.43702E-04],\n",
    "   [5.00095E+08, 4.11376E-04],\n",
    "   [7.50092E+08, 4.92240E-04],\n",
    "   [1.00009E+09, 5.88842E-04],\n",
    "   [1.25009E+09, 7.04217E-04],\n",
    "   [1.50008E+09, 8.41978E-04],\n",
    "   [1.75008E+09, 1.00643E-03],\n",
    "   [2.00008E+09, 1.20270E-03],\n",
    "   [2.25008E+09, 1.43688E-03],\n",
    "   [2.50008E+09, 1.71624E-03],\n",
    "   [2.75007E+09, 2.04941E-03],\n",
    "   [3.00007E+09, 2.44668E-03],\n",
    "   [3.25007E+09, 2.92025E-03],\n",
    "   [3.50006E+09, 3.48467E-03],\n",
    "   [3.75006E+09, 4.15723E-03],\n",
    "   [4.00006E+09, 4.95845E-03],\n",
    "   [4.25006E+09, 5.91275E-03],\n",
    "   [4.50006E+09, 7.04914E-03],\n",
    "   [4.75005E+09, 8.40209E-03],\n",
    "   [5.00005E+09, 1.00125E-02],\n",
    "   [5.25005E+09, 1.19290E-02],\n",
    "   [5.50004E+09, 1.42094E-02],\n",
    "   [5.75004E+09, 1.69221E-02],\n",
    "   [6.00004E+09, 2.01484E-02],\n",
    "   [6.25004E+09, 2.39849E-02],\n",
    "   [6.50004E+09, 2.85461E-02],\n",
    "   [6.75003E+09, 3.39678E-02],\n",
    "   [7.00003E+09, 4.04112E-02],\n",
    "   [7.25003E+09, 4.80674E-02],\n",
    "   [7.50002E+09, 5.71628E-02],\n",
    "   [7.75002E+09, 6.79661E-02],\n",
    "   [8.00002E+09, 8.07956E-02],\n",
    "   [8.25002E+09, 9.60286E-02],\n",
    "   [8.50002E+09, 1.14112E-01],\n",
    "   [8.75001E+09, 1.35576E-01],\n",
    "   [9.00001E+09, 1.61047E-01],\n",
    "   [9.25001E+09, 1.91268E-01],\n",
    "   [9.50000E+09, 2.27120E-01],\n",
    "   [9.75000E+09, 2.69643E-01],\n",
    "   [1.00000E+10, 3.20071E-01]\n",
    "    ])\n",
    "fig = plt.gca()\n",
    "fig.plot(from_tc[:, 0], from_tc[:, 1])\n",
    "fig.set_title('Equilibrium for X(C)=1e-6 and T=600 K', fontsize=15)\n",
    "fig.set_xlabel('P (Pa)', fontsize=15)\n",
    "fig.set_ylabel('Carbon Activity', fontsize=15)\n",
    "fig.set_yscale('log')\n",
    "fig.set_xscale('log')"
   ]
  },
  {
   "cell_type": "code",
   "execution_count": null,
   "metadata": {
    "collapsed": true
   },
   "outputs": [],
   "source": []
  }
 ],
 "metadata": {
  "kernelspec": {
   "display_name": "Python 3",
   "language": "python",
   "name": "python3"
  },
  "language_info": {
   "codemirror_mode": {
    "name": "ipython",
    "version": 3
   },
   "file_extension": ".py",
   "mimetype": "text/x-python",
   "name": "python",
   "nbconvert_exporter": "python",
   "pygments_lexer": "ipython3",
   "version": "3.4.3"
  }
 },
 "nbformat": 4,
 "nbformat_minor": 0
}
