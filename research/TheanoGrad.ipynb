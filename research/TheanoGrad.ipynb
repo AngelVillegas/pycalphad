{
 "cells": [
  {
   "cell_type": "code",
   "execution_count": 13,
   "metadata": {
    "collapsed": false,
    "scrolled": true
   },
   "outputs": [
    {
     "name": "stdout",
     "output_type": "stream",
     "text": [
      "('obj: ', array([[ 37.,  38.,  39.,  40.,  41.],\n",
      "       [ 50.,  51.,  52.,  53.,  54.],\n",
      "       [ 65.,  66.,  67.,  68.,  69.],\n",
      "       [ 82.,  83.,  84.,  85.,  86.]]))\n",
      "('obj.shape: ', (4, 5))\n",
      "('grad: ', [array([[ 1.,  1.,  1.,  1.,  1.],\n",
      "       [ 1.,  1.,  1.,  1.,  1.],\n",
      "       [ 1.,  1.,  1.,  1.,  1.],\n",
      "       [ 1.,  1.,  1.,  1.,  1.]]), array([[ 12.,  12.,  12.,  12.,  12.],\n",
      "       [ 14.,  14.,  14.,  14.,  14.],\n",
      "       [ 16.,  16.,  16.,  16.,  16.],\n",
      "       [ 18.,  18.,  18.,  18.,  18.]])])\n",
      "('grad elements shape: ', [(4, 5), (4, 5)])\n"
     ]
    }
   ],
   "source": [
    "import theano\n",
    "import theano.tensor as tt\n",
    "\n",
    "x = tt.tensor(name='x', dtype='floatX', broadcastable=(True, False))\n",
    "y = tt.tensor(name='y', dtype='floatX', broadcastable=(False, True))\n",
    "cache = {'x': x, 'y': y}\n",
    "x_rep = tt.alloc(x, y.shape[0], x.shape[1])\n",
    "y_rep = tt.alloc(y, y.shape[0], x.shape[1])\n",
    "obj = x_rep + y_rep **2\n",
    "\n",
    "grad = tt.grad(obj.sum(), [x_rep, y_rep], disconnected_inputs='warn')\n",
    "ofunc = theano.function([cache['x'], cache['y']], obj, mode='FAST_RUN', on_unused_input='warn')\n",
    "gfunc = theano.function([cache['x'], cache['y']], grad, mode='FAST_RUN', on_unused_input='warn')\n",
    "x1 = [[1., 2., 3., 4., 5.]]\n",
    "y1 = [[6.], [7.], [8.], [9.]]\n",
    "z1 = [[10.], [11.], [12.], [13.]]\n",
    "ores = ofunc(x1, y1)\n",
    "gres = gfunc(x1, y1)\n",
    "\n",
    "print('obj: ', ores)\n",
    "print('obj.shape: ', ores.shape)\n",
    "print('grad: ', gres)\n",
    "print('grad elements shape: ', [i.shape for i in gres])"
   ]
  },
  {
   "cell_type": "code",
   "execution_count": null,
   "metadata": {
    "collapsed": true
   },
   "outputs": [],
   "source": []
  }
 ],
 "metadata": {
  "kernelspec": {
   "display_name": "Python 2",
   "language": "python",
   "name": "python2"
  },
  "language_info": {
   "codemirror_mode": {
    "name": "ipython",
    "version": 2
   },
   "file_extension": ".py",
   "mimetype": "text/x-python",
   "name": "python",
   "nbconvert_exporter": "python",
   "pygments_lexer": "ipython2",
   "version": "2.7.10"
  }
 },
 "nbformat": 4,
 "nbformat_minor": 0
}
