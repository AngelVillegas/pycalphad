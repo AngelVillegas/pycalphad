{
 "cells": [
  {
   "cell_type": "code",
   "execution_count": 41,
   "metadata": {
    "collapsed": false,
    "scrolled": true
   },
   "outputs": [
    {
     "name": "stdout",
     "output_type": "stream",
     "text": [
      "('obj: ', array([[ 23.,  36.,  55.],\n",
      "       [ 33.,  47.,  67.]]))\n",
      "('obj.shape: ', (2, 3))\n",
      "('grad: ', array([[[ 10.,  16.],\n",
      "        [ 22.,  11.],\n",
      "        [ 17.,  23.]],\n",
      "\n",
      "       [[  9.,  10.],\n",
      "        [ 11.,  11.],\n",
      "        [ 12.,  13.]]]))\n",
      "('grad elements shape: ', [(3, 2), (3, 2)])\n",
      "('hess shape: ', (3, 2, 2, 2))\n",
      "('hres: ', array([[[[ 6.,  1.],\n",
      "         [ 1.,  2.]],\n",
      "\n",
      "        [[ 6.,  1.],\n",
      "         [ 1.,  2.]]],\n",
      "\n",
      "\n",
      "       [[[ 6.,  1.],\n",
      "         [ 1.,  2.]],\n",
      "\n",
      "        [[ 6.,  1.],\n",
      "         [ 1.,  2.]]],\n",
      "\n",
      "\n",
      "       [[[ 6.,  1.],\n",
      "         [ 1.,  2.]],\n",
      "\n",
      "        [[ 6.,  1.],\n",
      "         [ 1.,  2.]]]]))\n"
     ]
    }
   ],
   "source": [
    "import theano\n",
    "import theano.tensor as tt\n",
    "import numpy as np\n",
    "\n",
    "x = tt.tensor(name='x', dtype='floatX', broadcastable=(True, False))\n",
    "y = tt.tensor(name='y', dtype='floatX', broadcastable=(False, True))\n",
    "cache = {'x': x, 'y': y}\n",
    "rep_cache = {i: tt.alloc(cache[i], y.shape[0], x.shape[1]) for i in cache.keys()}\n",
    "\n",
    "# flat concatenation to use in Hessian\n",
    "flat_params = tt.join(0, rep_cache['x'].flatten(), rep_cache['y'].flatten())\n",
    "\n",
    "# reconstructed variables to use to compute obj\n",
    "flat_x, flat_y = tt.split(flat_params, [x.shape[1] * y.shape[0]] * 2, n_splits=2)\n",
    "new_x = flat_x.reshape([y.shape[0], x.shape[1]])\n",
    "new_y = flat_y.reshape([y.shape[0], x.shape[1]])\n",
    "\n",
    "obj = 3*new_x**2 + new_y ** 2 + new_x*new_y\n",
    "new_vars = [new_x, new_y]\n",
    "\n",
    "grad = theano.grad(obj.sum(), flat_params)\n",
    "hess, u = theano.scan(lambda i, gp, p: theano.grad(gp[i], p),\n",
    "                      sequences=tt.arange(flat_params.shape[0]),\n",
    "                      non_sequences=[grad, flat_params])\n",
    "ofunc = theano.function([cache['x'], cache['y']], obj, mode='FAST_RUN', on_unused_input='warn')\n",
    "gfunc = theano.function([cache['x'], cache['y']], grad, mode='FAST_RUN', on_unused_input='warn')\n",
    "hfunc = theano.function([cache['x'], cache['y']], hess, mode='FAST_RUN', on_unused_input='warn')\n",
    "x1 = [[1., 2., 3., 4., 5.]]\n",
    "x1 = [[1.,2.,3.]]\n",
    "y1 = [[6.], [7.], [8.], [9.]]\n",
    "y1 = [[4.], [5.]]\n",
    "ores = ofunc(x1, y1)\n",
    "gres = gfunc(x1, y1).reshape(2, 3, 2)\n",
    "hres = hfunc(x1, y1).reshape(-1,6).sum(axis=-1).reshape(2,6,2).transpose(1,0,2).reshape(3,2,2,2)\n",
    "print('obj: ', ores)\n",
    "print('obj.shape: ', ores.shape)\n",
    "print('grad: ', gres)\n",
    "print('grad elements shape: ', [i.shape for i in gres])\n",
    "print('hess shape: ', hres.shape)\n",
    "print('hres: ', hres)"
   ]
  },
  {
   "cell_type": "code",
   "execution_count": null,
   "metadata": {
    "collapsed": true
   },
   "outputs": [],
   "source": []
  }
 ],
 "metadata": {
  "kernelspec": {
   "display_name": "Python 2",
   "language": "python",
   "name": "python2"
  },
  "language_info": {
   "codemirror_mode": {
    "name": "ipython",
    "version": 2
   },
   "file_extension": ".py",
   "mimetype": "text/x-python",
   "name": "python",
   "nbconvert_exporter": "python",
   "pygments_lexer": "ipython2",
   "version": "2.7.10"
  }
 },
 "nbformat": 4,
 "nbformat_minor": 0
}
