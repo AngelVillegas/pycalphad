{
 "cells": [
  {
   "cell_type": "code",
   "execution_count": 69,
   "metadata": {
    "collapsed": true
   },
   "outputs": [],
   "source": [
    "# setup cell for realistic compositions\n",
    "# safe to ignore for xray purposes\n",
    "import numpy as np\n",
    "from pycalphad.eq.utils import point_sample\n",
    "import pycalphad.variables as v\n",
    "variables = [v.SiteFraction('TEST', 0, 'AL'),\n",
    "             v.SiteFraction('TEST', 0, 'NI'),\n",
    "             v.SiteFraction('TEST', 0, 'CR'),\n",
    "             v.SiteFraction('TEST', 0, 'FE'),\n",
    "             v.SiteFraction('TEST', 1, 'AL'),\n",
    "             v.SiteFraction('TEST', 1, 'NI'),\n",
    "             v.SiteFraction('TEST', 1, 'CR'),\n",
    "             v.SiteFraction('TEST', 1, 'FE'),\n",
    "             v.SiteFraction('TEST', 2, 'VA')\n",
    "             ]\n",
    "constitution = point_sample([4, 4, 1], pdof=100)\n",
    "composition = np.empty((constitution.shape[0], 4))\n",
    "\n",
    "site_ratios = [0.75, 0.25, 1]\n",
    "for idx, comp in enumerate(['AL', 'NI', 'CR', 'FE']):\n",
    "    avector = [float(vxx.species == comp) * site_ratios[vxx.sublattice_index] for vxx in variables]\n",
    "    composition[:, idx] = np.dot(constitution, avector)"
   ]
  },
  {
   "cell_type": "code",
   "execution_count": 70,
   "metadata": {
    "collapsed": false
   },
   "outputs": [
    {
     "name": "stdout",
     "output_type": "stream",
     "text": [
      "constitution.shape (600, 9)\n",
      "composition.shape  (600, 4)\n"
     ]
    }
   ],
   "source": [
    "import xray\n",
    "print('constitution.shape', constitution.shape)\n",
    "print('composition.shape ', composition.shape)"
   ]
  },
  {
   "cell_type": "code",
   "execution_count": 71,
   "metadata": {
    "collapsed": false
   },
   "outputs": [],
   "source": [
    "# Can we use a multi-index here?\n",
    "# 'AL_0' is species 'AL' in sublattice 0, 'CR_1' is species 'CR' in sublattice 1, etc.\n",
    "internal_dof = ['AL_0', 'NI_0', 'CR_0', 'FE_0', 'AL_1', 'NI_1', 'CR_1', 'FE_1', 'VA_2']\n",
    "components = ['AL', 'NI', 'CR', 'FE']\n",
    "temperatures = np.linspace(300., 1200., num=20)\n",
    "pressures = np.logspace(5, 10, num=20)\n",
    "site_ratios = np.array([3, 1, 1])\n",
    "energies = -1e4 * np.random.rand(20, 20, 600)\n",
    "ds = xray.Dataset({'energies': (['T', 'P', 'id'], energies), \\\n",
    "                   'constitution': (['id', 'internal_dof'], constitution), \\\n",
    "                   'components': components, \\\n",
    "                   'internal_dof': internal_dof}, \\\n",
    "                  coords={'Phase':'FCC_A1', 'T':temperatures, 'P':pressures, \\\n",
    "                          'composition': (['id', 'components'], composition), \\\n",
    "                          })"
   ]
  },
  {
   "cell_type": "code",
   "execution_count": 72,
   "metadata": {
    "collapsed": false
   },
   "outputs": [
    {
     "data": {
      "text/plain": [
       "<xray.Dataset>\n",
       "Dimensions:       (P: 20, T: 20, components: 4, id: 600, internal_dof: 9)\n",
       "Coordinates:\n",
       "  * components    (components) <U2 'AL' 'NI' 'CR' 'FE'\n",
       "  * internal_dof  (internal_dof) <U4 'AL_0' 'NI_0' 'CR_0' 'FE_0' 'AL_1' ...\n",
       "    composition   (id, components) float64 0.153 0.2138 0.2917 0.3415 0.316 ...\n",
       "    Phase         <U6 'FCC_A1'\n",
       "  * P             (P) float64 1e+05 1.833e+05 3.36e+05 6.158e+05 1.129e+06 ...\n",
       "  * T             (T) float64 300.0 347.4 394.7 442.1 489.5 536.8 584.2 ...\n",
       "  * id            (id) int64 0 1 2 3 4 5 6 7 8 9 10 11 12 13 14 15 16 17 18 ...\n",
       "Data variables:\n",
       "    constitution  (id, internal_dof) float64 0.1296 0.2055 0.301 0.3639 ...\n",
       "    energies      (T, P, id) float64 -5.533e+03 -605.8 -2.507e+03 -8.546e+03 ..."
      ]
     },
     "execution_count": 72,
     "metadata": {},
     "output_type": "execute_result"
    }
   ],
   "source": [
    "ds"
   ]
  },
  {
   "cell_type": "code",
   "execution_count": 121,
   "metadata": {
    "collapsed": false
   },
   "outputs": [
    {
     "data": {
      "text/plain": [
       "<xray.DataArray 'energies' ()>\n",
       "array(-891.1683215770149)\n",
       "Coordinates:\n",
       "    Phase    <U6 'FCC_A1'\n",
       "    P        float64 1.129e+06\n",
       "    id       int64 587\n",
       "    T        float64 1.2e+03"
      ]
     },
     "execution_count": 121,
     "metadata": {},
     "output_type": "execute_result"
    }
   ],
   "source": [
    "# This is not a good way to implement nearest-neighbor search\n",
    "target_composition = np.array([0.2, 0.3, 0.1, 0.4])\n",
    "target_id = (ds.composition - target_composition).reduce(np.linalg.norm, 'components').argmin()\n",
    "ds.energies.sel(T=1200, P=1e6, id=target_id, method='nearest')"
   ]
  },
  {
   "cell_type": "code",
   "execution_count": 122,
   "metadata": {
    "collapsed": false
   },
   "outputs": [
    {
     "data": {
      "text/html": [
       "<div>\n",
       "<table border=\"1\" class=\"dataframe\">\n",
       "  <thead>\n",
       "    <tr style=\"text-align: right;\">\n",
       "      <th></th>\n",
       "      <th>constitution</th>\n",
       "      <th>Phase</th>\n",
       "      <th>id</th>\n",
       "    </tr>\n",
       "    <tr>\n",
       "      <th>internal_dof</th>\n",
       "      <th></th>\n",
       "      <th></th>\n",
       "      <th></th>\n",
       "    </tr>\n",
       "  </thead>\n",
       "  <tbody>\n",
       "    <tr>\n",
       "      <th>AL_0</th>\n",
       "      <td>0.208199</td>\n",
       "      <td>FCC_A1</td>\n",
       "      <td>587</td>\n",
       "    </tr>\n",
       "    <tr>\n",
       "      <th>NI_0</th>\n",
       "      <td>0.210995</td>\n",
       "      <td>FCC_A1</td>\n",
       "      <td>587</td>\n",
       "    </tr>\n",
       "    <tr>\n",
       "      <th>CR_0</th>\n",
       "      <td>0.043723</td>\n",
       "      <td>FCC_A1</td>\n",
       "      <td>587</td>\n",
       "    </tr>\n",
       "    <tr>\n",
       "      <th>FE_0</th>\n",
       "      <td>0.537083</td>\n",
       "      <td>FCC_A1</td>\n",
       "      <td>587</td>\n",
       "    </tr>\n",
       "    <tr>\n",
       "      <th>AL_1</th>\n",
       "      <td>0.252339</td>\n",
       "      <td>FCC_A1</td>\n",
       "      <td>587</td>\n",
       "    </tr>\n",
       "    <tr>\n",
       "      <th>NI_1</th>\n",
       "      <td>0.526920</td>\n",
       "      <td>FCC_A1</td>\n",
       "      <td>587</td>\n",
       "    </tr>\n",
       "    <tr>\n",
       "      <th>CR_1</th>\n",
       "      <td>0.211842</td>\n",
       "      <td>FCC_A1</td>\n",
       "      <td>587</td>\n",
       "    </tr>\n",
       "    <tr>\n",
       "      <th>FE_1</th>\n",
       "      <td>0.008899</td>\n",
       "      <td>FCC_A1</td>\n",
       "      <td>587</td>\n",
       "    </tr>\n",
       "    <tr>\n",
       "      <th>VA_2</th>\n",
       "      <td>1.000000</td>\n",
       "      <td>FCC_A1</td>\n",
       "      <td>587</td>\n",
       "    </tr>\n",
       "  </tbody>\n",
       "</table>\n",
       "</div>"
      ],
      "text/plain": [
       "              constitution   Phase   id\n",
       "internal_dof                           \n",
       "AL_0              0.208199  FCC_A1  587\n",
       "NI_0              0.210995  FCC_A1  587\n",
       "CR_0              0.043723  FCC_A1  587\n",
       "FE_0              0.537083  FCC_A1  587\n",
       "AL_1              0.252339  FCC_A1  587\n",
       "NI_1              0.526920  FCC_A1  587\n",
       "CR_1              0.211842  FCC_A1  587\n",
       "FE_1              0.008899  FCC_A1  587\n",
       "VA_2              1.000000  FCC_A1  587"
      ]
     },
     "execution_count": 122,
     "metadata": {},
     "output_type": "execute_result"
    }
   ],
   "source": [
    "ds.constitution.sel(id=target_id).to_dataframe()"
   ]
  },
  {
   "cell_type": "code",
   "execution_count": 120,
   "metadata": {
    "collapsed": false
   },
   "outputs": [
    {
     "name": "stdout",
     "output_type": "stream",
     "text": [
      "Dataset size: 1.98772 Mb\n",
      "DataFrame size: 276.48 Mb\n"
     ]
    }
   ],
   "source": [
    "print('Dataset size:', ds.nbytes / 1e6, 'Mb')\n",
    "print('DataFrame size:', ds.to_dataframe().values.nbytes / 1e6, 'Mb')"
   ]
  },
  {
   "cell_type": "code",
   "execution_count": null,
   "metadata": {
    "collapsed": true
   },
   "outputs": [],
   "source": []
  }
 ],
 "metadata": {
  "kernelspec": {
   "display_name": "Python 3",
   "language": "python",
   "name": "python3"
  },
  "language_info": {
   "codemirror_mode": {
    "name": "ipython",
    "version": 3
   },
   "file_extension": ".py",
   "mimetype": "text/x-python",
   "name": "python",
   "nbconvert_exporter": "python",
   "pygments_lexer": "ipython3",
   "version": "3.3.5"
  }
 },
 "nbformat": 4,
 "nbformat_minor": 0
}
