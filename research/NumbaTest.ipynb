{
 "cells": [
  {
   "cell_type": "code",
   "execution_count": 1,
   "metadata": {
    "collapsed": true
   },
   "outputs": [],
   "source": [
    "from pycalphad import Database, Model\n",
    "from pycalphad.core.utils import make_callable\n",
    "import pycalphad.variables as v\n",
    "import numba\n",
    "import numpy as np"
   ]
  },
  {
   "cell_type": "code",
   "execution_count": 2,
   "metadata": {
    "collapsed": false
   },
   "outputs": [],
   "source": [
    "dbf = Database('Al-Ni/Al-Ni-Dupin-2001.tdb')\n",
    "mod = Model(dbf, ['AL', 'NI', 'VA'], 'LIQUID')"
   ]
  },
  {
   "cell_type": "code",
   "execution_count": 3,
   "metadata": {
    "collapsed": false
   },
   "outputs": [
    {
     "name": "stdout",
     "output_type": "stream",
     "text": [
      "lambda _Dummy_16,_Dummy_17,_Dummy_18: (1.0*_Dummy_17*where(logical_and(_Dummy_16 >= 298.13,_Dummy_16 < 933.6), 11005.029 + 7.934e-20*_Dummy_16**7 - 11.841867*_Dummy_16 + where(logical_and(_Dummy_16 >= 298.15,_Dummy_16 < 700.0), -7976.15 + 74092/_Dummy_16 + 137.093038*_Dummy_16 - 0.001884662*_Dummy_16**2 - 8.77664e-7*_Dummy_16**3 - 24.3671976*_Dummy_16*log(_Dummy_16), where(logical_and(_Dummy_16 >= 700.0,_Dummy_16 < 933.6), -11276.24 + 74092/_Dummy_16 + 223.048446*_Dummy_16 + 0.018531982*_Dummy_16**2 - 5.764227e-6*_Dummy_16**3 - 38.5844296*_Dummy_16*log(_Dummy_16), where(logical_and(_Dummy_16 >= 933.6,_Dummy_16 < 6000.0), -11278.378 + 188.684153*_Dummy_16 - 1.231e+28/_Dummy_16**9 - 31.748192*_Dummy_16*log(_Dummy_16), ones(1)*0.))), where(logical_and(_Dummy_16 >= 933.6,_Dummy_16 < 6000.0), 10482.382 + 1.231e+28/_Dummy_16**9 - 11.253974*_Dummy_16 + where(logical_and(_Dummy_16 >= 298.15,_Dummy_16 < 700.0), -7976.15 + 74092/_Dummy_16 + 137.093038*_Dummy_16 - 0.001884662*_Dummy_16**2 - 8.77664e-7*_Dummy_16**3 - 24.3671976*_Dummy_16*log(_Dummy_16), where(logical_and(_Dummy_16 >= 700.0,_Dummy_16 < 933.6), -11276.24 + 74092/_Dummy_16 + 223.048446*_Dummy_16 + 0.018531982*_Dummy_16**2 - 5.764227e-6*_Dummy_16**3 - 38.5844296*_Dummy_16*log(_Dummy_16), where(logical_and(_Dummy_16 >= 933.6,_Dummy_16 < 6000.0), -11278.378 + 188.684153*_Dummy_16 - 1.231e+28/_Dummy_16**9 - 31.748192*_Dummy_16*log(_Dummy_16), ones(1)*0.))), ones(1)*0.)) + 1.0*_Dummy_18*where(logical_and(_Dummy_16 >= 298.13,_Dummy_16 < 1728.0), 16414.686 - 3.82318e-21*_Dummy_16**7 - 9.397*_Dummy_16 + where(logical_and(_Dummy_16 >= 298.14,_Dummy_16 < 1728.0), -5179.159 + 117.854*_Dummy_16 - 0.0048407*_Dummy_16**2 - 22.096*_Dummy_16*log(_Dummy_16), where(logical_and(_Dummy_16 >= 1728.0,_Dummy_16 < 6000.0), -27840.655 + 279.135*_Dummy_16 + 1.12754e+31/_Dummy_16**9 - 43.1*_Dummy_16*log(_Dummy_16), ones(1)*0.)), where(logical_and(_Dummy_16 >= 1728.0,_Dummy_16 < 6000.0), 18290.88 - 1.12754e+31/_Dummy_16**9 - 10.537*_Dummy_16 + where(logical_and(_Dummy_16 >= 298.14,_Dummy_16 < 1728.0), -5179.159 + 117.854*_Dummy_16 - 0.0048407*_Dummy_16**2 - 22.096*_Dummy_16*log(_Dummy_16), where(logical_and(_Dummy_16 >= 1728.0,_Dummy_16 < 6000.0), -27840.655 + 279.135*_Dummy_16 + 1.12754e+31/_Dummy_16**9 - 43.1*_Dummy_16*log(_Dummy_16), ones(1)*0.)), ones(1)*0.)) + 8.3145*(1.0*log(_Dummy_17**_Dummy_17) + 1.0*log(_Dummy_18**_Dummy_18))*_Dummy_16 + 1.0*_Dummy_17*_Dummy_18*where(logical_and(_Dummy_16 >= 298.15,_Dummy_16 < 6000.0), -207109.28 + 41.31501*_Dummy_16, ones(1)*0.) + 1.0*(-_Dummy_18 + _Dummy_17)**2*_Dummy_17*_Dummy_18*where(logical_and(_Dummy_16 >= 298.15,_Dummy_16 < 6000.0), 81204.81 - 31.95713*_Dummy_16, ones(1)*0.) + 1.0*(-_Dummy_18 + _Dummy_17)**3*_Dummy_17*_Dummy_18*where(logical_and(_Dummy_16 >= 298.15,_Dummy_16 < 6000.0), 4365.35 - 2.51632*_Dummy_16, ones(1)*0.) + 1.0*(-_Dummy_18 + _Dummy_17)**4*_Dummy_17*_Dummy_18*where(logical_and(_Dummy_16 >= 298.15,_Dummy_16 < 6000.0), -22101.64 + 13.16341*_Dummy_16, ones(1)*0.) + 1.0*(-_Dummy_18 + _Dummy_17)*_Dummy_17*_Dummy_18*where(logical_and(_Dummy_16 >= 298.15,_Dummy_16 < 6000.0), -10185.79 + 5.8714*_Dummy_16, ones(1)*0.))\n"
     ]
    }
   ],
   "source": [
    "from sympy import lambdify\n",
    "from sympy.printing.lambdarepr import LambdaPrinter\n",
    "from pycalphad.core.utils import NumPyPrinter\n",
    "from sympy.utilities.lambdify import lambdastr\n",
    "func = lambdify(tuple(mod.variables), mod.ast, dummify=True,\n",
    "                          modules=[{'array': np.array}, 'numpy'], printer=NumPyPrinter)\n",
    "\n",
    "func_str = lambdastr(tuple(mod.variables), mod.ast, printer=NumPyPrinter, dummify=True)\n",
    "print(func_str)\n",
    "namespace = dict()\n",
    "namespace.update(np.__dict__)\n",
    "func = eval(func_str, namespace)"
   ]
  },
  {
   "cell_type": "code",
   "execution_count": 4,
   "metadata": {
    "collapsed": false
   },
   "outputs": [
    {
     "ename": "TypingError",
     "evalue": "Caused By:\nTraceback (most recent call last):\n  File \"/home/rotis/anaconda/envs/calphad/lib/python2.7/site-packages/numba/compiler.py\", line 243, in run\n    res = stage()\n  File \"/home/rotis/anaconda/envs/calphad/lib/python2.7/site-packages/numba/compiler.py\", line 458, in stage_nopython_frontend\n    self.locals)\n  File \"/home/rotis/anaconda/envs/calphad/lib/python2.7/site-packages/numba/compiler.py\", line 759, in type_inference_stage\n    infer.propagate()\n  File \"/home/rotis/anaconda/envs/calphad/lib/python2.7/site-packages/numba/typeinfer.py\", line 510, in propagate\n    raise errors[0]\nTypingError: Internal error at <numba.typeinfer.CallConstraint object at 0x7f03e24fa150>:\n--%<-----------------------------------------------------------------\nTraceback (most recent call last):\n  File \"/home/rotis/anaconda/envs/calphad/lib/python2.7/site-packages/numba/typeinfer.py\", line 111, in propagate\n    constraint(typeinfer)\n  File \"/home/rotis/anaconda/envs/calphad/lib/python2.7/site-packages/numba/typeinfer.py\", line 270, in __call__\n    self.resolve(typeinfer, typevars, fnty)\n  File \"/home/rotis/anaconda/envs/calphad/lib/python2.7/site-packages/numba/typeinfer.py\", line 297, in resolve\n    sig = context.resolve_function_type(fnty, pos_args, kw_args)\n  File \"/home/rotis/anaconda/envs/calphad/lib/python2.7/site-packages/numba/typing/context.py\", line 113, in resolve_function_type\n    return func.get_call_type(self, args, kws)\n  File \"/home/rotis/anaconda/envs/calphad/lib/python2.7/site-packages/numba/types.py\", line 222, in get_call_type\n    return self.template(context).apply(args, kws)\n  File \"/home/rotis/anaconda/envs/calphad/lib/python2.7/site-packages/numba/typing/templates.py\", line 155, in apply\n    sig = generic(args, kws)\n  File \"/home/rotis/anaconda/envs/calphad/lib/python2.7/site-packages/numba/typing/npydecl.py\", line 747, in generic\n    if (cond.ndim == x.ndim == y.ndim and\nAttributeError: 'Boolean' object has no attribute 'ndim'\n--%<-----------------------------------------------------------------\n\nFile \"<string>\", line 1\n\nFailed at nopython (nopython frontend)\nInternal error at <numba.typeinfer.CallConstraint object at 0x7f03e24fa150>:\n--%<-----------------------------------------------------------------\nTraceback (most recent call last):\n  File \"/home/rotis/anaconda/envs/calphad/lib/python2.7/site-packages/numba/typeinfer.py\", line 111, in propagate\n    constraint(typeinfer)\n  File \"/home/rotis/anaconda/envs/calphad/lib/python2.7/site-packages/numba/typeinfer.py\", line 270, in __call__\n    self.resolve(typeinfer, typevars, fnty)\n  File \"/home/rotis/anaconda/envs/calphad/lib/python2.7/site-packages/numba/typeinfer.py\", line 297, in resolve\n    sig = context.resolve_function_type(fnty, pos_args, kw_args)\n  File \"/home/rotis/anaconda/envs/calphad/lib/python2.7/site-packages/numba/typing/context.py\", line 113, in resolve_function_type\n    return func.get_call_type(self, args, kws)\n  File \"/home/rotis/anaconda/envs/calphad/lib/python2.7/site-packages/numba/types.py\", line 222, in get_call_type\n    return self.template(context).apply(args, kws)\n  File \"/home/rotis/anaconda/envs/calphad/lib/python2.7/site-packages/numba/typing/templates.py\", line 155, in apply\n    sig = generic(args, kws)\n  File \"/home/rotis/anaconda/envs/calphad/lib/python2.7/site-packages/numba/typing/npydecl.py\", line 747, in generic\n    if (cond.ndim == x.ndim == y.ndim and\nAttributeError: 'Boolean' object has no attribute 'ndim'\n--%<-----------------------------------------------------------------\n\nFile \"<string>\", line 1",
     "output_type": "error",
     "traceback": [
      "\u001b[1;31m---------------------------------------------------------------------------\u001b[0m",
      "\u001b[1;31mTypingError\u001b[0m                               Traceback (most recent call last)",
      "\u001b[1;32m<ipython-input-4-d40a703301e0>\u001b[0m in \u001b[0;36m<module>\u001b[1;34m()\u001b[0m\n\u001b[0;32m      8\u001b[0m \u001b[0mx5\u001b[0m \u001b[1;33m=\u001b[0m \u001b[1;36m1.\u001b[0m\u001b[1;33m\u001b[0m\u001b[0m\n\u001b[0;32m      9\u001b[0m \u001b[0mx6\u001b[0m \u001b[1;33m=\u001b[0m \u001b[1;36m1.\u001b[0m\u001b[1;33m\u001b[0m\u001b[0m\n\u001b[1;32m---> 10\u001b[1;33m \u001b[0mvec_func\u001b[0m\u001b[1;33m(\u001b[0m\u001b[0mnp\u001b[0m\u001b[1;33m.\u001b[0m\u001b[0marray\u001b[0m\u001b[1;33m(\u001b[0m\u001b[1;36m2000.\u001b[0m\u001b[1;33m)\u001b[0m\u001b[1;33m,\u001b[0m \u001b[0mnp\u001b[0m\u001b[1;33m.\u001b[0m\u001b[0marray\u001b[0m\u001b[1;33m(\u001b[0m\u001b[1;36m0.5\u001b[0m\u001b[1;33m)\u001b[0m\u001b[1;33m,\u001b[0m \u001b[0mnp\u001b[0m\u001b[1;33m.\u001b[0m\u001b[0marray\u001b[0m\u001b[1;33m(\u001b[0m\u001b[1;36m0.5\u001b[0m\u001b[1;33m)\u001b[0m\u001b[1;33m)\u001b[0m\u001b[1;33m\u001b[0m\u001b[0m\n\u001b[0m\u001b[0;32m     11\u001b[0m \u001b[1;31m#%timeit vec_func(x1, x2, x3)\u001b[0m\u001b[1;33m\u001b[0m\u001b[1;33m\u001b[0m\u001b[0m\n\u001b[0;32m     12\u001b[0m \u001b[1;31m#%timeit old_func(x1, x2, x3)\u001b[0m\u001b[1;33m\u001b[0m\u001b[1;33m\u001b[0m\u001b[0m\n",
      "\u001b[1;32m/home/rotis/anaconda/envs/calphad/lib/python2.7/site-packages/numba/npyufunc/dufunc.pyc\u001b[0m in \u001b[0;36m_compile_for_args\u001b[1;34m(self, *args, **kws)\u001b[0m\n\u001b[0;32m    126\u001b[0m                     \u001b[0margty\u001b[0m \u001b[1;33m=\u001b[0m \u001b[0margty\u001b[0m\u001b[1;33m.\u001b[0m\u001b[0mdtype\u001b[0m\u001b[1;33m\u001b[0m\u001b[0m\n\u001b[0;32m    127\u001b[0m                 \u001b[0margtys\u001b[0m\u001b[1;33m.\u001b[0m\u001b[0mappend\u001b[0m\u001b[1;33m(\u001b[0m\u001b[0margty\u001b[0m\u001b[1;33m)\u001b[0m\u001b[1;33m\u001b[0m\u001b[0m\n\u001b[1;32m--> 128\u001b[1;33m         \u001b[1;32mreturn\u001b[0m \u001b[0mself\u001b[0m\u001b[1;33m.\u001b[0m\u001b[0m_compile_for_argtys\u001b[0m\u001b[1;33m(\u001b[0m\u001b[0mtuple\u001b[0m\u001b[1;33m(\u001b[0m\u001b[0margtys\u001b[0m\u001b[1;33m)\u001b[0m\u001b[1;33m)\u001b[0m\u001b[1;33m\u001b[0m\u001b[0m\n\u001b[0m\u001b[0;32m    129\u001b[0m \u001b[1;33m\u001b[0m\u001b[0m\n\u001b[0;32m    130\u001b[0m     \u001b[1;32mdef\u001b[0m \u001b[0m_compile_for_argtys\u001b[0m\u001b[1;33m(\u001b[0m\u001b[0mself\u001b[0m\u001b[1;33m,\u001b[0m \u001b[0margtys\u001b[0m\u001b[1;33m)\u001b[0m\u001b[1;33m:\u001b[0m\u001b[1;33m\u001b[0m\u001b[0m\n",
      "\u001b[1;32m/home/rotis/anaconda/envs/calphad/lib/python2.7/site-packages/numba/npyufunc/dufunc.pyc\u001b[0m in \u001b[0;36m_compile_for_argtys\u001b[1;34m(self, argtys)\u001b[0m\n\u001b[0;32m    136\u001b[0m         \"\"\"\n\u001b[0;32m    137\u001b[0m         cres, argtys, return_type = ufuncbuilder._compile_element_wise_function(\n\u001b[1;32m--> 138\u001b[1;33m             self._dispatcher, self.targetoptions, argtys)\n\u001b[0m\u001b[0;32m    139\u001b[0m         actual_sig = ufuncbuilder._finalize_ufunc_signature(\n\u001b[0;32m    140\u001b[0m             cres, argtys, return_type)\n",
      "\u001b[1;32m/home/rotis/anaconda/envs/calphad/lib/python2.7/site-packages/numba/npyufunc/ufuncbuilder.pyc\u001b[0m in \u001b[0;36m_compile_element_wise_function\u001b[1;34m(nb_func, targetoptions, sig, argtypes, restype)\u001b[0m\n\u001b[0;32m     85\u001b[0m     \u001b[1;31m# Do compilation\u001b[0m\u001b[1;33m\u001b[0m\u001b[1;33m\u001b[0m\u001b[0m\n\u001b[0;32m     86\u001b[0m     \u001b[1;31m# Return CompileResult to test\u001b[0m\u001b[1;33m\u001b[0m\u001b[1;33m\u001b[0m\u001b[0m\n\u001b[1;32m---> 87\u001b[1;33m     \u001b[0mcres\u001b[0m \u001b[1;33m=\u001b[0m \u001b[0mnb_func\u001b[0m\u001b[1;33m.\u001b[0m\u001b[0mcompile\u001b[0m\u001b[1;33m(\u001b[0m\u001b[0msig\u001b[0m\u001b[1;33m,\u001b[0m \u001b[1;33m**\u001b[0m\u001b[0mtargetoptions\u001b[0m\u001b[1;33m)\u001b[0m\u001b[1;33m\u001b[0m\u001b[0m\n\u001b[0m\u001b[0;32m     88\u001b[0m     \u001b[0margs\u001b[0m\u001b[1;33m,\u001b[0m \u001b[0mreturn_type\u001b[0m \u001b[1;33m=\u001b[0m \u001b[0msigutils\u001b[0m\u001b[1;33m.\u001b[0m\u001b[0mnormalize_signature\u001b[0m\u001b[1;33m(\u001b[0m\u001b[0msig\u001b[0m\u001b[1;33m)\u001b[0m\u001b[1;33m\u001b[0m\u001b[0m\n\u001b[0;32m     89\u001b[0m \u001b[1;33m\u001b[0m\u001b[0m\n",
      "\u001b[1;32m/home/rotis/anaconda/envs/calphad/lib/python2.7/site-packages/numba/npyufunc/ufuncbuilder.pyc\u001b[0m in \u001b[0;36mcompile\u001b[1;34m(self, sig, locals, **targetoptions)\u001b[0m\n\u001b[0;32m     61\u001b[0m         cres = compiler.compile_extra(typingctx, targetctx, self.py_func,\n\u001b[0;32m     62\u001b[0m                                       \u001b[0margs\u001b[0m\u001b[1;33m=\u001b[0m\u001b[0margs\u001b[0m\u001b[1;33m,\u001b[0m \u001b[0mreturn_type\u001b[0m\u001b[1;33m=\u001b[0m\u001b[0mreturn_type\u001b[0m\u001b[1;33m,\u001b[0m\u001b[1;33m\u001b[0m\u001b[0m\n\u001b[1;32m---> 63\u001b[1;33m                                       flags=flags, locals=locals)\n\u001b[0m\u001b[0;32m     64\u001b[0m \u001b[1;33m\u001b[0m\u001b[0m\n\u001b[0;32m     65\u001b[0m         \u001b[0mself\u001b[0m\u001b[1;33m.\u001b[0m\u001b[0moverloads\u001b[0m\u001b[1;33m[\u001b[0m\u001b[0mcres\u001b[0m\u001b[1;33m.\u001b[0m\u001b[0msignature\u001b[0m\u001b[1;33m]\u001b[0m \u001b[1;33m=\u001b[0m \u001b[0mcres\u001b[0m\u001b[1;33m\u001b[0m\u001b[0m\n",
      "\u001b[1;32m/home/rotis/anaconda/envs/calphad/lib/python2.7/site-packages/numba/compiler.pyc\u001b[0m in \u001b[0;36mcompile_extra\u001b[1;34m(typingctx, targetctx, func, args, return_type, flags, locals, library)\u001b[0m\n\u001b[0;32m    642\u001b[0m     pipeline = Pipeline(typingctx, targetctx, library,\n\u001b[0;32m    643\u001b[0m                         args, return_type, flags, locals)\n\u001b[1;32m--> 644\u001b[1;33m     \u001b[1;32mreturn\u001b[0m \u001b[0mpipeline\u001b[0m\u001b[1;33m.\u001b[0m\u001b[0mcompile_extra\u001b[0m\u001b[1;33m(\u001b[0m\u001b[0mfunc\u001b[0m\u001b[1;33m)\u001b[0m\u001b[1;33m\u001b[0m\u001b[0m\n\u001b[0m\u001b[0;32m    645\u001b[0m \u001b[1;33m\u001b[0m\u001b[0m\n\u001b[0;32m    646\u001b[0m \u001b[1;33m\u001b[0m\u001b[0m\n",
      "\u001b[1;32m/home/rotis/anaconda/envs/calphad/lib/python2.7/site-packages/numba/compiler.pyc\u001b[0m in \u001b[0;36mcompile_extra\u001b[1;34m(self, func)\u001b[0m\n\u001b[0;32m    359\u001b[0m                 \u001b[1;32mraise\u001b[0m \u001b[0me\u001b[0m\u001b[1;33m\u001b[0m\u001b[0m\n\u001b[0;32m    360\u001b[0m \u001b[1;33m\u001b[0m\u001b[0m\n\u001b[1;32m--> 361\u001b[1;33m         \u001b[1;32mreturn\u001b[0m \u001b[0mself\u001b[0m\u001b[1;33m.\u001b[0m\u001b[0mcompile_bytecode\u001b[0m\u001b[1;33m(\u001b[0m\u001b[0mbc\u001b[0m\u001b[1;33m,\u001b[0m \u001b[0mfunc_attr\u001b[0m\u001b[1;33m=\u001b[0m\u001b[0mself\u001b[0m\u001b[1;33m.\u001b[0m\u001b[0mfunc_attr\u001b[0m\u001b[1;33m)\u001b[0m\u001b[1;33m\u001b[0m\u001b[0m\n\u001b[0m\u001b[0;32m    362\u001b[0m \u001b[1;33m\u001b[0m\u001b[0m\n\u001b[0;32m    363\u001b[0m     def compile_bytecode(self, bc, lifted=(), lifted_from=None,\n",
      "\u001b[1;32m/home/rotis/anaconda/envs/calphad/lib/python2.7/site-packages/numba/compiler.pyc\u001b[0m in \u001b[0;36mcompile_bytecode\u001b[1;34m(self, bc, lifted, lifted_from, func_attr)\u001b[0m\n\u001b[0;32m    368\u001b[0m         \u001b[0mself\u001b[0m\u001b[1;33m.\u001b[0m\u001b[0mlifted_from\u001b[0m \u001b[1;33m=\u001b[0m \u001b[0mlifted_from\u001b[0m\u001b[1;33m\u001b[0m\u001b[0m\n\u001b[0;32m    369\u001b[0m         \u001b[0mself\u001b[0m\u001b[1;33m.\u001b[0m\u001b[0mfunc_attr\u001b[0m \u001b[1;33m=\u001b[0m \u001b[0mfunc_attr\u001b[0m\u001b[1;33m\u001b[0m\u001b[0m\n\u001b[1;32m--> 370\u001b[1;33m         \u001b[1;32mreturn\u001b[0m \u001b[0mself\u001b[0m\u001b[1;33m.\u001b[0m\u001b[0m_compile_bytecode\u001b[0m\u001b[1;33m(\u001b[0m\u001b[1;33m)\u001b[0m\u001b[1;33m\u001b[0m\u001b[0m\n\u001b[0m\u001b[0;32m    371\u001b[0m \u001b[1;33m\u001b[0m\u001b[0m\n\u001b[0;32m    372\u001b[0m     \u001b[1;32mdef\u001b[0m \u001b[0mcompile_internal\u001b[0m\u001b[1;33m(\u001b[0m\u001b[0mself\u001b[0m\u001b[1;33m,\u001b[0m \u001b[0mbc\u001b[0m\u001b[1;33m,\u001b[0m \u001b[0mfunc_attr\u001b[0m\u001b[1;33m=\u001b[0m\u001b[0mDEFAULT_FUNCTION_ATTRIBUTES\u001b[0m\u001b[1;33m)\u001b[0m\u001b[1;33m:\u001b[0m\u001b[1;33m\u001b[0m\u001b[0m\n",
      "\u001b[1;32m/home/rotis/anaconda/envs/calphad/lib/python2.7/site-packages/numba/compiler.pyc\u001b[0m in \u001b[0;36m_compile_bytecode\u001b[1;34m(self)\u001b[0m\n\u001b[0;32m    629\u001b[0m \u001b[1;33m\u001b[0m\u001b[0m\n\u001b[0;32m    630\u001b[0m         \u001b[0mpm\u001b[0m\u001b[1;33m.\u001b[0m\u001b[0mfinalize\u001b[0m\u001b[1;33m(\u001b[0m\u001b[1;33m)\u001b[0m\u001b[1;33m\u001b[0m\u001b[0m\n\u001b[1;32m--> 631\u001b[1;33m         \u001b[1;32mreturn\u001b[0m \u001b[0mpm\u001b[0m\u001b[1;33m.\u001b[0m\u001b[0mrun\u001b[0m\u001b[1;33m(\u001b[0m\u001b[0mself\u001b[0m\u001b[1;33m.\u001b[0m\u001b[0mstatus\u001b[0m\u001b[1;33m)\u001b[0m\u001b[1;33m\u001b[0m\u001b[0m\n\u001b[0m\u001b[0;32m    632\u001b[0m \u001b[1;33m\u001b[0m\u001b[0m\n\u001b[0;32m    633\u001b[0m \u001b[1;33m\u001b[0m\u001b[0m\n",
      "\u001b[1;32m/home/rotis/anaconda/envs/calphad/lib/python2.7/site-packages/numba/compiler.pyc\u001b[0m in \u001b[0;36mrun\u001b[1;34m(self, status)\u001b[0m\n\u001b[0;32m    249\u001b[0m                     \u001b[1;31m# No more fallback pipelines?\u001b[0m\u001b[1;33m\u001b[0m\u001b[1;33m\u001b[0m\u001b[0m\n\u001b[0;32m    250\u001b[0m                     \u001b[1;32mif\u001b[0m \u001b[0mis_final_pipeline\u001b[0m\u001b[1;33m:\u001b[0m\u001b[1;33m\u001b[0m\u001b[0m\n\u001b[1;32m--> 251\u001b[1;33m                         \u001b[1;32mraise\u001b[0m \u001b[0mpatched_exception\u001b[0m\u001b[1;33m\u001b[0m\u001b[0m\n\u001b[0m\u001b[0;32m    252\u001b[0m                     \u001b[1;31m# Go to next fallback pipeline\u001b[0m\u001b[1;33m\u001b[0m\u001b[1;33m\u001b[0m\u001b[0m\n\u001b[0;32m    253\u001b[0m                     \u001b[1;32melse\u001b[0m\u001b[1;33m:\u001b[0m\u001b[1;33m\u001b[0m\u001b[0m\n",
      "\u001b[1;31mTypingError\u001b[0m: Caused By:\nTraceback (most recent call last):\n  File \"/home/rotis/anaconda/envs/calphad/lib/python2.7/site-packages/numba/compiler.py\", line 243, in run\n    res = stage()\n  File \"/home/rotis/anaconda/envs/calphad/lib/python2.7/site-packages/numba/compiler.py\", line 458, in stage_nopython_frontend\n    self.locals)\n  File \"/home/rotis/anaconda/envs/calphad/lib/python2.7/site-packages/numba/compiler.py\", line 759, in type_inference_stage\n    infer.propagate()\n  File \"/home/rotis/anaconda/envs/calphad/lib/python2.7/site-packages/numba/typeinfer.py\", line 510, in propagate\n    raise errors[0]\nTypingError: Internal error at <numba.typeinfer.CallConstraint object at 0x7f03e24fa150>:\n--%<-----------------------------------------------------------------\nTraceback (most recent call last):\n  File \"/home/rotis/anaconda/envs/calphad/lib/python2.7/site-packages/numba/typeinfer.py\", line 111, in propagate\n    constraint(typeinfer)\n  File \"/home/rotis/anaconda/envs/calphad/lib/python2.7/site-packages/numba/typeinfer.py\", line 270, in __call__\n    self.resolve(typeinfer, typevars, fnty)\n  File \"/home/rotis/anaconda/envs/calphad/lib/python2.7/site-packages/numba/typeinfer.py\", line 297, in resolve\n    sig = context.resolve_function_type(fnty, pos_args, kw_args)\n  File \"/home/rotis/anaconda/envs/calphad/lib/python2.7/site-packages/numba/typing/context.py\", line 113, in resolve_function_type\n    return func.get_call_type(self, args, kws)\n  File \"/home/rotis/anaconda/envs/calphad/lib/python2.7/site-packages/numba/types.py\", line 222, in get_call_type\n    return self.template(context).apply(args, kws)\n  File \"/home/rotis/anaconda/envs/calphad/lib/python2.7/site-packages/numba/typing/templates.py\", line 155, in apply\n    sig = generic(args, kws)\n  File \"/home/rotis/anaconda/envs/calphad/lib/python2.7/site-packages/numba/typing/npydecl.py\", line 747, in generic\n    if (cond.ndim == x.ndim == y.ndim and\nAttributeError: 'Boolean' object has no attribute 'ndim'\n--%<-----------------------------------------------------------------\n\nFile \"<string>\", line 1\n\nFailed at nopython (nopython frontend)\nInternal error at <numba.typeinfer.CallConstraint object at 0x7f03e24fa150>:\n--%<-----------------------------------------------------------------\nTraceback (most recent call last):\n  File \"/home/rotis/anaconda/envs/calphad/lib/python2.7/site-packages/numba/typeinfer.py\", line 111, in propagate\n    constraint(typeinfer)\n  File \"/home/rotis/anaconda/envs/calphad/lib/python2.7/site-packages/numba/typeinfer.py\", line 270, in __call__\n    self.resolve(typeinfer, typevars, fnty)\n  File \"/home/rotis/anaconda/envs/calphad/lib/python2.7/site-packages/numba/typeinfer.py\", line 297, in resolve\n    sig = context.resolve_function_type(fnty, pos_args, kw_args)\n  File \"/home/rotis/anaconda/envs/calphad/lib/python2.7/site-packages/numba/typing/context.py\", line 113, in resolve_function_type\n    return func.get_call_type(self, args, kws)\n  File \"/home/rotis/anaconda/envs/calphad/lib/python2.7/site-packages/numba/types.py\", line 222, in get_call_type\n    return self.template(context).apply(args, kws)\n  File \"/home/rotis/anaconda/envs/calphad/lib/python2.7/site-packages/numba/typing/templates.py\", line 155, in apply\n    sig = generic(args, kws)\n  File \"/home/rotis/anaconda/envs/calphad/lib/python2.7/site-packages/numba/typing/npydecl.py\", line 747, in generic\n    if (cond.ndim == x.ndim == y.ndim and\nAttributeError: 'Boolean' object has no attribute 'ndim'\n--%<-----------------------------------------------------------------\n\nFile \"<string>\", line 1"
     ]
    }
   ],
   "source": [
    "vec_func = numba.vectorize(nopython=True)(func)\n",
    "\n",
    "\n",
    "x1 = 2000.\n",
    "x2 = np.random.rand(1, 1,1)\n",
    "x3 = np.random.rand(1, 1,1)\n",
    "x4 = np.random.rand(1, 1, 1)\n",
    "x5 = 1.\n",
    "x6 = 1.\n",
    "vec_func(np.array(2000.), np.array(0.5), np.array(0.5))\n",
    "#%timeit vec_func(x1, x2, x3)\n",
    "#%timeit old_func(x1, x2, x3)"
   ]
  },
  {
   "cell_type": "code",
   "execution_count": null,
   "metadata": {
    "collapsed": false
   },
   "outputs": [],
   "source": [
    "import numpy as np\n",
    "import numba\n",
    "with open('lambda_fast_liquid.txt') as file_:\n",
    "    fast_func = eval(file_.read(), np.__dict__)\n",
    "jitted_fast_func = numba.jit(fast_func)\n",
    "assert jitted_fast_func(0., 0., 0.) == 0."
   ]
  },
  {
   "cell_type": "code",
   "execution_count": null,
   "metadata": {
    "collapsed": false
   },
   "outputs": [],
   "source": [
    "import numpy as np\n",
    "import numba\n",
    "with open('lambda_slow_bcc.txt') as file_:\n",
    "    slow_func = eval(file_.read(), np.__dict__)\n",
    "slow_func(300., 0., 0., 0., 0.)"
   ]
  },
  {
   "cell_type": "code",
   "execution_count": null,
   "metadata": {
    "collapsed": false
   },
   "outputs": [],
   "source": [
    "jitted_slow_func = numba.jit(slow_func) # hangs\n",
    "assert jitted_slow_func(0., 0., 0., 0., 0.) == 0."
   ]
  },
  {
   "cell_type": "code",
   "execution_count": null,
   "metadata": {
    "collapsed": false
   },
   "outputs": [],
   "source": [
    "np.bool_(True).ndim"
   ]
  },
  {
   "cell_type": "code",
   "execution_count": 13,
   "metadata": {
    "collapsed": false
   },
   "outputs": [],
   "source": [
    "test_func = lambda x, y: np.where(x<y, x, y)\n",
    "vec_test_func = numba.jit(nopython=True)(test_func)"
   ]
  },
  {
   "cell_type": "code",
   "execution_count": 15,
   "metadata": {
    "collapsed": false
   },
   "outputs": [
    {
     "data": {
      "text/plain": [
       "array([1, 1])"
      ]
     },
     "execution_count": 15,
     "metadata": {},
     "output_type": "execute_result"
    }
   ],
   "source": [
    "vec_test_func(np.array([1,3]),np.array([3,1]))"
   ]
  },
  {
   "cell_type": "code",
   "execution_count": null,
   "metadata": {
    "collapsed": true
   },
   "outputs": [],
   "source": []
  }
 ],
 "metadata": {
  "kernelspec": {
   "display_name": "Python 2",
   "language": "python",
   "name": "python2"
  },
  "language_info": {
   "codemirror_mode": {
    "name": "ipython",
    "version": 2
   },
   "file_extension": ".py",
   "mimetype": "text/x-python",
   "name": "python",
   "nbconvert_exporter": "python",
   "pygments_lexer": "ipython2",
   "version": "2.7.10"
  }
 },
 "nbformat": 4,
 "nbformat_minor": 0
}
