{
 "cells": [
  {
   "cell_type": "code",
   "execution_count": 1,
   "metadata": {
    "collapsed": true
   },
   "outputs": [],
   "source": [
    "from pycalphad import Database, Model\n",
    "from pycalphad.core.utils import make_callable\n",
    "import pycalphad.variables as v\n",
    "import numba\n",
    "import numpy as np"
   ]
  },
  {
   "cell_type": "code",
   "execution_count": 2,
   "metadata": {
    "collapsed": false
   },
   "outputs": [],
   "source": [
    "dbf = Database('Al-Ni/Al-Ni-Dupin-2001.tdb')\n",
    "mod = Model(dbf, ['AL', 'NI', 'VA'], 'FCC_L12')"
   ]
  },
  {
   "cell_type": "code",
   "execution_count": 3,
   "metadata": {
    "collapsed": false
   },
   "outputs": [],
   "source": [
    "from sympy import lambdify\n",
    "from pycalphad.core.utils import NumPyPrinter\n",
    "@numba.vectorize\n",
    "def where(condition, x, y):\n",
    "    if condition:\n",
    "        return x\n",
    "    else:\n",
    "        return y\n",
    "func = lambdify(tuple(mod.variables), mod.ast, dummify=True,\n",
    "                          modules=[{'where': where}, 'numpy'], printer=NumPyPrinter)\n",
    "pure_func = lambdify(tuple(mod.variables), mod.ast, dummify=True,\n",
    "                          modules=['numpy'], printer=NumPyPrinter)"
   ]
  },
  {
   "cell_type": "code",
   "execution_count": 4,
   "metadata": {
    "collapsed": false
   },
   "outputs": [
    {
     "name": "stdout",
     "output_type": "stream",
     "text": [
      "100 loops, best of 3: 13.8 ms per loop\n"
     ]
    }
   ],
   "source": [
    "vec_func = numba.vectorize(['float64({})'.format(','.join(['float64'] * len(tuple(mod.variables))))], nopython=True, target='parallel')(func)\n",
    "\n",
    "\n",
    "x1 = np.random.rand(5, 1, 1)*2000\n",
    "x2 = np.random.rand(5, 5, 3000)\n",
    "x3 = np.random.rand(5, 5, 3000)\n",
    "x4 = np.random.rand(5, 5, 3000)\n",
    "x5 = np.random.rand(5, 5, 3000)\n",
    "x6 = np.random.rand(5, 5, 3000)\n",
    "np.testing.assert_allclose(vec_func(x1, x2, x3, x4, x5, x6), pure_func(x1, x2, x3, x4, x5, x6))\n",
    "%timeit vec_func(x1, x2, x3, x4, x5, x6)"
   ]
  },
  {
   "cell_type": "code",
   "execution_count": 82,
   "metadata": {
    "collapsed": false
   },
   "outputs": [],
   "source": [
    "import sympy\n",
    "def make_gradient_from_graph(graph, wrt):\n",
    "    dummies = [str(sympy.Dummy(str(i))) for i in range(len(wrt))]\n",
    "    grads = np.empty((len(wrt)), dtype=object)\n",
    "    hess = np.empty((len(wrt), len(wrt)), dtype=object)\n",
    "    for i in range(len(wrt)):\n",
    "        grads[i] = graph.diff(wrt[i])\n",
    "        for j in range(i, len(wrt)):\n",
    "            hess[i][j] = lambdify(tuple(wrt), grads[i].diff(wrt[j]), dummify=True,\n",
    "                                         modules=[{'where': where}, 'numpy'], printer=NumPyPrinter)\n",
    "        grads[i] = lambdify(tuple(wrt), grads[i], dummify=True,\n",
    "                            modules=[{'where': where}, 'numpy'], printer=NumPyPrinter)\n",
    "    grads = grads.tolist()\n",
    "    hess = hess.tolist()\n",
    "    print(grads)\n",
    "    return\n",
    "    gradstr = \"def dyn_grad_func ({0},result): [result.__setitem__([Ellipsis, i], grads[i]({0})) for i in range(result.shape[-1])]\"\n",
    "    gradstr = gradstr.format(','.join(dummies))\n",
    "    print(gradstr)\n",
    "    namespace = {'grads': grads}\n",
    "    lambda_grad_func = numba.jit(eval(gradstr, namespace), nopython=True)\n",
    "    # numba needs well-defined arguments so we do this wrapping\n",
    "    import itertools\n",
    "    def grad_func(*args):\n",
    "        result = np.zeros(args[-1].shape + (len(args),))\n",
    "        lambda_grad_func(*itertools.chain(args, [result]))\n",
    "        return result\n",
    "    def hess_func(*args):\n",
    "        result = np.empty(args[-1].shape + (len(args), len(args)))\n",
    "        for i in range(result.shape[-1]):\n",
    "            for j in range(i, result.shape[-1]):\n",
    "                result[..., i, j] = result[..., j, i] = hess[i][j](*args)\n",
    "        return result\n",
    "    return grad_func, hess_func"
   ]
  },
  {
   "cell_type": "code",
   "execution_count": 83,
   "metadata": {
    "collapsed": false
   },
   "outputs": [
    {
     "name": "stdout",
     "output_type": "stream",
     "text": [
      "[<function <lambda> at 0x7ff54a893488>, <function <lambda> at 0x7ff53d2bc938>, <function <lambda> at 0x7ff544281758>, <function <lambda> at 0x7ff54223f410>, <function <lambda> at 0x7ff5442818c0>, <function <lambda> at 0x7ff54ae34320>]\n"
     ]
    },
    {
     "ename": "TypeError",
     "evalue": "'NoneType' object is not iterable",
     "output_type": "error",
     "traceback": [
      "\u001b[1;31m---------------------------------------------------------------------------\u001b[0m",
      "\u001b[1;31mTypeError\u001b[0m                                 Traceback (most recent call last)",
      "\u001b[1;32m<ipython-input-83-ae4c50935a3d>\u001b[0m in \u001b[0;36m<module>\u001b[1;34m()\u001b[0m\n\u001b[1;32m----> 1\u001b[1;33m \u001b[0mgrad_func\u001b[0m\u001b[1;33m,\u001b[0m \u001b[0mhess_func\u001b[0m \u001b[1;33m=\u001b[0m \u001b[0mmake_gradient_from_graph\u001b[0m\u001b[1;33m(\u001b[0m\u001b[0mmod\u001b[0m\u001b[1;33m.\u001b[0m\u001b[0mast\u001b[0m\u001b[1;33m,\u001b[0m \u001b[0mmod\u001b[0m\u001b[1;33m.\u001b[0m\u001b[0mvariables\u001b[0m\u001b[1;33m)\u001b[0m\u001b[1;33m\u001b[0m\u001b[0m\n\u001b[0m",
      "\u001b[1;31mTypeError\u001b[0m: 'NoneType' object is not iterable"
     ]
    }
   ],
   "source": [
    "grad_func, hess_func = make_gradient_from_graph(mod.ast, mod.variables)"
   ]
  },
  {
   "cell_type": "code",
   "execution_count": null,
   "metadata": {
    "collapsed": false
   },
   "outputs": [],
   "source": [
    "%time result = grad_func(x1, x2, x3, x4, x5, x6)\n",
    "print(result)\n",
    "#%time hess_func(x1, x2, x3, x4, x5, x6).shape"
   ]
  },
  {
   "cell_type": "code",
   "execution_count": null,
   "metadata": {
    "collapsed": false
   },
   "outputs": [],
   "source": [
    "%timeit pure_func(x1, x2, x3, x4, x5, x6)"
   ]
  },
  {
   "cell_type": "code",
   "execution_count": 62,
   "metadata": {
    "collapsed": false
   },
   "outputs": [
    {
     "name": "stdout",
     "output_type": "stream",
     "text": [
      "[[ 1.  0.]\n",
      " [ 1.  0.]]\n"
     ]
    }
   ],
   "source": [
    "arr = np.zeros((2,2))\n",
    "arr.__setitem__([Ellipsis, 0], 1)\n",
    "print(arr)"
   ]
  },
  {
   "cell_type": "code",
   "execution_count": null,
   "metadata": {
    "collapsed": true
   },
   "outputs": [],
   "source": []
  }
 ],
 "metadata": {
  "kernelspec": {
   "display_name": "Python 2",
   "language": "python",
   "name": "python2"
  },
  "language_info": {
   "codemirror_mode": {
    "name": "ipython",
    "version": 2
   },
   "file_extension": ".py",
   "mimetype": "text/x-python",
   "name": "python",
   "nbconvert_exporter": "python",
   "pygments_lexer": "ipython2",
   "version": "2.7.10"
  }
 },
 "nbformat": 4,
 "nbformat_minor": 0
}
