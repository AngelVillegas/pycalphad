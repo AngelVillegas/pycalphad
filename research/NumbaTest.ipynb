{
 "cells": [
  {
   "cell_type": "code",
   "execution_count": 1,
   "metadata": {
    "collapsed": true
   },
   "outputs": [],
   "source": [
    "from pycalphad import Database, Model\n",
    "from pycalphad.core.utils import make_callable\n",
    "import pycalphad.variables as v\n",
    "import numba\n",
    "import numpy as np"
   ]
  },
  {
   "cell_type": "code",
   "execution_count": 2,
   "metadata": {
    "collapsed": true
   },
   "outputs": [],
   "source": [
    "db_alpt = Database('alpt_2015.tdb')\n",
    "my_phases_alpt = ['PT2AL', 'PT5AL21', 'PT5AL3', 'LIQUID', 'AL3NI2', 'PT8AL21', 'PT2AL3', 'FCC_L12', 'BCC_B2']\n",
    "mod = Model(db_alpt, ['AL', 'PT', 'VA'], 'LIQUID', parameters={'VX45': 0., 'VX46': 0., 'VX47': 0.})"
   ]
  },
  {
   "cell_type": "code",
   "execution_count": 29,
   "metadata": {
    "collapsed": false
   },
   "outputs": [
    {
     "name": "stdout",
     "output_type": "stream",
     "text": [
      "1 loops, best of 3: 3.15 s per loop\n",
      "1 loops, best of 3: 13.8 s per loop\n"
     ]
    }
   ],
   "source": [
    "from sympy import lambdify\n",
    "from sympy.printing.lambdarepr import LambdaPrinter\n",
    "import autograd.numpy as anp\n",
    "func = lambdify(tuple(mod.variables), mod.ast, dummify=True,\n",
    "                          modules='numpy', printer=LambdaPrinter)\n",
    "\n",
    "vec_func = numba.vectorize([numba.float64(numba.float64, numba.float64, numba.float64)],\n",
    "                           nopython=False, target='parallel')(func)\n",
    "old_func = make_callable(mod.ast, mod.variables)\n",
    "\n",
    "x1 = np.random.rand(100, 100,1)\n",
    "x2 = np.random.rand(100, 100,5000)\n",
    "x3 = np.random.rand(100, 100,5000)\n",
    "np.testing.assert_allclose(vec_func(x1, x2, x3), old_func(x1, x2, x3))\n",
    "%timeit vec_func(x1, x2, x3)\n",
    "%timeit old_func(x1, x2, x3)"
   ]
  },
  {
   "cell_type": "code",
   "execution_count": null,
   "metadata": {
    "collapsed": true
   },
   "outputs": [],
   "source": []
  }
 ],
 "metadata": {
  "kernelspec": {
   "display_name": "Python 2",
   "language": "python",
   "name": "python2"
  },
  "language_info": {
   "codemirror_mode": {
    "name": "ipython",
    "version": 2
   },
   "file_extension": ".py",
   "mimetype": "text/x-python",
   "name": "python",
   "nbconvert_exporter": "python",
   "pygments_lexer": "ipython2",
   "version": "2.7.10"
  }
 },
 "nbformat": 4,
 "nbformat_minor": 0
}
