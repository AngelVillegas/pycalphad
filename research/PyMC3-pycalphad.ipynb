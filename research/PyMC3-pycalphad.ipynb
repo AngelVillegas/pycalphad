{
 "cells": [
  {
   "cell_type": "code",
   "execution_count": 11,
   "metadata": {
    "collapsed": false
   },
   "outputs": [],
   "source": [
    "%matplotlib inline\n",
    "import matplotlib\n",
    "import matplotlib.pyplot as plt\n",
    "matplotlib.style.use('bmh')"
   ]
  },
  {
   "cell_type": "code",
   "execution_count": 23,
   "metadata": {
    "collapsed": false
   },
   "outputs": [
    {
     "data": {
      "image/png": "[encoded data removed]",
      "text/plain": [
       "<matplotlib.figure.Figure at 0x7fd369c57050>"
      ]
     },
     "metadata": {},
     "output_type": "display_data"
    }
   ],
   "source": [
    "import json\n",
    "import numpy as np\n",
    "import xray\n",
    "from pycalphad import calculate, Model, Database\n",
    "from pycalphad.core.utils import make_callable\n",
    "import pycalphad.variables as v\n",
    "import itertools\n",
    "import functools\n",
    "from collections import OrderedDict\n",
    "from sympy import Symbol\n",
    "def setup_dataset(file_obj, dbf, params):\n",
    "    # params should be a list of pymc3 variables corresponding to parameters\n",
    "    data = json.load(file_obj)\n",
    "    if data['solver']['mode'] != 'manual':\n",
    "        raise NotImplemented\n",
    "    fit_models = {name: Model(dbf, data['components'], name) for name in data['phases']}\n",
    "    #params = sorted(params, key=str)\n",
    "    param_vars = []\n",
    "    for key, mod in fit_models.items():\n",
    "        param_vars.extend(sorted(set(mod.ast.atoms(Symbol)) - set(mod.variables), key=str))\n",
    "    param_vars = sorted(param_vars)\n",
    "    if len(params) != len(param_vars):\n",
    "        raise ValueError('Input parameter vector length doesn\\'t match the free parameters in the phase models: {0} != {1}'.format(len(params), len(param_vars)))\n",
    "    indep_vars = [v.P, v.T]\n",
    "    site_fracs = {key: sorted(mod.ast.atoms(v.SiteFraction), key=str) for key, mod in fit_models.items()} \n",
    "    # Call this from a routine that pulls in all datasets and generates the variance vars + Potentials\n",
    "    callables = {name: make_callable(getattr(mod, data['output']),\n",
    "                                     itertools.chain(param_vars, indep_vars, site_fracs[name]))\n",
    "                 for name, mod in fit_models.items()}\n",
    "    extra_conds = OrderedDict({key: np.atleast_1d(value) for key, value in data['conditions'].items()})\n",
    "    exp_values = xray.DataArray(np.array(data['values'], dtype=np.float)[..., None],\n",
    "                                dims=list(extra_conds.keys())+['points'], coords=extra_conds)\n",
    "    def compute(*args):\n",
    "        prefill_callables = {key: functools.partial(*itertools.chain([func],args[:len(params)])) for key, func in callables.items()}\n",
    "        result = calculate(dbf, data['components'], data['phases'], output=data['output'],\n",
    "                       points=np.atleast_2d(data['solver']['sublattice_configuration']).astype(np.float),\n",
    "                       callables=prefill_callables, model=fit_models, **extra_conds)\n",
    "        error = (result[data['output']] - exp_values).sel(T=slice(300, None)).values.flatten() # Eliminate data below 300 K for now\n",
    "        return error, result, exp_values\n",
    "    return compute\n",
    "dataset_func = setup_dataset(open('Al-Ni/Ni3Al-CPM.json'), Database('Al-Ni/Al-Ni-Dupin-2001.tdb'), [])\n",
    "plt.plot(np.arange(300, 1601, 10), dataset_func()[0], label='This work')\n",
    "#plt.plot(np.array(data['conditions']['T']), dft_values, color='black', label='Y. Wang 2009 (DFT)')\n",
    "plt.legend(loc='best')\n",
    "plt.show()"
   ]
  },
  {
   "cell_type": "code",
   "execution_count": null,
   "metadata": {
    "collapsed": false
   },
   "outputs": [],
   "source": [
    "from pycalphad import Database, equilibrium\n",
    "import pycalphad.variables as v\n",
    "dbf_start = Database('Al-Ni/Al-Ni-start.tdb')\n",
    "dbf_dupin = Database('Al-Ni/Al-Ni-Dupin-2001.tdb')\n",
    "#phases = ['FCC_L12', 'BCC_B2', 'LIQUID', 'AL3NI1', 'AL3NI2', 'AL3NI5']\n",
    "ni3al_dupin = equilibrium(dbf_dupin, ['NI', 'AL', 'VA'], 'FCC_L12', {v.T: 1400, v.P: 101325, v.X('AL'): .250001})\n",
    "print(ni3al_dupin.Y)\n",
    "print(ni3al_dupin.X)\n",
    "print(ni3al_dupin.NP)\n",
    "#ni3al_start = equilibrium(dbf_start, ['NI', 'AL', 'VA'], 'FCC_L12', {v.T: (0, 1600, 100), v.P: 101325, v.X('AL'): .25})"
   ]
  },
  {
   "cell_type": "code",
   "execution_count": null,
   "metadata": {
    "collapsed": true
   },
   "outputs": [],
   "source": [
    "import numpy as np\n",
    "# Binary solution\n",
    "def energy(H_ex, S_ex, L2_ex, T, x_a, x_b):\n",
    "    return 8.3145*T*(x_a*np.log(x_a)+x_b*np.log(x_b)) + (H_ex - T*S_ex+L2_ex*T**2)*x_a*x_b\n",
    "\n",
    "def entropy(H_ex, S_ex, L2_ex, T, x_a, x_b):\n",
    "    return -(8.3145*(x_a*np.log(x_a)+x_b*np.log(x_b)) + (-S_ex + 2*T*L2_ex)*x_a*x_b)\n",
    "\n",
    "def heat_capacity(H_ex, S_ex, L2_ex, T, x_a, x_b):\n",
    "    return -(2*T*L2_ex)*x_a*x_b\n",
    "\n",
    "def enthalpy(H_ex, S_ex, L2_ex, T, x_a, x_b):\n",
    "    return energy(H_ex, S_ex, L2_ex, T, x_a, x_b) + T*entropy(H_ex, S_ex, L2_ex, T, x_a, x_b)"
   ]
  },
  {
   "cell_type": "code",
   "execution_count": null,
   "metadata": {
    "collapsed": false
   },
   "outputs": [],
   "source": [
    "import numpy as np\n",
    "rng = np.random.RandomState(1769)\n",
    "\n",
    "# True model parameters, known only by nature\n",
    "true_H_ex = 7e3\n",
    "true_S_ex = 5\n",
    "true_L2_ex = 0\n",
    "\n",
    "# Some generated \"observed\" data\n",
    "# Dataset 1\n",
    "n1 = 10\n",
    "dataset1 = {\n",
    "'n': n1,\n",
    "'x_a': rng.random_sample((n1,)),\n",
    "'T': rng.uniform(300, 2000, size=(n1,)),\n",
    "'func': entropy\n",
    "}\n",
    "dataset1['x_b'] = 1 - dataset1['x_a']\n",
    "# Dataset 2\n",
    "n2 = 10\n",
    "dataset2 = {\n",
    "'n': n2,\n",
    "'x_a': rng.random_sample((n2,)),\n",
    "'T': rng.uniform(300, 2000, size=(n2,)),\n",
    "'func': enthalpy\n",
    "}\n",
    "dataset2['x_b'] = 1 - dataset2['x_a']\n",
    "# Dataset 3\n",
    "n3 = 10\n",
    "dataset3 = {\n",
    "'n': n3,\n",
    "'x_a': rng.random_sample((n3,)),\n",
    "'T': 500,\n",
    "'func': entropy\n",
    "}\n",
    "dataset3['x_b'] = 1 - dataset3['x_a']\n",
    "# Dataset 4\n",
    "n4 = 10\n",
    "dataset4 = {\n",
    "'n': n4,\n",
    "'x_a': rng.random_sample((n4,)),\n",
    "'T': 900,\n",
    "'func': enthalpy\n",
    "}\n",
    "dataset4['x_b'] = 1 - dataset4['x_a']\n",
    "# Dataset 5\n",
    "n5 = 10\n",
    "dataset5 = {\n",
    "'n': n5,\n",
    "'x_a': rng.random_sample((n5,)),\n",
    "'T': 1000,\n",
    "'func': entropy\n",
    "}\n",
    "dataset5['x_b'] = 1 - dataset5['x_a']\n",
    "# Dataset 6\n",
    "n6 = 10\n",
    "dataset6 = {\n",
    "'n': n6,\n",
    "'x_a': rng.random_sample((n6,)),\n",
    "'T': 1200,\n",
    "'func': enthalpy\n",
    "}\n",
    "dataset6['x_b'] = 1 - dataset6['x_a']\n",
    "# Dataset 7\n",
    "n7 = 10\n",
    "dataset7 = {\n",
    "'n': n7,\n",
    "'x_a': rng.random_sample((n7,)),\n",
    "'T': 1400,\n",
    "'func': entropy\n",
    "}\n",
    "dataset7['x_b'] = 1 - dataset7['x_a']\n",
    "# Dataset 8\n",
    "n8 = 10\n",
    "dataset8 = {\n",
    "'n': n8,\n",
    "'x_a': rng.random_sample((n8,)),\n",
    "'T': 1600,\n",
    "'func': enthalpy\n",
    "}\n",
    "dataset8['x_b'] = 1 - dataset8['x_a']\n",
    "# Dataset 9\n",
    "n9 = 10\n",
    "dataset9 = {\n",
    "'n': n9,\n",
    "'x_a': rng.random_sample((n9,)),\n",
    "'T': 1800,\n",
    "'func': entropy\n",
    "}\n",
    "dataset9['x_b'] = 1 - dataset9['x_a']\n",
    "# Dataset 10\n",
    "n10 = 10\n",
    "dataset10 = {\n",
    "'n': n10,\n",
    "'x_a': rng.random_sample((n10,)),\n",
    "'T': 1900,\n",
    "'func': enthalpy\n",
    "}\n",
    "dataset10['x_b'] = 1 - dataset10['x_a']\n",
    "\n",
    "# Observed quantities: true value plus noise\n",
    "noise1 = rng.normal(0, 0.1, size=dataset1['n'])\n",
    "noise2 = rng.normal(0, 10, size=dataset2['n'])\n",
    "noise3 = rng.normal(0, 0.1, size=dataset3['n'])\n",
    "noise4 = rng.normal(0, 10, size=dataset4['n'])\n",
    "noise5 = rng.normal(0, 0.1, size=dataset5['n'])\n",
    "noise6 = rng.normal(0, 10, size=dataset6['n'])\n",
    "noise7 = rng.normal(0, 0.1, size=dataset7['n'])\n",
    "noise8 = rng.normal(0, 10, size=dataset8['n'])\n",
    "noise9 = rng.normal(10, 0.1, size=dataset9['n'])\n",
    "noise10 = rng.normal(-1000, 10, size=dataset10['n'])\n",
    "dataset1['value'] = entropy(true_H_ex, true_S_ex, true_L2_ex, dataset1['T'], dataset1['x_a'], dataset1['x_b']) + noise1\n",
    "dataset2['value'] = enthalpy(true_H_ex, true_S_ex, true_L2_ex, dataset2['T'], dataset2['x_a'], dataset2['x_b']) + noise2\n",
    "dataset3['value'] = entropy(true_H_ex, true_S_ex, true_L2_ex, dataset3['T'], dataset3['x_a'], dataset3['x_b']) + noise3\n",
    "dataset4['value'] = enthalpy(true_H_ex, true_S_ex, true_L2_ex, dataset4['T'], dataset4['x_a'], dataset4['x_b']) + noise4\n",
    "dataset5['value'] = entropy(true_H_ex, true_S_ex, true_L2_ex, dataset5['T'], dataset5['x_a'], dataset5['x_b']) + noise5\n",
    "dataset6['value'] = enthalpy(true_H_ex, true_S_ex, true_L2_ex, dataset6['T'], dataset6['x_a'], dataset6['x_b']) + noise6\n",
    "dataset7['value'] = entropy(true_H_ex, true_S_ex, true_L2_ex, dataset7['T'], dataset7['x_a'], dataset7['x_b']) + noise7\n",
    "dataset8['value'] = enthalpy(true_H_ex, true_S_ex, true_L2_ex, dataset8['T'], dataset8['x_a'], dataset8['x_b']) + noise8\n",
    "dataset9['value'] = entropy(true_H_ex, true_S_ex, true_L2_ex, dataset9['T'], dataset9['x_a'], dataset9['x_b']) + noise9\n",
    "dataset10['value'] = enthalpy(true_H_ex, true_S_ex, true_L2_ex, dataset10['T'], dataset10['x_a'], dataset10['x_b']) + noise10\n",
    "datasets = [dataset1, dataset2, dataset3, dataset4, dataset5, dataset6, dataset7, dataset8, dataset9, dataset10]"
   ]
  },
  {
   "cell_type": "code",
   "execution_count": null,
   "metadata": {
    "collapsed": false
   },
   "outputs": [],
   "source": [
    "# Priors on unknown parameters\n",
    "from pymc3 import Normal, Gamma, Potential, sample, Model, NUTS, find_MAP\n",
    "with Model() as phase_model:\n",
    "    H_ex = Normal('H_ex', mu=0, sd=1000)\n",
    "    S_ex = Normal('S_ex', mu=0, sd=50)\n",
    "    L2_ex = Normal('L2_ex', mu=0, sd=10)\n",
    "    ds_var = Gamma('ds_var', alpha=np.full_like(datasets, 0.1, dtype=np.float), beta=np.full_like(datasets, 0.1, dtype=np.float), shape=len(datasets))\n",
    "    # datasets is defined elsewhere\n",
    "    e = []\n",
    "    for idx, dataset in enumerate(datasets):\n",
    "        e.append(Potential('e_{}'.format(idx), -(np.square(dataset['func'](H_ex, S_ex, L2_ex, dataset['T'], dataset['x_a'], dataset['x_b']) - dataset['value'])).mean() / ds_var[idx]))"
   ]
  },
  {
   "cell_type": "code",
   "execution_count": null,
   "metadata": {
    "collapsed": false
   },
   "outputs": [],
   "source": [
    "from pymc3 import Metropolis, find_MAP\n",
    "with phase_model:\n",
    "    #start = find_MAP()\n",
    "    step = Metropolis()\n",
    "    full_trace = sample(100000, step, progressbar=True)\n",
    "    burnin = 80000\n",
    "    thin = 2\n",
    "    trace = full_trace[burnin::thin]"
   ]
  },
  {
   "cell_type": "code",
   "execution_count": null,
   "metadata": {
    "collapsed": false
   },
   "outputs": [],
   "source": [
    "from pymc3 import summary, autocorrplot, traceplot\n",
    "summary(trace, vars=['H_ex', 'S_ex', 'L2_ex'])\n",
    "autocorrplot(trace, vars=['H_ex', 'S_ex', 'L2_ex'])\n",
    "plt.show()"
   ]
  },
  {
   "cell_type": "code",
   "execution_count": null,
   "metadata": {
    "collapsed": false
   },
   "outputs": [],
   "source": [
    "traceplot(trace)\n",
    "plt.show()"
   ]
  },
  {
   "cell_type": "code",
   "execution_count": null,
   "metadata": {
    "collapsed": false
   },
   "outputs": [],
   "source": [
    "%matplotlib inline\n",
    "from corner import corner\n",
    "from itertools import chain\n",
    "data = np.vstack(chain([trace['H_ex'], trace['S_ex'], trace['L2_ex']])).T\n",
    "corner(data, labels=[r\"$H_{ex}$\", r\"$S_{ex}$\", r\"$L^2_{ex}$\"],\n",
    "       truths=[true_H_ex, true_S_ex, true_L2_ex],\n",
    "       quantiles=[0.16, 0.5, 0.84],\n",
    "       show_titles=True, title_args={\"fontsize\": 40}).show()"
   ]
  },
  {
   "cell_type": "code",
   "execution_count": null,
   "metadata": {
    "collapsed": false
   },
   "outputs": [],
   "source": [
    "S_ex_tr, H_ex_tr = (trace['S_ex'], trace['H_ex'])\n",
    "Tfit = np.linspace(300, 2000, 100)\n",
    "Efit = energy(H_ex_tr[:, None], S_ex_tr[:, None], trace['L2_ex'][:, None], Tfit, 0.5, 0.5)\n",
    "true_y = energy(true_H_ex, true_S_ex, true_L2_ex, Tfit, 0.5, 0.5)\n",
    "mu = Efit.mean(axis=0)\n",
    "sigma = 2 * Efit.std(axis=0)\n",
    "plt.plot(Tfit, mu, '-k')\n",
    "plt.plot(Tfit, true_y, '--')\n",
    "plt.fill_between(Tfit, mu - sigma, mu + sigma, color='lightgray')\n",
    "\n",
    "plt.xlabel('T')\n",
    "plt.ylabel('Molar Gibbs Energy at x_a=0.5')"
   ]
  },
  {
   "cell_type": "code",
   "execution_count": null,
   "metadata": {
    "collapsed": true
   },
   "outputs": [],
   "source": [
    "temp = 300 # temperature of interest"
   ]
  },
  {
   "cell_type": "code",
   "execution_count": null,
   "metadata": {
    "collapsed": false
   },
   "outputs": [],
   "source": [
    "S_ex_tr, H_ex_tr = (trace['S_ex'], trace['H_ex'])\n",
    "Tfit = np.linspace(300, 2000, 100)\n",
    "Cfit = heat_capacity(H_ex_tr[:, None], S_ex_tr[:, None], trace['L2_ex'][:, None], Tfit, 0.5, 0.5)\n",
    "true_y = heat_capacity(true_H_ex, true_S_ex, true_L2_ex, Tfit, 0.5, 0.5)\n",
    "mu = Cfit.mean(axis=0)\n",
    "sigma = 2 * Cfit.std(axis=0)\n",
    "plt.plot(Tfit, mu, '-k')\n",
    "plt.plot(Tfit, true_y, '--')\n",
    "plt.fill_between(Tfit, mu - sigma, mu + sigma, color='lightgray')\n",
    "\n",
    "plt.xlabel('T')\n",
    "plt.ylabel('Molar Heat Capacity at x_a=0.5')"
   ]
  },
  {
   "cell_type": "code",
   "execution_count": null,
   "metadata": {
    "collapsed": false
   },
   "outputs": [],
   "source": [
    "S_ex_tr, H_ex_tr = (trace['S_ex'], trace['H_ex'])\n",
    "xfit = np.linspace(1e-8, 1.-1e-8, 100)\n",
    "yfit = energy(H_ex_tr[:, None], S_ex_tr[:, None], trace['L2_ex'][:, None], temp, xfit, 1-xfit)\n",
    "true_y = energy(true_H_ex, true_S_ex, true_L2_ex, temp, xfit, 1-xfit)\n",
    "mu = yfit.mean(axis=0)\n",
    "sigma = 2 * yfit.std(axis=0)\n",
    "plt.plot(xfit, mu, '-k')\n",
    "plt.plot(xfit, true_y, '--')\n",
    "plt.fill_between(xfit, mu - sigma, mu + sigma, color='lightgray')\n",
    "\n",
    "plt.xlim(0,1)\n",
    "plt.xlabel('x_a')\n",
    "plt.ylabel('Molar Gibbs Energy at T = {} K'.format(temp))"
   ]
  },
  {
   "cell_type": "code",
   "execution_count": null,
   "metadata": {
    "collapsed": false
   },
   "outputs": [],
   "source": [
    "S_ex_tr, H_ex_tr = (trace['S_ex'], trace['H_ex'])\n",
    "xfit = np.linspace(1e-8, 1.-1e-8, 100)\n",
    "yfit = entropy(H_ex_tr[:, None], S_ex_tr[:, None], trace['L2_ex'][:, None], temp, xfit, 1-xfit)\n",
    "true_y = entropy(true_H_ex, true_S_ex, true_L2_ex, temp, xfit, 1-xfit)\n",
    "mu = yfit.mean(axis=0)\n",
    "sigma = 2 * yfit.std(axis=0)\n",
    "plt.plot(xfit, mu, '-k')\n",
    "plt.plot(xfit, true_y, '--')\n",
    "plt.fill_between(xfit, mu - sigma, mu + sigma, color='lightgray')\n",
    "\n",
    "plt.xlabel('x_a')\n",
    "plt.ylabel('Molar Entropy at T = {} K'.format(temp))"
   ]
  },
  {
   "cell_type": "code",
   "execution_count": null,
   "metadata": {
    "collapsed": false
   },
   "outputs": [],
   "source": [
    "S_ex_tr, H_ex_tr = (trace['S_ex'], trace['H_ex'])\n",
    "xfit = np.linspace(1e-8, 1.-1e-8, 100)\n",
    "yfit = enthalpy(H_ex_tr[:, None], S_ex_tr[:, None], trace['L2_ex'][:, None], temp, xfit, 1-xfit)\n",
    "true_y = enthalpy(true_H_ex, true_S_ex, true_L2_ex, temp, xfit, 1-xfit)\n",
    "mu = yfit.mean(axis=0)\n",
    "sigma = 2 * yfit.std(axis=0)\n",
    "plt.plot(xfit, mu, '-k')\n",
    "plt.plot(xfit, true_y, '--')\n",
    "plt.fill_between(xfit, mu - sigma, mu + sigma, color='lightgray')\n",
    "\n",
    "plt.xlabel('x_a')\n",
    "plt.ylabel('Molar Enthalpy at T = {} K'.format(temp))"
   ]
  },
  {
   "cell_type": "code",
   "execution_count": null,
   "metadata": {
    "collapsed": true
   },
   "outputs": [],
   "source": []
  }
 ],
 "metadata": {
  "kernelspec": {
   "display_name": "Python 2",
   "language": "python",
   "name": "python2"
  },
  "language_info": {
   "codemirror_mode": {
    "name": "ipython",
    "version": 2
   },
   "file_extension": ".py",
   "mimetype": "text/x-python",
   "name": "python",
   "nbconvert_exporter": "python",
   "pygments_lexer": "ipython2",
   "version": "2.7.10"
  }
 },
 "nbformat": 4,
 "nbformat_minor": 0
}
