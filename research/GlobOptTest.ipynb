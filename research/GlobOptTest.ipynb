{
 "cells": [
  {
   "cell_type": "code",
   "execution_count": 1,
   "metadata": {
    "collapsed": false
   },
   "outputs": [],
   "source": [
    "from pycalphad.model import TestModel\n",
    "import pycalphad\n",
    "import pycalphad.variables as v\n",
    "from pycalphad.core.halton import halton\n",
    "import numpy as np\n",
    "rng = np.random.RandomState(1769)"
   ]
  },
  {
   "cell_type": "code",
   "execution_count": 2,
   "metadata": {
    "collapsed": false
   },
   "outputs": [],
   "source": [
    "def sample_quasi(comp_count, pdof=10):\n",
    "    \"\"\"\n",
    "    Sample 'pdof * (sum(comp_count) - len(comp_count))' points in\n",
    "    composition space for the sublattice configuration specified\n",
    "    by 'comp_count'. Points are sampled quasi-randomly from a Halton sequence.\n",
    "    A Halton sequence is like a uniform random distribution, but the\n",
    "    result will always be the same for a given 'comp_count' and 'pdof'.\n",
    "    Note: For systems with only one component, only one point will be\n",
    "    returned, regardless of 'pdof'. This is because the degrees of freedom\n",
    "    are zero for that case.\n",
    "\n",
    "    Parameters\n",
    "    ----------\n",
    "    comp_count : list\n",
    "        Number of components in each sublattice.\n",
    "    pdof : int\n",
    "        Number of points to sample per degree of freedom.\n",
    "\n",
    "    Returns\n",
    "    -------\n",
    "    ndarray of generated points satisfying the mass balance.\n",
    "\n",
    "    Examples\n",
    "    --------\n",
    "    >>> comps = [8,1] # 8 components in sublattice 1; only 1 in sublattice 2\n",
    "    >>> pts = point_sample(comps, pdof=20) # 7 d.o.f, returns a 140x7 ndarray\n",
    "    \"\"\"\n",
    "    # Generate Halton sequence with appropriate dimensions and size\n",
    "    pts = halton(sum(comp_count),\n",
    "                 pdof * (sum(comp_count) - len(comp_count)), scramble=True)\n",
    "    # Convert low-discrepancy sequence to normalized exponential\n",
    "    # This will be uniformly distributed over the simplices\n",
    "    pts = -np.log(pts)\n",
    "    cur_idx = 0\n",
    "    for ctx in comp_count:\n",
    "        end_idx = cur_idx + ctx\n",
    "        pts[:, cur_idx:end_idx] /= pts[:, cur_idx:end_idx].sum(axis=1)[:, None]\n",
    "        cur_idx = end_idx\n",
    "\n",
    "    if len(pts) == 0:\n",
    "        pts = np.atleast_2d([1] * len(comp_count))\n",
    "    return pts\n",
    "def sample_pseudo(comp_count, pdof=10):\n",
    "    \"\"\"\n",
    "    Sample 'pdof * (sum(comp_count) - len(comp_count))' points in\n",
    "    composition space for the sublattice configuration specified\n",
    "    by 'comp_count'. Points are sampled pseudo-randomly from a symmetric\n",
    "    Dirichlet distribution.\n",
    "    Note: For systems with only one component, only one point will be\n",
    "    returned, regardless of 'pdof'. This is because the degrees of freedom\n",
    "    are zero for that case.\n",
    "\n",
    "    Parameters\n",
    "    ----------\n",
    "    comp_count : list\n",
    "        Number of components in each sublattice.\n",
    "    pdof : int\n",
    "        Number of points to sample per degree of freedom.\n",
    "\n",
    "    Returns\n",
    "    -------\n",
    "    ndarray of generated points satisfying the mass balance.\n",
    "\n",
    "    Examples\n",
    "    --------\n",
    "    >>> comps = [8,1] # 8 components in sublattice 1; only 1 in sublattice 2\n",
    "    >>> pts = point_sample(comps, pdof=20) # 7 d.o.f, returns a 140x7 ndarray\n",
    "    \"\"\"\n",
    "    # Generate Halton sequence with appropriate dimensions and size\n",
    "    pts = np.empty((pdof * (sum(comp_count) - len(comp_count)), sum(comp_count), ))\n",
    "    cur_idx = 0\n",
    "    for ctx in comp_count:\n",
    "        end_idx = cur_idx + ctx\n",
    "        pts[:, cur_idx:end_idx] = rng.dirichlet(np.ones(ctx, dtype=np.int),\n",
    "                                                size=(pdof * (sum(comp_count) - len(comp_count))))\n",
    "        cur_idx = end_idx\n",
    "    if len(pts) == 0:\n",
    "        pts = np.atleast_2d([1] * len(comp_count))\n",
    "    return pts\n",
    "def test_opt(num_components, num_samples, sampler):\n",
    "    result_array = np.empty((num_samples))\n",
    "    comps = ['X{}'.format(i+1) for i in range(num_components)]\n",
    "    for idx in range(num_samples):\n",
    "        solution = rng.dirichlet(np.ones_like(comps, dtype=np.int))\n",
    "        tm = TestModel(None, comps, 'TEST', solution=solution, kmax=2)\n",
    "        dbf = pycalphad.Database()\n",
    "        dbf.add_phase('TEST', {}, [1])\n",
    "        dbf.add_phase_constituents('TEST', [comps])\n",
    "        conds = {v.P:101325, v.T:300}\n",
    "        conds.update({v.X(i):sol for i, sol in list(zip(comps, solution))[:-1]})\n",
    "        grid_opts = {'sampler': sampler}\n",
    "        eq = pycalphad.equilibrium(dbf, comps, 'TEST', conds, model=tm, verbose=False, grid_opts=grid_opts)\n",
    "        if eq.GM < 10:\n",
    "            result_array[idx] = eq.attrs['iterations']\n",
    "        else:\n",
    "            print(eq)\n",
    "            print(solution)\n",
    "            result_array[idx] = np.nan\n",
    "    return result_array"
   ]
  },
  {
   "cell_type": "code",
   "execution_count": 3,
   "metadata": {
    "collapsed": false,
    "scrolled": true
   },
   "outputs": [
    {
     "name": "stderr",
     "output_type": "stream",
     "text": [
      "pycalphad ERROR 2016-01-27 13:50:27,563 [lower_convex_hull 266] Iterations exceeded\n"
     ]
    },
    {
     "name": "stdout",
     "output_type": "stream",
     "text": [
      "Iterations exceeded. Remaining driving force:  2.82921659719e-07\n",
      "Iterations exceeded. Remaining driving force: "
     ]
    },
    {
     "name": "stderr",
     "output_type": "stream",
     "text": [
      "pycalphad ERROR 2016-01-27 13:50:27,647 [lower_convex_hull 266] Iterations exceeded\n"
     ]
    },
    {
     "name": "stdout",
     "output_type": "stream",
     "text": [
      " 2.82921659719e-07\n",
      "Iterations exceeded. Remaining driving force: "
     ]
    },
    {
     "name": "stderr",
     "output_type": "stream",
     "text": [
      "pycalphad ERROR 2016-01-27 13:50:58,690 [lower_convex_hull 266] Iterations exceeded\n"
     ]
    },
    {
     "name": "stdout",
     "output_type": "stream",
     "text": [
      " 7.10015194817e-07\n",
      "Iterations exceeded. Remaining driving force: "
     ]
    },
    {
     "name": "stderr",
     "output_type": "stream",
     "text": [
      "pycalphad ERROR 2016-01-27 13:50:58,775 [lower_convex_hull 266] Iterations exceeded\n"
     ]
    },
    {
     "name": "stdout",
     "output_type": "stream",
     "text": [
      " 7.10015194817e-07\n",
      "Iterations exceeded. Remaining driving force: "
     ]
    },
    {
     "name": "stderr",
     "output_type": "stream",
     "text": [
      "pycalphad ERROR 2016-01-27 13:51:14,500 [lower_convex_hull 266] Iterations exceeded\n"
     ]
    },
    {
     "name": "stdout",
     "output_type": "stream",
     "text": [
      " 7.59736749358e-07\n",
      "Iterations exceeded. Remaining driving force: "
     ]
    },
    {
     "name": "stderr",
     "output_type": "stream",
     "text": [
      "pycalphad ERROR 2016-01-27 13:51:14,626 [lower_convex_hull 266] Iterations exceeded\n"
     ]
    },
    {
     "name": "stdout",
     "output_type": "stream",
     "text": [
      " 1.05821659044e-06\n",
      "Iterations exceeded. Remaining driving force: "
     ]
    },
    {
     "name": "stderr",
     "output_type": "stream",
     "text": [
      "pycalphad ERROR 2016-01-27 13:51:14,711 [lower_convex_hull 266] Iterations exceeded\n"
     ]
    },
    {
     "name": "stdout",
     "output_type": "stream",
     "text": [
      " 1.05821659044e-06\n",
      "Iterations exceeded. Remaining driving force: "
     ]
    },
    {
     "name": "stderr",
     "output_type": "stream",
     "text": [
      "pycalphad ERROR 2016-01-27 13:51:46,231 [lower_convex_hull 266] Iterations exceeded\n"
     ]
    },
    {
     "name": "stdout",
     "output_type": "stream",
     "text": [
      " 4.39723565245e-06\n",
      "Iterations exceeded. Remaining driving force: "
     ]
    },
    {
     "name": "stderr",
     "output_type": "stream",
     "text": [
      "pycalphad ERROR 2016-01-27 13:51:46,367 [lower_convex_hull 266] Iterations exceeded\n"
     ]
    },
    {
     "name": "stdout",
     "output_type": "stream",
     "text": [
      " 7.50796579598e-06\n",
      "Iterations exceeded. Remaining driving force: "
     ]
    },
    {
     "name": "stderr",
     "output_type": "stream",
     "text": [
      "pycalphad ERROR 2016-01-27 13:51:46,453 [lower_convex_hull 266] Iterations exceeded\n"
     ]
    },
    {
     "name": "stdout",
     "output_type": "stream",
     "text": [
      " 7.50796579598e-06\n",
      "Iterations exceeded. Remaining driving force: "
     ]
    },
    {
     "name": "stderr",
     "output_type": "stream",
     "text": [
      "pycalphad ERROR 2016-01-27 13:51:54,610 [lower_convex_hull 266] Iterations exceeded\n"
     ]
    },
    {
     "name": "stdout",
     "output_type": "stream",
     "text": [
      " 9.96050714949e-07\n",
      "Iterations exceeded. Remaining driving force: "
     ]
    },
    {
     "name": "stderr",
     "output_type": "stream",
     "text": [
      "pycalphad ERROR 2016-01-27 13:51:54,752 [lower_convex_hull 266] Iterations exceeded\n"
     ]
    },
    {
     "name": "stdout",
     "output_type": "stream",
     "text": [
      " 2.47479264333e-06\n",
      "Iterations exceeded. Remaining driving force: "
     ]
    },
    {
     "name": "stderr",
     "output_type": "stream",
     "text": [
      "pycalphad ERROR 2016-01-27 13:51:54,837 [lower_convex_hull 266] Iterations exceeded\n"
     ]
    },
    {
     "name": "stdout",
     "output_type": "stream",
     "text": [
      " 2.47479264333e-06\n",
      "Iterations exceeded. Remaining driving force: "
     ]
    },
    {
     "name": "stderr",
     "output_type": "stream",
     "text": [
      "pycalphad ERROR 2016-01-27 13:52:04,825 [lower_convex_hull 266] Iterations exceeded\n"
     ]
    },
    {
     "name": "stdout",
     "output_type": "stream",
     "text": [
      " 3.60809759992e-07\n",
      "Iterations exceeded. Remaining driving force: "
     ]
    },
    {
     "name": "stderr",
     "output_type": "stream",
     "text": [
      "pycalphad ERROR 2016-01-27 13:52:04,951 [lower_convex_hull 266] Iterations exceeded\n"
     ]
    },
    {
     "name": "stdout",
     "output_type": "stream",
     "text": [
      " 7.57157407344e-07\n",
      "Iterations exceeded. Remaining driving force: "
     ]
    },
    {
     "name": "stderr",
     "output_type": "stream",
     "text": [
      "pycalphad ERROR 2016-01-27 13:52:05,034 [lower_convex_hull 266] Iterations exceeded\n"
     ]
    },
    {
     "name": "stdout",
     "output_type": "stream",
     "text": [
      " 7.57157407344e-07\n",
      "Iterations exceeded. Remaining driving force: "
     ]
    },
    {
     "name": "stderr",
     "output_type": "stream",
     "text": [
      "pycalphad ERROR 2016-01-27 13:53:22,388 [lower_convex_hull 266] Iterations exceeded\n"
     ]
    },
    {
     "name": "stdout",
     "output_type": "stream",
     "text": [
      " 0.00274068047942\n",
      "Iterations exceeded. Remaining driving force: "
     ]
    },
    {
     "name": "stderr",
     "output_type": "stream",
     "text": [
      "pycalphad ERROR 2016-01-27 13:53:22,525 [lower_convex_hull 266] Iterations exceeded\n"
     ]
    },
    {
     "name": "stdout",
     "output_type": "stream",
     "text": [
      " 0.0063689085811\n",
      "Iterations exceeded. Remaining driving force: "
     ]
    },
    {
     "name": "stderr",
     "output_type": "stream",
     "text": [
      "pycalphad ERROR 2016-01-27 13:53:22,618 [lower_convex_hull 266] Iterations exceeded\n"
     ]
    },
    {
     "name": "stdout",
     "output_type": "stream",
     "text": [
      " 0.0063689085811\n",
      "Iterations exceeded. Remaining driving force: "
     ]
    },
    {
     "name": "stderr",
     "output_type": "stream",
     "text": [
      "pycalphad ERROR 2016-01-27 13:53:42,167 [lower_convex_hull 266] Iterations exceeded\n"
     ]
    },
    {
     "name": "stdout",
     "output_type": "stream",
     "text": [
      " 3.81352366657e-07\n",
      "Iterations exceeded. Remaining driving force: "
     ]
    },
    {
     "name": "stderr",
     "output_type": "stream",
     "text": [
      "pycalphad ERROR 2016-01-27 13:53:42,301 [lower_convex_hull 266] Iterations exceeded\n"
     ]
    },
    {
     "name": "stdout",
     "output_type": "stream",
     "text": [
      " 3.74323052441e-07\n",
      "Iterations exceeded. Remaining driving force: "
     ]
    },
    {
     "name": "stderr",
     "output_type": "stream",
     "text": [
      "pycalphad ERROR 2016-01-27 13:53:42,434 [lower_convex_hull 266] Iterations exceeded\n"
     ]
    },
    {
     "name": "stdout",
     "output_type": "stream",
     "text": [
      " 1.14417165082e-06\n",
      "Iterations exceeded. Remaining driving force: "
     ]
    },
    {
     "name": "stderr",
     "output_type": "stream",
     "text": [
      "pycalphad ERROR 2016-01-27 13:53:42,560 [lower_convex_hull 266] Iterations exceeded\n"
     ]
    },
    {
     "name": "stdout",
     "output_type": "stream",
     "text": [
      " 1.55382458747e-06\n",
      "Iterations exceeded. Remaining driving force: "
     ]
    },
    {
     "name": "stderr",
     "output_type": "stream",
     "text": [
      "pycalphad ERROR 2016-01-27 13:53:42,645 [lower_convex_hull 266] Iterations exceeded\n"
     ]
    },
    {
     "name": "stdout",
     "output_type": "stream",
     "text": [
      " 1.55382458747e-06\n",
      "Iterations exceeded. Remaining driving force: "
     ]
    },
    {
     "name": "stderr",
     "output_type": "stream",
     "text": [
      "pycalphad ERROR 2016-01-27 13:54:00,754 [lower_convex_hull 266] Iterations exceeded\n"
     ]
    },
    {
     "name": "stdout",
     "output_type": "stream",
     "text": [
      " 1.31930971909e-07\n",
      "Iterations exceeded. Remaining driving force: "
     ]
    },
    {
     "name": "stderr",
     "output_type": "stream",
     "text": [
      "pycalphad ERROR 2016-01-27 13:54:00,838 [lower_convex_hull 266] Iterations exceeded\n"
     ]
    },
    {
     "name": "stdout",
     "output_type": "stream",
     "text": [
      " 1.31930971909e-07\n",
      "Iterations exceeded. Remaining driving force: "
     ]
    },
    {
     "name": "stderr",
     "output_type": "stream",
     "text": [
      "pycalphad ERROR 2016-01-27 13:55:00,633 [lower_convex_hull 266] Iterations exceeded\n"
     ]
    },
    {
     "name": "stdout",
     "output_type": "stream",
     "text": [
      " 6.34290123562e-07\n",
      "Iterations exceeded. Remaining driving force: "
     ]
    },
    {
     "name": "stderr",
     "output_type": "stream",
     "text": [
      "pycalphad ERROR 2016-01-27 13:55:00,770 [lower_convex_hull 266] Iterations exceeded\n"
     ]
    },
    {
     "name": "stdout",
     "output_type": "stream",
     "text": [
      " 7.19170718255e-07\n",
      "Iterations exceeded. Remaining driving force: "
     ]
    },
    {
     "name": "stderr",
     "output_type": "stream",
     "text": [
      "pycalphad ERROR 2016-01-27 13:55:00,864 [lower_convex_hull 266] Iterations exceeded\n"
     ]
    },
    {
     "name": "stdout",
     "output_type": "stream",
     "text": [
      " 7.19170718255e-07\n",
      "Iterations exceeded. Remaining driving force: "
     ]
    },
    {
     "name": "stderr",
     "output_type": "stream",
     "text": [
      "pycalphad ERROR 2016-01-27 13:55:19,171 [lower_convex_hull 266] Iterations exceeded\n"
     ]
    },
    {
     "name": "stdout",
     "output_type": "stream",
     "text": [
      " 6.64001476392e-07\n",
      "Iterations exceeded. Remaining driving force: "
     ]
    },
    {
     "name": "stderr",
     "output_type": "stream",
     "text": [
      "pycalphad ERROR 2016-01-27 13:55:19,257 [lower_convex_hull 266] Iterations exceeded\n"
     ]
    },
    {
     "name": "stdout",
     "output_type": "stream",
     "text": [
      " 6.64001476392e-07\n",
      "Iterations exceeded. Remaining driving force: "
     ]
    },
    {
     "name": "stderr",
     "output_type": "stream",
     "text": [
      "pycalphad ERROR 2016-01-27 13:56:12,076 [lower_convex_hull 266] Iterations exceeded\n"
     ]
    },
    {
     "name": "stdout",
     "output_type": "stream",
     "text": [
      " 1.2437542027e-06\n",
      "Iterations exceeded. Remaining driving force: "
     ]
    },
    {
     "name": "stderr",
     "output_type": "stream",
     "text": [
      "pycalphad ERROR 2016-01-27 13:56:12,202 [lower_convex_hull 266] Iterations exceeded\n"
     ]
    },
    {
     "name": "stdout",
     "output_type": "stream",
     "text": [
      " 1.4574819291e-05\n",
      "Iterations exceeded. Remaining driving force: "
     ]
    },
    {
     "name": "stderr",
     "output_type": "stream",
     "text": [
      "pycalphad ERROR 2016-01-27 13:56:12,329 [lower_convex_hull 266] Iterations exceeded\n"
     ]
    },
    {
     "name": "stdout",
     "output_type": "stream",
     "text": [
      " 3.55664341043e-06\n",
      "Iterations exceeded. Remaining driving force: "
     ]
    },
    {
     "name": "stderr",
     "output_type": "stream",
     "text": [
      "pycalphad ERROR 2016-01-27 13:56:12,455 [lower_convex_hull 266] Iterations exceeded\n"
     ]
    },
    {
     "name": "stdout",
     "output_type": "stream",
     "text": [
      " 4.60946202602e-06\n",
      "Iterations exceeded. Remaining driving force: "
     ]
    },
    {
     "name": "stderr",
     "output_type": "stream",
     "text": [
      "pycalphad ERROR 2016-01-27 13:56:12,540 [lower_convex_hull 266] Iterations exceeded\n"
     ]
    },
    {
     "name": "stdout",
     "output_type": "stream",
     "text": [
      " 4.60946202602e-06\n",
      "Iterations exceeded. Remaining driving force: "
     ]
    },
    {
     "name": "stderr",
     "output_type": "stream",
     "text": [
      "pycalphad ERROR 2016-01-27 13:56:31,528 [lower_convex_hull 266] Iterations exceeded\n"
     ]
    },
    {
     "name": "stdout",
     "output_type": "stream",
     "text": [
      " 2.71813849835e-07\n",
      "Iterations exceeded. Remaining driving force: "
     ]
    },
    {
     "name": "stderr",
     "output_type": "stream",
     "text": [
      "pycalphad ERROR 2016-01-27 13:56:31,660 [lower_convex_hull 266] Iterations exceeded\n"
     ]
    },
    {
     "name": "stdout",
     "output_type": "stream",
     "text": [
      " 3.89919052055e-07\n",
      "Iterations exceeded. Remaining driving force: "
     ]
    },
    {
     "name": "stderr",
     "output_type": "stream",
     "text": [
      "pycalphad ERROR 2016-01-27 13:56:31,744 [lower_convex_hull 266] Iterations exceeded\n"
     ]
    },
    {
     "name": "stdout",
     "output_type": "stream",
     "text": [
      " 3.89919052055e-07\n",
      "Iterations exceeded. Remaining driving force: "
     ]
    },
    {
     "name": "stderr",
     "output_type": "stream",
     "text": [
      "pycalphad ERROR 2016-01-27 13:56:50,050 [lower_convex_hull 266] Iterations exceeded\n"
     ]
    },
    {
     "name": "stdout",
     "output_type": "stream",
     "text": [
      " 4.38915566007e-05\n",
      "Iterations exceeded. Remaining driving force: "
     ]
    },
    {
     "name": "stderr",
     "output_type": "stream",
     "text": [
      "pycalphad ERROR 2016-01-27 13:56:50,176 [lower_convex_hull 266] Iterations exceeded\n"
     ]
    },
    {
     "name": "stdout",
     "output_type": "stream",
     "text": [
      " 6.45463751322e-05\n",
      "Iterations exceeded. Remaining driving force: "
     ]
    },
    {
     "name": "stderr",
     "output_type": "stream",
     "text": [
      "pycalphad ERROR 2016-01-27 13:56:50,258 [lower_convex_hull 266] Iterations exceeded\n"
     ]
    },
    {
     "name": "stdout",
     "output_type": "stream",
     "text": [
      " 6.45463751322e-05\n",
      "CPU times: user 15min 37s, sys: 20min 25s, total: 36min 3s\n",
      "Wall time: 11min 2s\n"
     ]
    }
   ],
   "source": [
    "%%time\n",
    "comp_iters_pseudo = []\n",
    "comp_iters_quasi = []\n",
    "max_comps = 4\n",
    "for num_comps in range(2, max_comps+1):\n",
    "    results_pseudo = test_opt(num_comps, 25, sample_pseudo)\n",
    "    results_quasi = test_opt(num_comps, 25, sample_quasi)\n",
    "    comp_iters_pseudo.append(results_pseudo)\n",
    "    comp_iters_quasi.append(results_quasi)\n",
    "comp_iters_pseudo = np.array(comp_iters_pseudo, dtype=np.float)\n",
    "comp_iters_quasi = np.array(comp_iters_quasi, dtype=np.float)"
   ]
  },
  {
   "cell_type": "code",
   "execution_count": 4,
   "metadata": {
    "collapsed": false
   },
   "outputs": [
    {
     "data": {
      "image/png": "[encoded data removed]",
      "text/plain": [
       "<matplotlib.figure.Figure at 0x7fcd8887ce10>"
      ]
     },
     "metadata": {},
     "output_type": "display_data"
    }
   ],
   "source": [
    "%matplotlib inline\n",
    "import matplotlib\n",
    "import matplotlib.pyplot as plt\n",
    "matplotlib.style.use('bmh')\n",
    "ax = plt.figure()\n",
    "plt.errorbar(np.arange(2, max_comps+1), np.nanmean(comp_iters_pseudo, axis=1),\n",
    "             yerr=np.nanstd(comp_iters_pseudo, axis=1), label='Pseudo')\n",
    "plt.errorbar(np.arange(2, max_comps+1), np.nanmean(comp_iters_quasi, axis=1),\n",
    "             yerr=np.nanstd(comp_iters_quasi, axis=1), label='Quasi')\n",
    "plt.ylim((0,None))\n",
    "plt.xticks(list(range(1, max_comps+2)))\n",
    "plt.xlabel('Number of Components')\n",
    "plt.ylabel('Number of Iterations')\n",
    "plt.legend(loc='best')\n",
    "plt.show()"
   ]
  },
  {
   "cell_type": "code",
   "execution_count": 5,
   "metadata": {
    "collapsed": false
   },
   "outputs": [
    {
     "data": {
      "text/plain": [
       "array([[ 15.,  13.,  18.,  14.,  14.,  16.,  17.,  17.,  14.,  18.,  13.,\n",
       "         17.,  15.,  16.,  16.,  15.,  14.,  14.,  17.,  13.,  16.,  17.,\n",
       "         17.,  16.,  16.],\n",
       "       [ 38.,  40.,  42.,  37.,  41.,  37.,  42.,  37.,  33.,  39.,  34.,\n",
       "         35.,  40.,  42.,  32.,  33.,  35.,  33.,  36.,  36.,  45.,  36.,\n",
       "         38.,  31.,  38.],\n",
       "       [ 66.,  66.,  47.,  69.,  68.,  59.,  61.,  75.,  66.,  66.,  62.,\n",
       "         64.,  64.,  70.,  57.,  60.,  66.,  67.,  67.,  64.,  63.,  65.,\n",
       "         67.,  69.,  59.]])"
      ]
     },
     "execution_count": 5,
     "metadata": {},
     "output_type": "execute_result"
    }
   ],
   "source": [
    "comp_iters_quasi"
   ]
  },
  {
   "cell_type": "code",
   "execution_count": 6,
   "metadata": {
    "collapsed": false
   },
   "outputs": [
    {
     "data": {
      "text/plain": [
       "array([[ 15.,  16.,  17.,  16.,  18.,  17.,  15.,  18.,  15.,  16.,  14.,\n",
       "         15.,  14.,  17.,  15.,  14.,  16.,  16.,  15.,  15.,  16.,  17.,\n",
       "         12.,  15.,  14.],\n",
       "       [ 40.,  35.,  34.,  40.,  42.,  39.,  33.,  41.,  35.,  35.,  39.,\n",
       "         39.,  33.,  42.,  39.,  36.,  35.,  32.,  34.,  35.,  40.,  39.,\n",
       "         32.,  35.,  37.],\n",
       "       [ 68.,  71.,  68.,  73.,  72.,  63.,  60.,  59.,  66.,  62.,  63.,\n",
       "         66.,  59.,  61.,  69.,  65.,  58.,  62.,  61.,  63.,  68.,  62.,\n",
       "         67.,  65.,  74.]])"
      ]
     },
     "execution_count": 6,
     "metadata": {},
     "output_type": "execute_result"
    }
   ],
   "source": [
    "comp_iters_pseudo"
   ]
  },
  {
   "cell_type": "code",
   "execution_count": null,
   "metadata": {
    "collapsed": true
   },
   "outputs": [],
   "source": []
  }
 ],
 "metadata": {
  "kernelspec": {
   "display_name": "Python 3",
   "language": "python",
   "name": "python3"
  },
  "language_info": {
   "codemirror_mode": {
    "name": "ipython",
    "version": 3
   },
   "file_extension": ".py",
   "mimetype": "text/x-python",
   "name": "python",
   "nbconvert_exporter": "python",
   "pygments_lexer": "ipython3",
   "version": "3.5.1"
  }
 },
 "nbformat": 4,
 "nbformat_minor": 0
}
