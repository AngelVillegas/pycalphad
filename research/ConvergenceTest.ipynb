{
 "cells": [
  {
   "cell_type": "code",
   "execution_count": 1,
   "metadata": {
    "collapsed": true
   },
   "outputs": [],
   "source": [
    "# Uncomment lines below for the (verbose) debugging mode\n",
    "#import pycalphad.log\n",
    "#pycalphad.log.debug_mode()"
   ]
  },
  {
   "cell_type": "code",
   "execution_count": 2,
   "metadata": {
    "collapsed": false
   },
   "outputs": [],
   "source": [
    "%matplotlib inline\n",
    "import matplotlib.pyplot as plt\n",
    "from pycalphad.eq.equilibrium import Equilibrium\n",
    "from pycalphad import Database, Model\n",
    "import pycalphad.variables as v"
   ]
  },
  {
   "cell_type": "code",
   "execution_count": 4,
   "metadata": {
    "collapsed": false
   },
   "outputs": [
    {
     "name": "stdout",
     "output_type": "stream",
     "text": [
      "{400: <pycalphad.eq.equilibrium.Equilibrium object at 0x7f0d37a47350>, 600: <pycalphad.eq.equilibrium.Equilibrium object at 0x7f0d3801d050>, 700: <pycalphad.eq.equilibrium.Equilibrium object at 0x7f0d38140050>, 100: <pycalphad.eq.equilibrium.Equilibrium object at 0x7f0d37fe1c10>, 1000: <pycalphad.eq.equilibrium.Equilibrium object at 0x7f0d37f49310>, 2000: <pycalphad.eq.equilibrium.Equilibrium object at 0x7f0d37973cd0>, 200: <pycalphad.eq.equilibrium.Equilibrium object at 0x7f0d3b478810>, 500: <pycalphad.eq.equilibrium.Equilibrium object at 0x7f0d37af60d0>, 900: <pycalphad.eq.equilibrium.Equilibrium object at 0x7f0d3746dd50>, 300: <pycalphad.eq.equilibrium.Equilibrium object at 0x7f0d3808fd90>, 800: <pycalphad.eq.equilibrium.Equilibrium object at 0x7f0d378a5f90>}\n"
     ]
    }
   ],
   "source": [
    "db_rose = Database('bigrose.tdb')\n",
    "my_phases_rose = ['TEST']\n",
    "comps = ['H', 'HE', 'LI', 'BE', 'B', 'C', 'N', 'O', 'F']#, 'NE'] \n",
    "conds = dict()\n",
    "for comp in comps[:-1]:\n",
    "    conds[v.X(comp)] = 1/len(comps)\n",
    "\n",
    "densities = [100, 200, 300, 400, 500, 600, 700, 800, 900, 1000, 2000]\n",
    "eqs = dict()\n",
    "\n",
    "for pdens in densities:\n",
    "    eqs[pdens] = Equilibrium(db_rose, comps, my_phases_rose, conds, T=1000.0, pdens=pdens)"
   ]
  },
  {
   "cell_type": "code",
   "execution_count": 9,
   "metadata": {
    "collapsed": false
   },
   "outputs": [],
   "source": [
    "energies = dict([[float(pdens), float(eq.result.energy)] for pdens, eq in eqs.items()])"
   ]
  },
  {
   "cell_type": "code",
   "execution_count": 10,
   "metadata": {
    "collapsed": false
   },
   "outputs": [
    {
     "name": "stdout",
     "output_type": "stream",
     "text": [
      "{400.0: -4653.293321086091, 1000.0: -5744.7994556656695, 100.0: -4905.493752308834, 2000.0: -5835.099176272277, 300.0: -4653.29332111132, 600.0: -4905.49375228961, 500.0: -5671.381121258633, 900.0: -5744.7994556656695, 700.0: -5113.246638417396, 200.0: -4873.546328949227, 800.0: -5754.952767135987}\n"
     ]
    }
   ],
   "source": [
    "print(energies)"
   ]
  },
  {
   "cell_type": "code",
   "execution_count": 14,
   "metadata": {
    "collapsed": false
   },
   "outputs": [
    {
     "data": {
      "text/plain": [
       "<matplotlib.collections.PathCollection at 0x7f0d370dd0d0>"
      ]
     },
     "execution_count": 14,
     "metadata": {},
     "output_type": "execute_result"
    },
    {
     "data": {
      "image/png": "[encoded data removed]",
      "text/plain": [
       "<matplotlib.figure.Figure at 0x7f0d373ddad0>"
      ]
     },
     "metadata": {},
     "output_type": "display_data"
    }
   ],
   "source": [
    "%matplotlib inline\n",
    "import matplotlib.pyplot as plt\n",
    "\n",
    "plt.scatter(list(energies.keys()), list(energies.values()))"
   ]
  },
  {
   "cell_type": "code",
   "execution_count": null,
   "metadata": {
    "collapsed": true
   },
   "outputs": [],
   "source": []
  },
  {
   "cell_type": "code",
   "execution_count": null,
   "metadata": {
    "collapsed": true
   },
   "outputs": [],
   "source": []
  }
 ],
 "metadata": {
  "kernelspec": {
   "display_name": "Python 3",
   "language": "python",
   "name": "python3"
  },
  "language_info": {
   "codemirror_mode": {
    "name": "ipython",
    "version": 3
   },
   "file_extension": ".py",
   "mimetype": "text/x-python",
   "name": "python",
   "nbconvert_exporter": "python",
   "pygments_lexer": "ipython3",
   "version": "3.3.5"
  }
 },
 "nbformat": 4,
 "nbformat_minor": 0
}
